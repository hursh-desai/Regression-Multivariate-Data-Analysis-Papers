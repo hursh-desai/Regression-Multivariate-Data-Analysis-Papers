{
 "cells": [
  {
   "cell_type": "code",
   "execution_count": 1,
   "metadata": {},
   "outputs": [],
   "source": [
    "regplot.confbands.fun <- function(x,y,confidencelevel=.95,CImean=T,PI=T,CIregline=F,legend=F){\n",
    "      #### Modified from a function written by Sandra McBride, Duke University\n",
    "\t#### For a simple linear regression line, this function\n",
    "\t#### will plot the line, CI for mean response, prediction intervals, \n",
    "\t#### and (optionally) a simulataneous CI for the regression line.\n",
    "\txx <- x[order(x)]\n",
    "\tyy <- y[order(x)]\n",
    "\tlm1 <- lm(yy~xx)\t\n",
    "\tplot(xx,yy,ylim=c(min(yy),(max(yy)+.2*max(yy))), xlab=deparse(substitute(x)), ylab=deparse(substitute(y)))\n",
    "\tabline(lm1$coefficients)\n",
    "\t#### calculation of components of intervals ####\n",
    "\tn <- length(yy)\n",
    "\tsx2 <- (var(xx))\n",
    "\tshat <- summary(lm1)$sigma\n",
    "\ts2hat <- shat^2\n",
    "\tSEmuhat <- shat*sqrt(1/n+ ((xx-mean(xx))^2)/((n-1)*sx2))\n",
    "\tSEpred <- sqrt(s2hat+SEmuhat^2)\n",
    "\tt.quantile <- qt(confidencelevel,lm1$df.residual)\n",
    "\t####\n",
    "\tif (CImean==T){\n",
    "\t\tmean.up <- lm1$fitted+t.quantile*SEmuhat\n",
    "\t\tmean.down <- lm1$fitted-t.quantile*SEmuhat\n",
    "\t\tlines(xx,mean.up,lty=2)\n",
    "\t\tlines(xx,mean.down,lty=2)\n",
    "\t}\n",
    "\tif (PI==T){\n",
    "\t\tPI.up <- lm1$fitted+t.quantile*SEpred\n",
    "\t\tPI.down <- lm1$fitted-t.quantile*SEpred\n",
    "\t\tlines(xx,PI.up,lty=3)\n",
    "\t\tlines(xx,PI.down,lty=3)\n",
    "\t}\n",
    "\tif (CIregline==T){\n",
    "\t\tHW <- sqrt(2*qf(confidencelevel,n-lm1$df.residual,lm1$df.residual))*SEmuhat\t\n",
    "\t\tCIreg.up <- lm1$fitted+HW\n",
    "\t\tCIreg.down <- lm1$fitted-HW\n",
    "\t\tlines(xx,CIreg.up,lty=4)\n",
    "\t\tlines(xx,CIreg.down,lty=4)\n",
    "\t}\t\n",
    "      if (legend==T){\n",
    "       \tchoices <- c(CImean,PI,CIregline)\n",
    "       \tline.type <- c(2,3,4)\n",
    "             names.line <- c(\"Pointwise CI for mean resp.\",\"Prediction Int.\",\"Simultaneous conf. region for entire reg. line\")\n",
    "       \tlegend(max(xx)-.2*max(xx),max(yy)+.2*max(yy),legend=names.line[choices],lty=line.type[choices])\n",
    "\t}\n",
    "}"
   ]
  },
  {
   "cell_type": "code",
   "execution_count": 1,
   "metadata": {},
   "outputs": [],
   "source": [
    "seconds <- c(2083, 2270, 2385, 1898, 0, 0, 0, 1996, 2107, 2252, 2311, 2279, 2209, 1925, 2057, 2182, 2453, 2618, 2841, 2241, 1655, 1822, 2221, 1678, 2199, 1948, 2128, 2432, 2434, 2018, 2569, 2467, 2328, 2311, 2221, 2463, 2641, 2219, 2392, 2454, 1774, 2581, 2046, 2702, 2528, 1849, 2400, 2418, 2229, 2367, 2232, 2382, 2308, 1898, 2232, 2133, 2381, 2202, 0, 2135, 2145, 2632, 2334, 2208, 1932, 2035, 2100, 2244, 2502, 1908, 2008, 2737, 2200, 1733, 2275, 1940, 2267, 1768, 1821, 1752, 1740, 2218)\n",
    "diff <- c(-19, 9, -3, -11, -20, -19, 8, 8, 4, -18, -7, 12, 10, 21, 20, 2, -5, -9, -4, -20, 31, 16, -12, -27, -3, 7, 15, 8, 5, 18, -2, 7, 4, 14, 4, 12, 1, -9, 12, -7, 28, -7, 18, -3, 4, -28, 4, 2, 5, -5, -14, 27, 8, 26, -5, 16, -10, -5, 6, 8, 5, 3, 11, 12, 16, 1, 12, -2, 6, 15, 16, -1, 6, 23, -14, 27, 11, 25, 32, 24, 36, -1)"
   ]
  },
  {
   "cell_type": "code",
   "execution_count": 2,
   "metadata": {},
   "outputs": [],
   "source": [
    "d_seconds <- seconds[c(-5, -6, -7, -59)]\n",
    "d_diff <- diff[c(-5, -6, -7, -59)]"
   ]
  },
  {
   "cell_type": "code",
   "execution_count": 3,
   "metadata": {},
   "outputs": [],
   "source": [
    "df <- data.frame(seconds=seconds, diff=diff)"
   ]
  },
  {
   "cell_type": "code",
   "execution_count": 4,
   "metadata": {},
   "outputs": [
    {
     "data": {
      "text/html": [
       "<table>\n",
       "<caption>A data.frame: 6 × 2</caption>\n",
       "<thead>\n",
       "\t<tr><th></th><th scope=col>seconds</th><th scope=col>diff</th></tr>\n",
       "\t<tr><th></th><th scope=col>&lt;dbl&gt;</th><th scope=col>&lt;dbl&gt;</th></tr>\n",
       "</thead>\n",
       "<tbody>\n",
       "\t<tr><th scope=row>1</th><td>2083</td><td>-19</td></tr>\n",
       "\t<tr><th scope=row>2</th><td>2270</td><td>  9</td></tr>\n",
       "\t<tr><th scope=row>3</th><td>2385</td><td> -3</td></tr>\n",
       "\t<tr><th scope=row>4</th><td>1898</td><td>-11</td></tr>\n",
       "\t<tr><th scope=row>5</th><td>   0</td><td>-20</td></tr>\n",
       "\t<tr><th scope=row>6</th><td>   0</td><td>-19</td></tr>\n",
       "</tbody>\n",
       "</table>\n"
      ],
      "text/latex": [
       "A data.frame: 6 × 2\n",
       "\\begin{tabular}{r|ll}\n",
       "  & seconds & diff\\\\\n",
       "  & <dbl> & <dbl>\\\\\n",
       "\\hline\n",
       "\t1 & 2083 & -19\\\\\n",
       "\t2 & 2270 &   9\\\\\n",
       "\t3 & 2385 &  -3\\\\\n",
       "\t4 & 1898 & -11\\\\\n",
       "\t5 &    0 & -20\\\\\n",
       "\t6 &    0 & -19\\\\\n",
       "\\end{tabular}\n"
      ],
      "text/markdown": [
       "\n",
       "A data.frame: 6 × 2\n",
       "\n",
       "| <!--/--> | seconds &lt;dbl&gt; | diff &lt;dbl&gt; |\n",
       "|---|---|---|\n",
       "| 1 | 2083 | -19 |\n",
       "| 2 | 2270 |   9 |\n",
       "| 3 | 2385 |  -3 |\n",
       "| 4 | 1898 | -11 |\n",
       "| 5 |    0 | -20 |\n",
       "| 6 |    0 | -19 |\n",
       "\n"
      ],
      "text/plain": [
       "  seconds diff\n",
       "1 2083    -19 \n",
       "2 2270      9 \n",
       "3 2385     -3 \n",
       "4 1898    -11 \n",
       "5    0    -20 \n",
       "6    0    -19 "
      ]
     },
     "metadata": {},
     "output_type": "display_data"
    }
   ],
   "source": [
    "head(df)"
   ]
  },
  {
   "cell_type": "code",
   "execution_count": 13,
   "metadata": {},
   "outputs": [],
   "source": [
    "paperlm = lm(d_diff ~ d_seconds, data=df)"
   ]
  },
  {
   "cell_type": "code",
   "execution_count": 14,
   "metadata": {},
   "outputs": [
    {
     "data": {
      "text/plain": [
       "\n",
       "Call:\n",
       "lm(formula = d_diff ~ d_seconds, data = df)\n",
       "\n",
       "Residuals:\n",
       "    Min      1Q  Median      3Q     Max \n",
       "-43.137  -6.021   3.196   8.062  25.291 \n",
       "\n",
       "Coefficients:\n",
       "            Estimate Std. Error t value Pr(>|t|)    \n",
       "(Intercept) 50.52463   11.99254   4.213 6.86e-05 ***\n",
       "d_seconds   -0.02049    0.00540  -3.795 0.000294 ***\n",
       "---\n",
       "Signif. codes:  0 '***' 0.001 '**' 0.01 '*' 0.05 '.' 0.1 ' ' 1\n",
       "\n",
       "Residual standard error: 12.63 on 76 degrees of freedom\n",
       "Multiple R-squared:  0.1593,\tAdjusted R-squared:  0.1483 \n",
       "F-statistic:  14.4 on 1 and 76 DF,  p-value: 0.0002944\n"
      ]
     },
     "metadata": {},
     "output_type": "display_data"
    }
   ],
   "source": [
    "summary(paperlm)"
   ]
  },
  {
   "cell_type": "code",
   "execution_count": 8,
   "metadata": {},
   "outputs": [
    {
     "data": {
      "image/png": "[encoded data removed]",
      "text/plain": [
       "plot without title"
      ]
     },
     "metadata": {
      "image/png": {
       "height": 420,
       "width": 420
      },
      "text/plain": {
       "height": 420,
       "width": 420
      }
     },
     "output_type": "display_data"
    }
   ],
   "source": [
    "regplot.confbands.fun(d_seconds,d_diff)"
   ]
  },
  {
   "cell_type": "code",
   "execution_count": 8,
   "metadata": {},
   "outputs": [
    {
     "data": {
      "image/png": "[encoded data removed]",
      "text/plain": [
       "Plot with title \"Seconds Played vs. Score Differential\""
      ]
     },
     "metadata": {
      "image/png": {
       "height": 420,
       "width": 420
      },
      "text/plain": {
       "height": 420,
       "width": 420
      }
     },
     "output_type": "display_data"
    }
   ],
   "source": [
    "plot(d_seconds, d_diff, xlab=\"Seconds\", ylab=\"Differential\", main=\"Seconds Played vs. Score Differential\")"
   ]
  },
  {
   "cell_type": "code",
   "execution_count": 136,
   "metadata": {},
   "outputs": [
    {
     "data": {
      "text/html": [
       "-0.399171333014705"
      ],
      "text/latex": [
       "-0.399171333014705"
      ],
      "text/markdown": [
       "-0.399171333014705"
      ],
      "text/plain": [
       "[1] -0.3991713"
      ]
     },
     "metadata": {},
     "output_type": "display_data"
    }
   ],
   "source": [
    "cor(d_diff , d_seconds)"
   ]
  },
  {
   "cell_type": "code",
   "execution_count": 137,
   "metadata": {},
   "outputs": [
    {
     "data": {
      "text/html": [
       "<table>\n",
       "<caption>A matrix: 2 × 2 of type dbl</caption>\n",
       "<thead>\n",
       "\t<tr><th></th><th scope=col>(Intercept)</th><th scope=col>d_seconds</th></tr>\n",
       "</thead>\n",
       "<tbody>\n",
       "\t<tr><th scope=row>(Intercept)</th><td>143.82099991</td><td>-0.0642920772</td></tr>\n",
       "\t<tr><th scope=row>d_seconds</th><td> -0.06429208</td><td> 0.0000291552</td></tr>\n",
       "</tbody>\n",
       "</table>\n"
      ],
      "text/latex": [
       "A matrix: 2 × 2 of type dbl\n",
       "\\begin{tabular}{r|ll}\n",
       "  & (Intercept) & d\\_seconds\\\\\n",
       "\\hline\n",
       "\t(Intercept) & 143.82099991 & -0.0642920772\\\\\n",
       "\td\\_seconds &  -0.06429208 &  0.0000291552\\\\\n",
       "\\end{tabular}\n"
      ],
      "text/markdown": [
       "\n",
       "A matrix: 2 × 2 of type dbl\n",
       "\n",
       "| <!--/--> | (Intercept) | d_seconds |\n",
       "|---|---|---|\n",
       "| (Intercept) | 143.82099991 | -0.0642920772 |\n",
       "| d_seconds |  -0.06429208 |  0.0000291552 |\n",
       "\n"
      ],
      "text/plain": [
       "            (Intercept)  d_seconds    \n",
       "(Intercept) 143.82099991 -0.0642920772\n",
       "d_seconds    -0.06429208  0.0000291552"
      ]
     },
     "metadata": {},
     "output_type": "display_data"
    }
   ],
   "source": [
    "vcov(paperlm)"
   ]
  },
  {
   "cell_type": "code",
   "execution_count": 140,
   "metadata": {},
   "outputs": [
    {
     "data": {
      "text/html": [
       "<table>\n",
       "<caption>A anova: 2 × 5</caption>\n",
       "<thead>\n",
       "\t<tr><th></th><th scope=col>Df</th><th scope=col>Sum Sq</th><th scope=col>Mean Sq</th><th scope=col>F value</th><th scope=col>Pr(&gt;F)</th></tr>\n",
       "\t<tr><th></th><th scope=col>&lt;int&gt;</th><th scope=col>&lt;dbl&gt;</th><th scope=col>&lt;dbl&gt;</th><th scope=col>&lt;dbl&gt;</th><th scope=col>&lt;dbl&gt;</th></tr>\n",
       "</thead>\n",
       "<tbody>\n",
       "\t<tr><th scope=row>d_seconds</th><td> 1</td><td> 2299.138</td><td>2299.1376</td><td>14.40492</td><td>0.0002943951</td></tr>\n",
       "\t<tr><th scope=row>Residuals</th><td>76</td><td>12130.196</td><td> 159.6078</td><td>      NA</td><td>          NA</td></tr>\n",
       "</tbody>\n",
       "</table>\n"
      ],
      "text/latex": [
       "A anova: 2 × 5\n",
       "\\begin{tabular}{r|lllll}\n",
       "  & Df & Sum Sq & Mean Sq & F value & Pr(>F)\\\\\n",
       "  & <int> & <dbl> & <dbl> & <dbl> & <dbl>\\\\\n",
       "\\hline\n",
       "\td\\_seconds &  1 &  2299.138 & 2299.1376 & 14.40492 & 0.0002943951\\\\\n",
       "\tResiduals & 76 & 12130.196 &  159.6078 &       NA &           NA\\\\\n",
       "\\end{tabular}\n"
      ],
      "text/markdown": [
       "\n",
       "A anova: 2 × 5\n",
       "\n",
       "| <!--/--> | Df &lt;int&gt; | Sum Sq &lt;dbl&gt; | Mean Sq &lt;dbl&gt; | F value &lt;dbl&gt; | Pr(&gt;F) &lt;dbl&gt; |\n",
       "|---|---|---|---|---|---|\n",
       "| d_seconds |  1 |  2299.138 | 2299.1376 | 14.40492 | 0.0002943951 |\n",
       "| Residuals | 76 | 12130.196 |  159.6078 |       NA |           NA |\n",
       "\n"
      ],
      "text/plain": [
       "          Df Sum Sq    Mean Sq   F value  Pr(>F)      \n",
       "d_seconds  1  2299.138 2299.1376 14.40492 0.0002943951\n",
       "Residuals 76 12130.196  159.6078       NA           NA"
      ]
     },
     "metadata": {},
     "output_type": "display_data"
    }
   ],
   "source": []
  },
  {
   "cell_type": "code",
   "execution_count": 1,
   "metadata": {},
   "outputs": [
    {
     "ename": "ERROR",
     "evalue": "Error in xy.coords(x, y, xlabel, ylabel): object 'd_diff' not found\n",
     "output_type": "error",
     "traceback": [
      "Error in xy.coords(x, y, xlabel, ylabel): object 'd_diff' not found\nTraceback:\n",
      "1. scatter.smooth(x = d_seconds, y = d_diff, main = \"Differential ~ Seconds\")",
      "2. xy.coords(x, y, xlabel, ylabel)"
     ]
    }
   ],
   "source": [
    "scatter.smooth(x=d_seconds, y=d_diff, main=\"Differential ~ Seconds\")"
   ]
  },
  {
   "cell_type": "code",
   "execution_count": 141,
   "metadata": {},
   "outputs": [],
   "source": [
    "paperlm = lm(diff ~ seconds, data=df)"
   ]
  },
  {
   "cell_type": "code",
   "execution_count": 142,
   "metadata": {},
   "outputs": [
    {
     "data": {
      "text/html": [
       "<table>\n",
       "<caption>A anova: 2 × 5</caption>\n",
       "<thead>\n",
       "\t<tr><th></th><th scope=col>Df</th><th scope=col>Sum Sq</th><th scope=col>Mean Sq</th><th scope=col>F value</th><th scope=col>Pr(&gt;F)</th></tr>\n",
       "\t<tr><th></th><th scope=col>&lt;int&gt;</th><th scope=col>&lt;dbl&gt;</th><th scope=col>&lt;dbl&gt;</th><th scope=col>&lt;dbl&gt;</th><th scope=col>&lt;dbl&gt;</th></tr>\n",
       "</thead>\n",
       "<tbody>\n",
       "\t<tr><th scope=row>seconds</th><td> 1</td><td>    9.384947</td><td>  9.384947</td><td>0.04801954</td><td>0.8271041</td></tr>\n",
       "\t<tr><th scope=row>Residuals</th><td>80</td><td>15635.212614</td><td>195.440158</td><td>        NA</td><td>       NA</td></tr>\n",
       "</tbody>\n",
       "</table>\n"
      ],
      "text/latex": [
       "A anova: 2 × 5\n",
       "\\begin{tabular}{r|lllll}\n",
       "  & Df & Sum Sq & Mean Sq & F value & Pr(>F)\\\\\n",
       "  & <int> & <dbl> & <dbl> & <dbl> & <dbl>\\\\\n",
       "\\hline\n",
       "\tseconds &  1 &     9.384947 &   9.384947 & 0.04801954 & 0.8271041\\\\\n",
       "\tResiduals & 80 & 15635.212614 & 195.440158 &         NA &        NA\\\\\n",
       "\\end{tabular}\n"
      ],
      "text/markdown": [
       "\n",
       "A anova: 2 × 5\n",
       "\n",
       "| <!--/--> | Df &lt;int&gt; | Sum Sq &lt;dbl&gt; | Mean Sq &lt;dbl&gt; | F value &lt;dbl&gt; | Pr(&gt;F) &lt;dbl&gt; |\n",
       "|---|---|---|---|---|---|\n",
       "| seconds |  1 |     9.384947 |   9.384947 | 0.04801954 | 0.8271041 |\n",
       "| Residuals | 80 | 15635.212614 | 195.440158 |         NA |        NA |\n",
       "\n"
      ],
      "text/plain": [
       "          Df Sum Sq       Mean Sq    F value    Pr(>F)   \n",
       "seconds    1     9.384947   9.384947 0.04801954 0.8271041\n",
       "Residuals 80 15635.212614 195.440158         NA        NA"
      ]
     },
     "metadata": {},
     "output_type": "display_data"
    }
   ],
   "source": [
    "anova(paperlm)"
   ]
  },
  {
   "cell_type": "code",
   "execution_count": 113,
   "metadata": {},
   "outputs": [],
   "source": [
    "paperstdres = rstandard(paperlm)"
   ]
  },
  {
   "cell_type": "code",
   "execution_count": 114,
   "metadata": {},
   "outputs": [
    {
     "data": {
      "image/png": "[encoded data removed]",
      "text/plain": [
       "Plot with title \"\""
      ]
     },
     "metadata": {
      "image/png": {
       "height": 420,
       "width": 420
      },
      "text/plain": {
       "height": 420,
       "width": 420
      }
     },
     "output_type": "display_data"
    },
    {
     "data": {
      "image/png": "[encoded data removed]",
      "text/plain": [
       "Plot with title \"\""
      ]
     },
     "metadata": {
      "image/png": {
       "height": 420,
       "width": 420
      },
      "text/plain": {
       "height": 420,
       "width": 420
      }
     },
     "output_type": "display_data"
    },
    {
     "data": {
      "image/png": "[encoded data removed]",
      "text/plain": [
       "Plot with title \"\""
      ]
     },
     "metadata": {
      "image/png": {
       "height": 420,
       "width": 420
      },
      "text/plain": {
       "height": 420,
       "width": 420
      }
     },
     "output_type": "display_data"
    },
    {
     "data": {
      "image/png": "[encoded data removed]",
      "text/plain": [
       "Plot with title \"\""
      ]
     },
     "metadata": {
      "image/png": {
       "height": 420,
       "width": 420
      },
      "text/plain": {
       "height": 420,
       "width": 420
      }
     },
     "output_type": "display_data"
    }
   ],
   "source": [
    "plot(paperlm)"
   ]
  },
  {
   "cell_type": "code",
   "execution_count": 119,
   "metadata": {},
   "outputs": [
    {
     "data": {
      "text/plain": [
       "\n",
       "Call:\n",
       "lm(formula = d_diff ~ d_seconds, data = df)\n",
       "\n",
       "Residuals:\n",
       "    Min      1Q  Median      3Q     Max \n",
       "-43.137  -6.021   3.196   8.062  25.291 \n",
       "\n",
       "Coefficients:\n",
       "            Estimate Std. Error t value Pr(>|t|)    \n",
       "(Intercept) 50.52463   11.99254   4.213 6.86e-05 ***\n",
       "d_seconds   -0.02049    0.00540  -3.795 0.000294 ***\n",
       "---\n",
       "Signif. codes:  0 '***' 0.001 '**' 0.01 '*' 0.05 '.' 0.1 ' ' 1\n",
       "\n",
       "Residual standard error: 12.63 on 76 degrees of freedom\n",
       "Multiple R-squared:  0.1593,\tAdjusted R-squared:  0.1483 \n",
       "F-statistic:  14.4 on 1 and 76 DF,  p-value: 0.0002944\n"
      ]
     },
     "metadata": {},
     "output_type": "display_data"
    }
   ],
   "source": [
    "summary(paperlm)"
   ]
  },
  {
   "cell_type": "code",
   "execution_count": 130,
   "metadata": {},
   "outputs": [
    {
     "data": {
      "text/plain": [
       "\n",
       "Call:\n",
       "lm(formula = diff ~ seconds, data = df)\n",
       "\n",
       "Residuals:\n",
       "    Min      1Q  Median      3Q     Max \n",
       "-32.924  -9.235   0.288   8.889  31.008 \n",
       "\n",
       "Coefficients:\n",
       "              Estimate Std. Error t value Pr(>|t|)\n",
       "(Intercept)  6.0806255  6.1845249   0.983    0.328\n",
       "seconds     -0.0006256  0.0028550  -0.219    0.827\n",
       "\n",
       "Residual standard error: 13.98 on 80 degrees of freedom\n",
       "Multiple R-squared:  0.0005999,\tAdjusted R-squared:  -0.01189 \n",
       "F-statistic: 0.04802 on 1 and 80 DF,  p-value: 0.8271\n"
      ]
     },
     "metadata": {},
     "output_type": "display_data"
    }
   ],
   "source": [
    "summary(paperlm)"
   ]
  },
  {
   "cell_type": "code",
   "execution_count": 133,
   "metadata": {},
   "outputs": [
    {
     "data": {
      "text/html": [
       "<table>\n",
       "<caption>A anova: 2 × 5</caption>\n",
       "<thead>\n",
       "\t<tr><th></th><th scope=col>Df</th><th scope=col>Sum Sq</th><th scope=col>Mean Sq</th><th scope=col>F value</th><th scope=col>Pr(&gt;F)</th></tr>\n",
       "\t<tr><th></th><th scope=col>&lt;int&gt;</th><th scope=col>&lt;dbl&gt;</th><th scope=col>&lt;dbl&gt;</th><th scope=col>&lt;dbl&gt;</th><th scope=col>&lt;dbl&gt;</th></tr>\n",
       "</thead>\n",
       "<tbody>\n",
       "\t<tr><th scope=row>d_seconds</th><td> 1</td><td> 2299.138</td><td>2299.1376</td><td>14.40492</td><td>0.0002943951</td></tr>\n",
       "\t<tr><th scope=row>Residuals</th><td>76</td><td>12130.196</td><td> 159.6078</td><td>      NA</td><td>          NA</td></tr>\n",
       "</tbody>\n",
       "</table>\n"
      ],
      "text/latex": [
       "A anova: 2 × 5\n",
       "\\begin{tabular}{r|lllll}\n",
       "  & Df & Sum Sq & Mean Sq & F value & Pr(>F)\\\\\n",
       "  & <int> & <dbl> & <dbl> & <dbl> & <dbl>\\\\\n",
       "\\hline\n",
       "\td\\_seconds &  1 &  2299.138 & 2299.1376 & 14.40492 & 0.0002943951\\\\\n",
       "\tResiduals & 76 & 12130.196 &  159.6078 &       NA &           NA\\\\\n",
       "\\end{tabular}\n"
      ],
      "text/markdown": [
       "\n",
       "A anova: 2 × 5\n",
       "\n",
       "| <!--/--> | Df &lt;int&gt; | Sum Sq &lt;dbl&gt; | Mean Sq &lt;dbl&gt; | F value &lt;dbl&gt; | Pr(&gt;F) &lt;dbl&gt; |\n",
       "|---|---|---|---|---|---|\n",
       "| d_seconds |  1 |  2299.138 | 2299.1376 | 14.40492 | 0.0002943951 |\n",
       "| Residuals | 76 | 12130.196 |  159.6078 |       NA |           NA |\n",
       "\n"
      ],
      "text/plain": [
       "          Df Sum Sq    Mean Sq   F value  Pr(>F)      \n",
       "d_seconds  1  2299.138 2299.1376 14.40492 0.0002943951\n",
       "Residuals 76 12130.196  159.6078       NA           NA"
      ]
     },
     "metadata": {},
     "output_type": "display_data"
    }
   ],
   "source": [
    "anova(paperlm)"
   ]
  },
  {
   "cell_type": "code",
   "execution_count": 127,
   "metadata": {},
   "outputs": [],
   "source": [
    "new <- data.frame(new_datapoint = c(1076))"
   ]
  },
  {
   "cell_type": "code",
   "execution_count": 128,
   "metadata": {},
   "outputs": [
    {
     "name": "stderr",
     "output_type": "stream",
     "text": [
      "Warning message:\n",
      "\"'newdata' had 1 row but variables found have 78 rows\"\n"
     ]
    },
    {
     "data": {
      "text/html": [
       "<table>\n",
       "<caption>A matrix: 78 × 3 of type dbl</caption>\n",
       "<thead>\n",
       "\t<tr><th></th><th scope=col>fit</th><th scope=col>lwr</th><th scope=col>upr</th></tr>\n",
       "</thead>\n",
       "<tbody>\n",
       "\t<tr><th scope=row>1</th><td> 7.83694007</td><td>  4.69957407</td><td>10.9743061</td></tr>\n",
       "\t<tr><th scope=row>2</th><td> 4.00467983</td><td>  1.07157137</td><td> 6.9377883</td></tr>\n",
       "\t<tr><th scope=row>3</th><td> 1.64794224</td><td> -1.79548308</td><td> 5.0913676</td></tr>\n",
       "\t<tr><th scope=row>4</th><td>11.62821358</td><td>  7.26600167</td><td>15.9904255</td></tr>\n",
       "\t<tr><th scope=row>5</th><td> 9.61986329</td><td>  5.98987146</td><td>13.2498551</td></tr>\n",
       "\t<tr><th scope=row>6</th><td> 7.34509918</td><td>  4.30676093</td><td>10.3834374</td></tr>\n",
       "\t<tr><th scope=row>7</th><td> 4.37356049</td><td>  1.48035027</td><td> 7.2667707</td></tr>\n",
       "\t<tr><th scope=row>8</th><td> 3.16445164</td><td>  0.09649164</td><td> 6.2324116</td></tr>\n",
       "\t<tr><th scope=row>9</th><td> 3.82023949</td><td>  0.86262922</td><td> 6.7778498</td></tr>\n",
       "\t<tr><th scope=row>10</th><td> 5.25477541</td><td>  2.40544235</td><td> 8.1041085</td></tr>\n",
       "\t<tr><th scope=row>11</th><td>11.07489258</td><td>  6.92822061</td><td>15.2215645</td></tr>\n",
       "\t<tr><th scope=row>12</th><td> 8.36976770</td><td>  5.10542358</td><td>11.6341118</td></tr>\n",
       "\t<tr><th scope=row>13</th><td> 5.80809641</td><td>  2.94818923</td><td> 8.6680036</td></tr>\n",
       "\t<tr><th scope=row>14</th><td> 0.25439306</td><td> -3.64695068</td><td> 4.1557368</td></tr>\n",
       "\t<tr><th scope=row>15</th><td>-3.12701304</td><td> -8.40220711</td><td> 2.1481810</td></tr>\n",
       "\t<tr><th scope=row>16</th><td>-7.69703462</td><td>-15.10467431</td><td>-0.2893949</td></tr>\n",
       "\t<tr><th scope=row>17</th><td> 4.59898756</td><td>  1.72400940</td><td> 7.4739657</td></tr>\n",
       "\t<tr><th scope=row>18</th><td>16.60810256</td><td> 10.04130439</td><td>23.1749007</td></tr>\n",
       "\t<tr><th scope=row>19</th><td>13.18570972</td><td>  8.17605937</td><td>18.1953601</td></tr>\n",
       "\t<tr><th scope=row>20</th><td> 5.00885497</td><td>  2.15473642</td><td> 7.8629735</td></tr>\n",
       "\t<tr><th scope=row>21</th><td>16.13675504</td><td>  9.79190329</td><td>22.4816068</td></tr>\n",
       "\t<tr><th scope=row>22</th><td> 5.45970912</td><td>  2.60990256</td><td> 8.3095157</td></tr>\n",
       "\t<tr><th scope=row>23</th><td>10.60354506</td><td>  6.63295469</td><td>14.5741354</td></tr>\n",
       "\t<tr><th scope=row>24</th><td> 6.91473841</td><td>  3.94730351</td><td> 9.8821733</td></tr>\n",
       "\t<tr><th scope=row>25</th><td> 0.68475384</td><td> -3.06593504</td><td> 4.4354427</td></tr>\n",
       "\t<tr><th scope=row>26</th><td> 0.64376710</td><td> -3.12094594</td><td> 4.4084801</td></tr>\n",
       "\t<tr><th scope=row>27</th><td> 9.16900914</td><td>  5.68068072</td><td>12.6573376</td></tr>\n",
       "\t<tr><th scope=row>28</th><td>-2.12283790</td><td> -6.96291590</td><td> 2.7172401</td></tr>\n",
       "\t<tr><th scope=row>29</th><td>-0.03251412</td><td> -4.03822208</td><td> 3.9731938</td></tr>\n",
       "\t<tr><th scope=row>30</th><td> 2.81606435</td><td> -0.32431066</td><td> 5.9564394</td></tr>\n",
       "\t<tr><th scope=row>...</th><td>...</td><td>...</td><td>...</td></tr>\n",
       "\t<tr><th scope=row>49</th><td> 1.7094224</td><td> -1.7159872</td><td> 5.1348319</td></tr>\n",
       "\t<tr><th scope=row>50</th><td> 3.2259318</td><td>  0.1697936</td><td> 6.2820699</td></tr>\n",
       "\t<tr><th scope=row>51</th><td>11.6282136</td><td>  7.2660017</td><td>15.9904255</td></tr>\n",
       "\t<tr><th scope=row>52</th><td> 4.7834279</td><td>  1.9198162</td><td> 7.6470396</td></tr>\n",
       "\t<tr><th scope=row>53</th><td> 6.8122716</td><td>  3.8594227</td><td> 9.7651205</td></tr>\n",
       "\t<tr><th scope=row>54</th><td> 1.7299157</td><td> -1.6895351</td><td> 5.1493666</td></tr>\n",
       "\t<tr><th scope=row>55</th><td> 5.3982290</td><td>  2.5489907</td><td> 8.2474674</td></tr>\n",
       "\t<tr><th scope=row>56</th><td> 6.7712848</td><td>  3.8240158</td><td> 9.7185538</td></tr>\n",
       "\t<tr><th scope=row>57</th><td> 6.5663511</td><td>  3.6447656</td><td> 9.4879366</td></tr>\n",
       "\t<tr><th scope=row>58</th><td>-3.4139202</td><td> -8.8164378</td><td> 1.9885974</td></tr>\n",
       "\t<tr><th scope=row>59</th><td> 2.6931041</td><td> -0.4749535</td><td> 5.8611618</td></tr>\n",
       "\t<tr><th scope=row>60</th><td> 5.2752688</td><td>  2.4260710</td><td> 8.1244665</td></tr>\n",
       "\t<tr><th scope=row>61</th><td>10.9314390</td><td>  6.8391376</td><td>15.0237404</td></tr>\n",
       "\t<tr><th scope=row>62</th><td> 8.8206218</td><td>  5.4344899</td><td>12.2067538</td></tr>\n",
       "\t<tr><th scope=row>63</th><td> 7.4885528</td><td>  4.4232452</td><td>10.5538603</td></tr>\n",
       "\t<tr><th scope=row>64</th><td> 4.5375075</td><td>  1.6580274</td><td> 7.4169875</td></tr>\n",
       "\t<tr><th scope=row>65</th><td>-0.7497821</td><td> -5.0284585</td><td> 3.5288944</td></tr>\n",
       "\t<tr><th scope=row>66</th><td>11.4232799</td><td>  7.1419283</td><td>15.7046314</td></tr>\n",
       "\t<tr><th scope=row>67</th><td> 9.3739428</td><td>  5.8224751</td><td>12.9254106</td></tr>\n",
       "\t<tr><th scope=row>68</th><td>-5.5657241</td><td>-11.9554576</td><td> 0.8240094</td></tr>\n",
       "\t<tr><th scope=row>69</th><td> 5.4392157</td><td>  2.5896392</td><td> 8.2887923</td></tr>\n",
       "\t<tr><th scope=row>70</th><td>15.0096197</td><td>  9.1872025</td><td>20.8320369</td></tr>\n",
       "\t<tr><th scope=row>71</th><td> 3.9022130</td><td>  0.9558597</td><td> 6.8485662</td></tr>\n",
       "\t<tr><th scope=row>72</th><td>10.7674920</td><td>  6.7365048</td><td>14.7984792</td></tr>\n",
       "\t<tr><th scope=row>73</th><td> 4.0661599</td><td>  1.1405527</td><td> 6.9917672</td></tr>\n",
       "\t<tr><th scope=row>74</th><td>14.2923517</td><td>  8.7951038</td><td>19.7895996</td></tr>\n",
       "\t<tr><th scope=row>75</th><td>13.2062031</td><td>  8.1877033</td><td>18.2247029</td></tr>\n",
       "\t<tr><th scope=row>76</th><td>14.6202456</td><td>  8.9751388</td><td>20.2653525</td></tr>\n",
       "\t<tr><th scope=row>77</th><td>14.8661661</td><td>  9.1092821</td><td>20.6230500</td></tr>\n",
       "\t<tr><th scope=row>78</th><td> 5.0703351</td><td>  2.2179595</td><td> 7.9227107</td></tr>\n",
       "</tbody>\n",
       "</table>\n"
      ],
      "text/latex": [
       "A matrix: 78 × 3 of type dbl\n",
       "\\begin{tabular}{r|lll}\n",
       "  & fit & lwr & upr\\\\\n",
       "\\hline\n",
       "\t1 &  7.83694007 &   4.69957407 & 10.9743061\\\\\n",
       "\t2 &  4.00467983 &   1.07157137 &  6.9377883\\\\\n",
       "\t3 &  1.64794224 &  -1.79548308 &  5.0913676\\\\\n",
       "\t4 & 11.62821358 &   7.26600167 & 15.9904255\\\\\n",
       "\t5 &  9.61986329 &   5.98987146 & 13.2498551\\\\\n",
       "\t6 &  7.34509918 &   4.30676093 & 10.3834374\\\\\n",
       "\t7 &  4.37356049 &   1.48035027 &  7.2667707\\\\\n",
       "\t8 &  3.16445164 &   0.09649164 &  6.2324116\\\\\n",
       "\t9 &  3.82023949 &   0.86262922 &  6.7778498\\\\\n",
       "\t10 &  5.25477541 &   2.40544235 &  8.1041085\\\\\n",
       "\t11 & 11.07489258 &   6.92822061 & 15.2215645\\\\\n",
       "\t12 &  8.36976770 &   5.10542358 & 11.6341118\\\\\n",
       "\t13 &  5.80809641 &   2.94818923 &  8.6680036\\\\\n",
       "\t14 &  0.25439306 &  -3.64695068 &  4.1557368\\\\\n",
       "\t15 & -3.12701304 &  -8.40220711 &  2.1481810\\\\\n",
       "\t16 & -7.69703462 & -15.10467431 & -0.2893949\\\\\n",
       "\t17 &  4.59898756 &   1.72400940 &  7.4739657\\\\\n",
       "\t18 & 16.60810256 &  10.04130439 & 23.1749007\\\\\n",
       "\t19 & 13.18570972 &   8.17605937 & 18.1953601\\\\\n",
       "\t20 &  5.00885497 &   2.15473642 &  7.8629735\\\\\n",
       "\t21 & 16.13675504 &   9.79190329 & 22.4816068\\\\\n",
       "\t22 &  5.45970912 &   2.60990256 &  8.3095157\\\\\n",
       "\t23 & 10.60354506 &   6.63295469 & 14.5741354\\\\\n",
       "\t24 &  6.91473841 &   3.94730351 &  9.8821733\\\\\n",
       "\t25 &  0.68475384 &  -3.06593504 &  4.4354427\\\\\n",
       "\t26 &  0.64376710 &  -3.12094594 &  4.4084801\\\\\n",
       "\t27 &  9.16900914 &   5.68068072 & 12.6573376\\\\\n",
       "\t28 & -2.12283790 &  -6.96291590 &  2.7172401\\\\\n",
       "\t29 & -0.03251412 &  -4.03822208 &  3.9731938\\\\\n",
       "\t30 &  2.81606435 &  -0.32431066 &  5.9564394\\\\\n",
       "\t... & ... & ... & ...\\\\\n",
       "\t49 &  1.7094224 &  -1.7159872 &  5.1348319\\\\\n",
       "\t50 &  3.2259318 &   0.1697936 &  6.2820699\\\\\n",
       "\t51 & 11.6282136 &   7.2660017 & 15.9904255\\\\\n",
       "\t52 &  4.7834279 &   1.9198162 &  7.6470396\\\\\n",
       "\t53 &  6.8122716 &   3.8594227 &  9.7651205\\\\\n",
       "\t54 &  1.7299157 &  -1.6895351 &  5.1493666\\\\\n",
       "\t55 &  5.3982290 &   2.5489907 &  8.2474674\\\\\n",
       "\t56 &  6.7712848 &   3.8240158 &  9.7185538\\\\\n",
       "\t57 &  6.5663511 &   3.6447656 &  9.4879366\\\\\n",
       "\t58 & -3.4139202 &  -8.8164378 &  1.9885974\\\\\n",
       "\t59 &  2.6931041 &  -0.4749535 &  5.8611618\\\\\n",
       "\t60 &  5.2752688 &   2.4260710 &  8.1244665\\\\\n",
       "\t61 & 10.9314390 &   6.8391376 & 15.0237404\\\\\n",
       "\t62 &  8.8206218 &   5.4344899 & 12.2067538\\\\\n",
       "\t63 &  7.4885528 &   4.4232452 & 10.5538603\\\\\n",
       "\t64 &  4.5375075 &   1.6580274 &  7.4169875\\\\\n",
       "\t65 & -0.7497821 &  -5.0284585 &  3.5288944\\\\\n",
       "\t66 & 11.4232799 &   7.1419283 & 15.7046314\\\\\n",
       "\t67 &  9.3739428 &   5.8224751 & 12.9254106\\\\\n",
       "\t68 & -5.5657241 & -11.9554576 &  0.8240094\\\\\n",
       "\t69 &  5.4392157 &   2.5896392 &  8.2887923\\\\\n",
       "\t70 & 15.0096197 &   9.1872025 & 20.8320369\\\\\n",
       "\t71 &  3.9022130 &   0.9558597 &  6.8485662\\\\\n",
       "\t72 & 10.7674920 &   6.7365048 & 14.7984792\\\\\n",
       "\t73 &  4.0661599 &   1.1405527 &  6.9917672\\\\\n",
       "\t74 & 14.2923517 &   8.7951038 & 19.7895996\\\\\n",
       "\t75 & 13.2062031 &   8.1877033 & 18.2247029\\\\\n",
       "\t76 & 14.6202456 &   8.9751388 & 20.2653525\\\\\n",
       "\t77 & 14.8661661 &   9.1092821 & 20.6230500\\\\\n",
       "\t78 &  5.0703351 &   2.2179595 &  7.9227107\\\\\n",
       "\\end{tabular}\n"
      ],
      "text/markdown": [
       "\n",
       "A matrix: 78 × 3 of type dbl\n",
       "\n",
       "| <!--/--> | fit | lwr | upr |\n",
       "|---|---|---|---|\n",
       "| 1 |  7.83694007 |   4.69957407 | 10.9743061 |\n",
       "| 2 |  4.00467983 |   1.07157137 |  6.9377883 |\n",
       "| 3 |  1.64794224 |  -1.79548308 |  5.0913676 |\n",
       "| 4 | 11.62821358 |   7.26600167 | 15.9904255 |\n",
       "| 5 |  9.61986329 |   5.98987146 | 13.2498551 |\n",
       "| 6 |  7.34509918 |   4.30676093 | 10.3834374 |\n",
       "| 7 |  4.37356049 |   1.48035027 |  7.2667707 |\n",
       "| 8 |  3.16445164 |   0.09649164 |  6.2324116 |\n",
       "| 9 |  3.82023949 |   0.86262922 |  6.7778498 |\n",
       "| 10 |  5.25477541 |   2.40544235 |  8.1041085 |\n",
       "| 11 | 11.07489258 |   6.92822061 | 15.2215645 |\n",
       "| 12 |  8.36976770 |   5.10542358 | 11.6341118 |\n",
       "| 13 |  5.80809641 |   2.94818923 |  8.6680036 |\n",
       "| 14 |  0.25439306 |  -3.64695068 |  4.1557368 |\n",
       "| 15 | -3.12701304 |  -8.40220711 |  2.1481810 |\n",
       "| 16 | -7.69703462 | -15.10467431 | -0.2893949 |\n",
       "| 17 |  4.59898756 |   1.72400940 |  7.4739657 |\n",
       "| 18 | 16.60810256 |  10.04130439 | 23.1749007 |\n",
       "| 19 | 13.18570972 |   8.17605937 | 18.1953601 |\n",
       "| 20 |  5.00885497 |   2.15473642 |  7.8629735 |\n",
       "| 21 | 16.13675504 |   9.79190329 | 22.4816068 |\n",
       "| 22 |  5.45970912 |   2.60990256 |  8.3095157 |\n",
       "| 23 | 10.60354506 |   6.63295469 | 14.5741354 |\n",
       "| 24 |  6.91473841 |   3.94730351 |  9.8821733 |\n",
       "| 25 |  0.68475384 |  -3.06593504 |  4.4354427 |\n",
       "| 26 |  0.64376710 |  -3.12094594 |  4.4084801 |\n",
       "| 27 |  9.16900914 |   5.68068072 | 12.6573376 |\n",
       "| 28 | -2.12283790 |  -6.96291590 |  2.7172401 |\n",
       "| 29 | -0.03251412 |  -4.03822208 |  3.9731938 |\n",
       "| 30 |  2.81606435 |  -0.32431066 |  5.9564394 |\n",
       "| ... | ... | ... | ... |\n",
       "| 49 |  1.7094224 |  -1.7159872 |  5.1348319 |\n",
       "| 50 |  3.2259318 |   0.1697936 |  6.2820699 |\n",
       "| 51 | 11.6282136 |   7.2660017 | 15.9904255 |\n",
       "| 52 |  4.7834279 |   1.9198162 |  7.6470396 |\n",
       "| 53 |  6.8122716 |   3.8594227 |  9.7651205 |\n",
       "| 54 |  1.7299157 |  -1.6895351 |  5.1493666 |\n",
       "| 55 |  5.3982290 |   2.5489907 |  8.2474674 |\n",
       "| 56 |  6.7712848 |   3.8240158 |  9.7185538 |\n",
       "| 57 |  6.5663511 |   3.6447656 |  9.4879366 |\n",
       "| 58 | -3.4139202 |  -8.8164378 |  1.9885974 |\n",
       "| 59 |  2.6931041 |  -0.4749535 |  5.8611618 |\n",
       "| 60 |  5.2752688 |   2.4260710 |  8.1244665 |\n",
       "| 61 | 10.9314390 |   6.8391376 | 15.0237404 |\n",
       "| 62 |  8.8206218 |   5.4344899 | 12.2067538 |\n",
       "| 63 |  7.4885528 |   4.4232452 | 10.5538603 |\n",
       "| 64 |  4.5375075 |   1.6580274 |  7.4169875 |\n",
       "| 65 | -0.7497821 |  -5.0284585 |  3.5288944 |\n",
       "| 66 | 11.4232799 |   7.1419283 | 15.7046314 |\n",
       "| 67 |  9.3739428 |   5.8224751 | 12.9254106 |\n",
       "| 68 | -5.5657241 | -11.9554576 |  0.8240094 |\n",
       "| 69 |  5.4392157 |   2.5896392 |  8.2887923 |\n",
       "| 70 | 15.0096197 |   9.1872025 | 20.8320369 |\n",
       "| 71 |  3.9022130 |   0.9558597 |  6.8485662 |\n",
       "| 72 | 10.7674920 |   6.7365048 | 14.7984792 |\n",
       "| 73 |  4.0661599 |   1.1405527 |  6.9917672 |\n",
       "| 74 | 14.2923517 |   8.7951038 | 19.7895996 |\n",
       "| 75 | 13.2062031 |   8.1877033 | 18.2247029 |\n",
       "| 76 | 14.6202456 |   8.9751388 | 20.2653525 |\n",
       "| 77 | 14.8661661 |   9.1092821 | 20.6230500 |\n",
       "| 78 |  5.0703351 |   2.2179595 |  7.9227107 |\n",
       "\n"
      ],
      "text/plain": [
       "    fit         lwr          upr       \n",
       "1    7.83694007   4.69957407 10.9743061\n",
       "2    4.00467983   1.07157137  6.9377883\n",
       "3    1.64794224  -1.79548308  5.0913676\n",
       "4   11.62821358   7.26600167 15.9904255\n",
       "5    9.61986329   5.98987146 13.2498551\n",
       "6    7.34509918   4.30676093 10.3834374\n",
       "7    4.37356049   1.48035027  7.2667707\n",
       "8    3.16445164   0.09649164  6.2324116\n",
       "9    3.82023949   0.86262922  6.7778498\n",
       "10   5.25477541   2.40544235  8.1041085\n",
       "11  11.07489258   6.92822061 15.2215645\n",
       "12   8.36976770   5.10542358 11.6341118\n",
       "13   5.80809641   2.94818923  8.6680036\n",
       "14   0.25439306  -3.64695068  4.1557368\n",
       "15  -3.12701304  -8.40220711  2.1481810\n",
       "16  -7.69703462 -15.10467431 -0.2893949\n",
       "17   4.59898756   1.72400940  7.4739657\n",
       "18  16.60810256  10.04130439 23.1749007\n",
       "19  13.18570972   8.17605937 18.1953601\n",
       "20   5.00885497   2.15473642  7.8629735\n",
       "21  16.13675504   9.79190329 22.4816068\n",
       "22   5.45970912   2.60990256  8.3095157\n",
       "23  10.60354506   6.63295469 14.5741354\n",
       "24   6.91473841   3.94730351  9.8821733\n",
       "25   0.68475384  -3.06593504  4.4354427\n",
       "26   0.64376710  -3.12094594  4.4084801\n",
       "27   9.16900914   5.68068072 12.6573376\n",
       "28  -2.12283790  -6.96291590  2.7172401\n",
       "29  -0.03251412  -4.03822208  3.9731938\n",
       "30   2.81606435  -0.32431066  5.9564394\n",
       "... ...         ...          ...       \n",
       "49   1.7094224   -1.7159872   5.1348319\n",
       "50   3.2259318    0.1697936   6.2820699\n",
       "51  11.6282136    7.2660017  15.9904255\n",
       "52   4.7834279    1.9198162   7.6470396\n",
       "53   6.8122716    3.8594227   9.7651205\n",
       "54   1.7299157   -1.6895351   5.1493666\n",
       "55   5.3982290    2.5489907   8.2474674\n",
       "56   6.7712848    3.8240158   9.7185538\n",
       "57   6.5663511    3.6447656   9.4879366\n",
       "58  -3.4139202   -8.8164378   1.9885974\n",
       "59   2.6931041   -0.4749535   5.8611618\n",
       "60   5.2752688    2.4260710   8.1244665\n",
       "61  10.9314390    6.8391376  15.0237404\n",
       "62   8.8206218    5.4344899  12.2067538\n",
       "63   7.4885528    4.4232452  10.5538603\n",
       "64   4.5375075    1.6580274   7.4169875\n",
       "65  -0.7497821   -5.0284585   3.5288944\n",
       "66  11.4232799    7.1419283  15.7046314\n",
       "67   9.3739428    5.8224751  12.9254106\n",
       "68  -5.5657241  -11.9554576   0.8240094\n",
       "69   5.4392157    2.5896392   8.2887923\n",
       "70  15.0096197    9.1872025  20.8320369\n",
       "71   3.9022130    0.9558597   6.8485662\n",
       "72  10.7674920    6.7365048  14.7984792\n",
       "73   4.0661599    1.1405527   6.9917672\n",
       "74  14.2923517    8.7951038  19.7895996\n",
       "75  13.2062031    8.1877033  18.2247029\n",
       "76  14.6202456    8.9751388  20.2653525\n",
       "77  14.8661661    9.1092821  20.6230500\n",
       "78   5.0703351    2.2179595   7.9227107"
      ]
     },
     "metadata": {},
     "output_type": "display_data"
    },
    {
     "name": "stderr",
     "output_type": "stream",
     "text": [
      "Warning message:\n",
      "\"'newdata' had 1 row but variables found have 78 rows\"\n"
     ]
    },
    {
     "data": {
      "text/html": [
       "<table>\n",
       "<caption>A matrix: 78 × 3 of type dbl</caption>\n",
       "<thead>\n",
       "\t<tr><th></th><th scope=col>fit</th><th scope=col>lwr</th><th scope=col>upr</th></tr>\n",
       "</thead>\n",
       "<tbody>\n",
       "\t<tr><th scope=row>1</th><td> 7.83694007</td><td>-17.519894</td><td>33.19377</td></tr>\n",
       "\t<tr><th scope=row>2</th><td> 4.00467983</td><td>-21.327692</td><td>29.33705</td></tr>\n",
       "\t<tr><th scope=row>3</th><td> 1.64794224</td><td>-23.748576</td><td>27.04446</td></tr>\n",
       "\t<tr><th scope=row>4</th><td>11.62821358</td><td>-13.909109</td><td>37.16554</td></tr>\n",
       "\t<tr><th scope=row>5</th><td> 9.61986329</td><td>-15.802623</td><td>35.04235</td></tr>\n",
       "\t<tr><th scope=row>6</th><td> 7.34509918</td><td>-17.999673</td><td>32.68987</td></tr>\n",
       "\t<tr><th scope=row>7</th><td> 4.37356049</td><td>-20.954223</td><td>29.70134</td></tr>\n",
       "\t<tr><th scope=row>8</th><td> 3.16445164</td><td>-22.183888</td><td>28.51279</td></tr>\n",
       "\t<tr><th scope=row>9</th><td> 3.82023949</td><td>-21.514981</td><td>29.15546</td></tr>\n",
       "\t<tr><th scope=row>10</th><td> 5.25477541</td><td>-20.068034</td><td>30.57758</td></tr>\n",
       "\t<tr><th scope=row>11</th><td>11.07489258</td><td>-14.426497</td><td>36.57628</td></tr>\n",
       "\t<tr><th scope=row>12</th><td> 8.36976770</td><td>-17.003090</td><td>33.74263</td></tr>\n",
       "\t<tr><th scope=row>13</th><td> 5.80809641</td><td>-19.515905</td><td>31.13210</td></tr>\n",
       "\t<tr><th scope=row>14</th><td> 0.25439306</td><td>-25.208255</td><td>25.71704</td></tr>\n",
       "\t<tr><th scope=row>15</th><td>-3.12701304</td><td>-28.836032</td><td>22.58201</td></tr>\n",
       "\t<tr><th scope=row>16</th><td>-7.69703462</td><td>-33.926771</td><td>18.53270</td></tr>\n",
       "\t<tr><th scope=row>17</th><td> 4.59898756</td><td>-20.726720</td><td>29.92470</td></tr>\n",
       "\t<tr><th scope=row>18</th><td>16.60810256</td><td> -9.396682</td><td>42.61289</td></tr>\n",
       "\t<tr><th scope=row>19</th><td>13.18570972</td><td>-12.470139</td><td>38.84156</td></tr>\n",
       "\t<tr><th scope=row>20</th><td> 5.00885497</td><td>-20.314493</td><td>30.33220</td></tr>\n",
       "\t<tr><th scope=row>21</th><td>16.13675504</td><td> -9.812871</td><td>42.08638</td></tr>\n",
       "\t<tr><th scope=row>22</th><td> 5.45970912</td><td>-19.863153</td><td>30.78257</td></tr>\n",
       "\t<tr><th scope=row>23</th><td>10.60354506</td><td>-14.869805</td><td>36.07689</td></tr>\n",
       "\t<tr><th scope=row>24</th><td> 6.91473841</td><td>-18.421631</td><td>32.25111</td></tr>\n",
       "\t<tr><th scope=row>25</th><td> 0.68475384</td><td>-24.755247</td><td>26.12475</td></tr>\n",
       "\t<tr><th scope=row>26</th><td> 0.64376710</td><td>-24.798305</td><td>26.08584</td></tr>\n",
       "\t<tr><th scope=row>27</th><td> 9.16900914</td><td>-16.233636</td><td>34.57165</td></tr>\n",
       "\t<tr><th scope=row>28</th><td>-2.12283790</td><td>-27.746115</td><td>23.50044</td></tr>\n",
       "\t<tr><th scope=row>29</th><td>-0.03251412</td><td>-25.511361</td><td>25.44633</td></tr>\n",
       "\t<tr><th scope=row>30</th><td> 2.81606435</td><td>-22.541142</td><td>28.17327</td></tr>\n",
       "\t<tr><th scope=row>...</th><td>...</td><td>...</td><td>...</td></tr>\n",
       "\t<tr><th scope=row>49</th><td> 1.7094224</td><td>-23.68466</td><td>27.10350</td></tr>\n",
       "\t<tr><th scope=row>50</th><td> 3.2259318</td><td>-22.12098</td><td>28.57284</td></tr>\n",
       "\t<tr><th scope=row>51</th><td>11.6282136</td><td>-13.90911</td><td>37.16554</td></tr>\n",
       "\t<tr><th scope=row>52</th><td> 4.7834279</td><td>-20.54099</td><td>30.10785</td></tr>\n",
       "\t<tr><th scope=row>53</th><td> 6.8122716</td><td>-18.52239</td><td>32.14694</td></tr>\n",
       "\t<tr><th scope=row>54</th><td> 1.7299157</td><td>-23.66336</td><td>27.12319</td></tr>\n",
       "\t<tr><th scope=row>55</th><td> 5.3982290</td><td>-19.92457</td><td>30.72103</td></tr>\n",
       "\t<tr><th scope=row>56</th><td> 6.7712848</td><td>-18.56273</td><td>32.10530</td></tr>\n",
       "\t<tr><th scope=row>57</th><td> 6.5663511</td><td>-18.76469</td><td>31.89739</td></tr>\n",
       "\t<tr><th scope=row>58</th><td>-3.4139202</td><td>-29.14937</td><td>22.32153</td></tr>\n",
       "\t<tr><th scope=row>59</th><td> 2.6931041</td><td>-22.66755</td><td>28.05375</td></tr>\n",
       "\t<tr><th scope=row>60</th><td> 5.2752688</td><td>-20.04753</td><td>30.59806</td></tr>\n",
       "\t<tr><th scope=row>61</th><td>10.9314390</td><td>-14.56117</td><td>36.42404</td></tr>\n",
       "\t<tr><th scope=row>62</th><td> 8.8206218</td><td>-16.56819</td><td>34.20944</td></tr>\n",
       "\t<tr><th scope=row>63</th><td> 7.4885528</td><td>-17.85947</td><td>32.83657</td></tr>\n",
       "\t<tr><th scope=row>64</th><td> 4.5375075</td><td>-20.78871</td><td>29.86373</td></tr>\n",
       "\t<tr><th scope=row>65</th><td>-0.7497821</td><td>-26.27297</td><td>24.77340</td></tr>\n",
       "\t<tr><th scope=row>66</th><td>11.4232799</td><td>-14.10035</td><td>36.94691</td></tr>\n",
       "\t<tr><th scope=row>67</th><td> 9.3739428</td><td>-16.03745</td><td>34.78534</td></tr>\n",
       "\t<tr><th scope=row>68</th><td>-5.5657241</td><td>-31.52636</td><td>20.39491</td></tr>\n",
       "\t<tr><th scope=row>69</th><td> 5.4392157</td><td>-19.88362</td><td>30.76205</td></tr>\n",
       "\t<tr><th scope=row>70</th><td>15.0096197</td><td>-10.81724</td><td>40.83648</td></tr>\n",
       "\t<tr><th scope=row>71</th><td> 3.9022130</td><td>-21.43170</td><td>29.23612</td></tr>\n",
       "\t<tr><th scope=row>72</th><td>10.7674920</td><td>-14.71534</td><td>36.25033</td></tr>\n",
       "\t<tr><th scope=row>73</th><td> 4.0661599</td><td>-21.26534</td><td>29.39766</td></tr>\n",
       "\t<tr><th scope=row>74</th><td>14.2923517</td><td>-11.46315</td><td>40.04785</td></tr>\n",
       "\t<tr><th scope=row>75</th><td>13.2062031</td><td>-12.45137</td><td>38.86378</td></tr>\n",
       "\t<tr><th scope=row>76</th><td>14.6202456</td><td>-11.16722</td><td>40.40771</td></tr>\n",
       "\t<tr><th scope=row>77</th><td>14.8661661</td><td>-10.94600</td><td>40.67833</td></tr>\n",
       "\t<tr><th scope=row>78</th><td> 5.0703351</td><td>-20.25282</td><td>30.39349</td></tr>\n",
       "</tbody>\n",
       "</table>\n"
      ],
      "text/latex": [
       "A matrix: 78 × 3 of type dbl\n",
       "\\begin{tabular}{r|lll}\n",
       "  & fit & lwr & upr\\\\\n",
       "\\hline\n",
       "\t1 &  7.83694007 & -17.519894 & 33.19377\\\\\n",
       "\t2 &  4.00467983 & -21.327692 & 29.33705\\\\\n",
       "\t3 &  1.64794224 & -23.748576 & 27.04446\\\\\n",
       "\t4 & 11.62821358 & -13.909109 & 37.16554\\\\\n",
       "\t5 &  9.61986329 & -15.802623 & 35.04235\\\\\n",
       "\t6 &  7.34509918 & -17.999673 & 32.68987\\\\\n",
       "\t7 &  4.37356049 & -20.954223 & 29.70134\\\\\n",
       "\t8 &  3.16445164 & -22.183888 & 28.51279\\\\\n",
       "\t9 &  3.82023949 & -21.514981 & 29.15546\\\\\n",
       "\t10 &  5.25477541 & -20.068034 & 30.57758\\\\\n",
       "\t11 & 11.07489258 & -14.426497 & 36.57628\\\\\n",
       "\t12 &  8.36976770 & -17.003090 & 33.74263\\\\\n",
       "\t13 &  5.80809641 & -19.515905 & 31.13210\\\\\n",
       "\t14 &  0.25439306 & -25.208255 & 25.71704\\\\\n",
       "\t15 & -3.12701304 & -28.836032 & 22.58201\\\\\n",
       "\t16 & -7.69703462 & -33.926771 & 18.53270\\\\\n",
       "\t17 &  4.59898756 & -20.726720 & 29.92470\\\\\n",
       "\t18 & 16.60810256 &  -9.396682 & 42.61289\\\\\n",
       "\t19 & 13.18570972 & -12.470139 & 38.84156\\\\\n",
       "\t20 &  5.00885497 & -20.314493 & 30.33220\\\\\n",
       "\t21 & 16.13675504 &  -9.812871 & 42.08638\\\\\n",
       "\t22 &  5.45970912 & -19.863153 & 30.78257\\\\\n",
       "\t23 & 10.60354506 & -14.869805 & 36.07689\\\\\n",
       "\t24 &  6.91473841 & -18.421631 & 32.25111\\\\\n",
       "\t25 &  0.68475384 & -24.755247 & 26.12475\\\\\n",
       "\t26 &  0.64376710 & -24.798305 & 26.08584\\\\\n",
       "\t27 &  9.16900914 & -16.233636 & 34.57165\\\\\n",
       "\t28 & -2.12283790 & -27.746115 & 23.50044\\\\\n",
       "\t29 & -0.03251412 & -25.511361 & 25.44633\\\\\n",
       "\t30 &  2.81606435 & -22.541142 & 28.17327\\\\\n",
       "\t... & ... & ... & ...\\\\\n",
       "\t49 &  1.7094224 & -23.68466 & 27.10350\\\\\n",
       "\t50 &  3.2259318 & -22.12098 & 28.57284\\\\\n",
       "\t51 & 11.6282136 & -13.90911 & 37.16554\\\\\n",
       "\t52 &  4.7834279 & -20.54099 & 30.10785\\\\\n",
       "\t53 &  6.8122716 & -18.52239 & 32.14694\\\\\n",
       "\t54 &  1.7299157 & -23.66336 & 27.12319\\\\\n",
       "\t55 &  5.3982290 & -19.92457 & 30.72103\\\\\n",
       "\t56 &  6.7712848 & -18.56273 & 32.10530\\\\\n",
       "\t57 &  6.5663511 & -18.76469 & 31.89739\\\\\n",
       "\t58 & -3.4139202 & -29.14937 & 22.32153\\\\\n",
       "\t59 &  2.6931041 & -22.66755 & 28.05375\\\\\n",
       "\t60 &  5.2752688 & -20.04753 & 30.59806\\\\\n",
       "\t61 & 10.9314390 & -14.56117 & 36.42404\\\\\n",
       "\t62 &  8.8206218 & -16.56819 & 34.20944\\\\\n",
       "\t63 &  7.4885528 & -17.85947 & 32.83657\\\\\n",
       "\t64 &  4.5375075 & -20.78871 & 29.86373\\\\\n",
       "\t65 & -0.7497821 & -26.27297 & 24.77340\\\\\n",
       "\t66 & 11.4232799 & -14.10035 & 36.94691\\\\\n",
       "\t67 &  9.3739428 & -16.03745 & 34.78534\\\\\n",
       "\t68 & -5.5657241 & -31.52636 & 20.39491\\\\\n",
       "\t69 &  5.4392157 & -19.88362 & 30.76205\\\\\n",
       "\t70 & 15.0096197 & -10.81724 & 40.83648\\\\\n",
       "\t71 &  3.9022130 & -21.43170 & 29.23612\\\\\n",
       "\t72 & 10.7674920 & -14.71534 & 36.25033\\\\\n",
       "\t73 &  4.0661599 & -21.26534 & 29.39766\\\\\n",
       "\t74 & 14.2923517 & -11.46315 & 40.04785\\\\\n",
       "\t75 & 13.2062031 & -12.45137 & 38.86378\\\\\n",
       "\t76 & 14.6202456 & -11.16722 & 40.40771\\\\\n",
       "\t77 & 14.8661661 & -10.94600 & 40.67833\\\\\n",
       "\t78 &  5.0703351 & -20.25282 & 30.39349\\\\\n",
       "\\end{tabular}\n"
      ],
      "text/markdown": [
       "\n",
       "A matrix: 78 × 3 of type dbl\n",
       "\n",
       "| <!--/--> | fit | lwr | upr |\n",
       "|---|---|---|---|\n",
       "| 1 |  7.83694007 | -17.519894 | 33.19377 |\n",
       "| 2 |  4.00467983 | -21.327692 | 29.33705 |\n",
       "| 3 |  1.64794224 | -23.748576 | 27.04446 |\n",
       "| 4 | 11.62821358 | -13.909109 | 37.16554 |\n",
       "| 5 |  9.61986329 | -15.802623 | 35.04235 |\n",
       "| 6 |  7.34509918 | -17.999673 | 32.68987 |\n",
       "| 7 |  4.37356049 | -20.954223 | 29.70134 |\n",
       "| 8 |  3.16445164 | -22.183888 | 28.51279 |\n",
       "| 9 |  3.82023949 | -21.514981 | 29.15546 |\n",
       "| 10 |  5.25477541 | -20.068034 | 30.57758 |\n",
       "| 11 | 11.07489258 | -14.426497 | 36.57628 |\n",
       "| 12 |  8.36976770 | -17.003090 | 33.74263 |\n",
       "| 13 |  5.80809641 | -19.515905 | 31.13210 |\n",
       "| 14 |  0.25439306 | -25.208255 | 25.71704 |\n",
       "| 15 | -3.12701304 | -28.836032 | 22.58201 |\n",
       "| 16 | -7.69703462 | -33.926771 | 18.53270 |\n",
       "| 17 |  4.59898756 | -20.726720 | 29.92470 |\n",
       "| 18 | 16.60810256 |  -9.396682 | 42.61289 |\n",
       "| 19 | 13.18570972 | -12.470139 | 38.84156 |\n",
       "| 20 |  5.00885497 | -20.314493 | 30.33220 |\n",
       "| 21 | 16.13675504 |  -9.812871 | 42.08638 |\n",
       "| 22 |  5.45970912 | -19.863153 | 30.78257 |\n",
       "| 23 | 10.60354506 | -14.869805 | 36.07689 |\n",
       "| 24 |  6.91473841 | -18.421631 | 32.25111 |\n",
       "| 25 |  0.68475384 | -24.755247 | 26.12475 |\n",
       "| 26 |  0.64376710 | -24.798305 | 26.08584 |\n",
       "| 27 |  9.16900914 | -16.233636 | 34.57165 |\n",
       "| 28 | -2.12283790 | -27.746115 | 23.50044 |\n",
       "| 29 | -0.03251412 | -25.511361 | 25.44633 |\n",
       "| 30 |  2.81606435 | -22.541142 | 28.17327 |\n",
       "| ... | ... | ... | ... |\n",
       "| 49 |  1.7094224 | -23.68466 | 27.10350 |\n",
       "| 50 |  3.2259318 | -22.12098 | 28.57284 |\n",
       "| 51 | 11.6282136 | -13.90911 | 37.16554 |\n",
       "| 52 |  4.7834279 | -20.54099 | 30.10785 |\n",
       "| 53 |  6.8122716 | -18.52239 | 32.14694 |\n",
       "| 54 |  1.7299157 | -23.66336 | 27.12319 |\n",
       "| 55 |  5.3982290 | -19.92457 | 30.72103 |\n",
       "| 56 |  6.7712848 | -18.56273 | 32.10530 |\n",
       "| 57 |  6.5663511 | -18.76469 | 31.89739 |\n",
       "| 58 | -3.4139202 | -29.14937 | 22.32153 |\n",
       "| 59 |  2.6931041 | -22.66755 | 28.05375 |\n",
       "| 60 |  5.2752688 | -20.04753 | 30.59806 |\n",
       "| 61 | 10.9314390 | -14.56117 | 36.42404 |\n",
       "| 62 |  8.8206218 | -16.56819 | 34.20944 |\n",
       "| 63 |  7.4885528 | -17.85947 | 32.83657 |\n",
       "| 64 |  4.5375075 | -20.78871 | 29.86373 |\n",
       "| 65 | -0.7497821 | -26.27297 | 24.77340 |\n",
       "| 66 | 11.4232799 | -14.10035 | 36.94691 |\n",
       "| 67 |  9.3739428 | -16.03745 | 34.78534 |\n",
       "| 68 | -5.5657241 | -31.52636 | 20.39491 |\n",
       "| 69 |  5.4392157 | -19.88362 | 30.76205 |\n",
       "| 70 | 15.0096197 | -10.81724 | 40.83648 |\n",
       "| 71 |  3.9022130 | -21.43170 | 29.23612 |\n",
       "| 72 | 10.7674920 | -14.71534 | 36.25033 |\n",
       "| 73 |  4.0661599 | -21.26534 | 29.39766 |\n",
       "| 74 | 14.2923517 | -11.46315 | 40.04785 |\n",
       "| 75 | 13.2062031 | -12.45137 | 38.86378 |\n",
       "| 76 | 14.6202456 | -11.16722 | 40.40771 |\n",
       "| 77 | 14.8661661 | -10.94600 | 40.67833 |\n",
       "| 78 |  5.0703351 | -20.25282 | 30.39349 |\n",
       "\n"
      ],
      "text/plain": [
       "    fit         lwr        upr     \n",
       "1    7.83694007 -17.519894 33.19377\n",
       "2    4.00467983 -21.327692 29.33705\n",
       "3    1.64794224 -23.748576 27.04446\n",
       "4   11.62821358 -13.909109 37.16554\n",
       "5    9.61986329 -15.802623 35.04235\n",
       "6    7.34509918 -17.999673 32.68987\n",
       "7    4.37356049 -20.954223 29.70134\n",
       "8    3.16445164 -22.183888 28.51279\n",
       "9    3.82023949 -21.514981 29.15546\n",
       "10   5.25477541 -20.068034 30.57758\n",
       "11  11.07489258 -14.426497 36.57628\n",
       "12   8.36976770 -17.003090 33.74263\n",
       "13   5.80809641 -19.515905 31.13210\n",
       "14   0.25439306 -25.208255 25.71704\n",
       "15  -3.12701304 -28.836032 22.58201\n",
       "16  -7.69703462 -33.926771 18.53270\n",
       "17   4.59898756 -20.726720 29.92470\n",
       "18  16.60810256  -9.396682 42.61289\n",
       "19  13.18570972 -12.470139 38.84156\n",
       "20   5.00885497 -20.314493 30.33220\n",
       "21  16.13675504  -9.812871 42.08638\n",
       "22   5.45970912 -19.863153 30.78257\n",
       "23  10.60354506 -14.869805 36.07689\n",
       "24   6.91473841 -18.421631 32.25111\n",
       "25   0.68475384 -24.755247 26.12475\n",
       "26   0.64376710 -24.798305 26.08584\n",
       "27   9.16900914 -16.233636 34.57165\n",
       "28  -2.12283790 -27.746115 23.50044\n",
       "29  -0.03251412 -25.511361 25.44633\n",
       "30   2.81606435 -22.541142 28.17327\n",
       "... ...         ...        ...     \n",
       "49   1.7094224  -23.68466  27.10350\n",
       "50   3.2259318  -22.12098  28.57284\n",
       "51  11.6282136  -13.90911  37.16554\n",
       "52   4.7834279  -20.54099  30.10785\n",
       "53   6.8122716  -18.52239  32.14694\n",
       "54   1.7299157  -23.66336  27.12319\n",
       "55   5.3982290  -19.92457  30.72103\n",
       "56   6.7712848  -18.56273  32.10530\n",
       "57   6.5663511  -18.76469  31.89739\n",
       "58  -3.4139202  -29.14937  22.32153\n",
       "59   2.6931041  -22.66755  28.05375\n",
       "60   5.2752688  -20.04753  30.59806\n",
       "61  10.9314390  -14.56117  36.42404\n",
       "62   8.8206218  -16.56819  34.20944\n",
       "63   7.4885528  -17.85947  32.83657\n",
       "64   4.5375075  -20.78871  29.86373\n",
       "65  -0.7497821  -26.27297  24.77340\n",
       "66  11.4232799  -14.10035  36.94691\n",
       "67   9.3739428  -16.03745  34.78534\n",
       "68  -5.5657241  -31.52636  20.39491\n",
       "69   5.4392157  -19.88362  30.76205\n",
       "70  15.0096197  -10.81724  40.83648\n",
       "71   3.9022130  -21.43170  29.23612\n",
       "72  10.7674920  -14.71534  36.25033\n",
       "73   4.0661599  -21.26534  29.39766\n",
       "74  14.2923517  -11.46315  40.04785\n",
       "75  13.2062031  -12.45137  38.86378\n",
       "76  14.6202456  -11.16722  40.40771\n",
       "77  14.8661661  -10.94600  40.67833\n",
       "78   5.0703351  -20.25282  30.39349"
      ]
     },
     "metadata": {},
     "output_type": "display_data"
    },
    {
     "data": {
      "image/png": "[encoded data removed]",
      "text/plain": [
       "plot without title"
      ]
     },
     "metadata": {
      "image/png": {
       "height": 420,
       "width": 420
      },
      "text/plain": {
       "height": 420,
       "width": 420
      }
     },
     "output_type": "display_data"
    }
   ],
   "source": [
    "predict(paperlm,new,interval=c(\"confidence\"))\n",
    "predict(paperlm,new,interval=c(\"prediction\"))\n",
    "plot(fitted(paperlm),residuals(paperlm),xlab=\"Fitted values\",ylab=\"Residuals\")"
   ]
  },
  {
   "cell_type": "code",
   "execution_count": null,
   "metadata": {},
   "outputs": [],
   "source": []
  }
 ],
 "metadata": {
  "kernelspec": {
   "display_name": "R",
   "language": "R",
   "name": "ir"
  },
  "language_info": {
   "codemirror_mode": "r",
   "file_extension": ".r",
   "mimetype": "text/x-r-source",
   "name": "R",
   "pygments_lexer": "r",
   "version": "3.6.2"
  }
 },
 "nbformat": 4,
 "nbformat_minor": 2
}

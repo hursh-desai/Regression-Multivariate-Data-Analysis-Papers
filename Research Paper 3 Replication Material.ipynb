{
 "cells": [
  {
   "cell_type": "code",
   "execution_count": 4,
   "metadata": {},
   "outputs": [
    {
     "name": "stderr",
     "output_type": "stream",
     "text": [
      "Installing package into 'C:/Users/hd626/Documents/R/win-library/3.6'\n",
      "(as 'lib' is unspecified)\n",
      "\n"
     ]
    },
    {
     "name": "stdout",
     "output_type": "stream",
     "text": [
      "package 'randtests' successfully unpacked and MD5 sums checked\n",
      "\n",
      "The downloaded binary packages are in\n",
      "\tC:\\Users\\hd626\\AppData\\Local\\Temp\\RtmpMr6inS\\downloaded_packages\n"
     ]
    }
   ],
   "source": [
    " install.packages(\"randtests\")"
   ]
  },
  {
   "cell_type": "code",
   "execution_count": 5,
   "metadata": {},
   "outputs": [],
   "source": [
    "library(randtests)"
   ]
  },
  {
   "cell_type": "code",
   "execution_count": 42,
   "metadata": {},
   "outputs": [
    {
     "name": "stderr",
     "output_type": "stream",
     "text": [
      "Warning message:\n",
      "\"package 'leaps' was built under R version 3.6.3\"\n"
     ]
    }
   ],
   "source": [
    "library(leaps)"
   ]
  },
  {
   "cell_type": "code",
   "execution_count": 11,
   "metadata": {},
   "outputs": [],
   "source": [
    "emissions <- c(108, 34, 86, 64, 359, 87, 33, 12, 3, 227, 132, 18, 18, 201, 176, 76, 58, 114, 226, 15, 52, 63, 152, 88, 67, 122, 30, 48, 36, 13, 101, 49, 157, 115, 56, 204, 93, 38, 215, 10, 69, 14, 98, 707, 58, 6, 98, 78, 91, 98, 61)\n",
    "road_len <- c(101097, 15535, 66558, 102603, 176214, 88818, 21544, 6452, 1514, 122848, 128355, 4476, 52437, 145936, 96790, 114637, 142054, 80054, 61411, 22860, 32211, 36723, 122036, 139449, 77445, 131879, 73566, 95163, 48234, 16156, 38896, 77205, 113559, 106975, 87688, 122987, 112865, 79275, 120521, 6027, 77364, 82584, 95986, 314319, 49290, 14255, 75238, 80429, 38854, 115547, 30430)\n",
    "gdp <- c(39594, 71274, 42476, 38411, 66262, 58686, 68184, 65554, 173944, 42719, 49610, 56674, 39454, 58942, 48460, 53580, 52038, 41434, 49536, 42087, 59757, 71517, 46021, 58426, 33956, 45541, 42759, 58986, 48356, 54912, 61150, 43634, 72429, 47270, 67553, 50952, 48706, 50313, 54234, 50156, 40204, 52238, 46780, 58125, 49347, 47086, 54906, 65151, 38471, 50873, 65633)\n",
    "exp <- c(32527, 48053, 34471, 32913, 44502, 42215, 50893, 42536, 60471, 39539, 34965, 46279, 35322, 42979, 36354, 37706, 36478, 33828, 34696, 43436, 45207, 53286, 39118, 45439, 29942, 38618, 40933, 40190, 39997, 50034, 50541, 34687, 49857, 34179, 46814, 39341, 32966, 40870, 42760, 43266, 33637, 42491, 34886, 37396, 35801, 47882, 43457, 44235, 34604, 40611, 40921)\n",
    "pop <- c(4874486, 739700, 7044008, 3001345, 39358497, 5611885, 3573297, 956823, 694906, 20963613, 10410330, 1424393, 1717715, 12778828, 6658078, 3141550, 2908718, 4452268, 4670560, 1334612, 6023868, 6859789, 9973114, 5566230, 2988510, 6106670, 1052482, 1915947, 2969905, 1348787, 8885525, 2091784, 19589572, 10268233, 754942, 11659650, 3931316, 4143625, 12787641, 1055673, 5021268, 872868, 6708799, 28295273, 3101042, 624344, 8463587, 7423362, 1817004, 5790186, 578931)\n",
    "gas <- c(2783254526, 289485939, 2949787310, 1532897311, 15594825695, 2365198847, 1502519067, 507170069, 123014040, 9252020920, 5076216786, 474314492, 823019931, 4914943924, 3236355799, 1699203540, 1319998330, 2244709451, 2218907847, 675163836, 2757076703, 2804751773, 4862601828, 2739535750, 1733718103, 3242770588, 552503524, 920516379, 1220927375, 729734148, 4026183702, 1045931855, 5801179300, 4850654009, 445242850, 5208003380, 1947555726, 1643893470, 5044955943, 391199365, 2906437326, 486622498, 3483319411, 14460602450, 1230289668, 314523661, 4135851787, 2848318463, 811538147, 2648192158, 369209224)\n",
    "gen <- c(139964, 6497, 105852, 60775, 206147, 53844, 34563, 7496, 67, 238413, 127455, 9813, 17396, 183592, 98930, 57910, 50933, 73179, 97719, 11264, 34104, 32204, 112314, 58749, 59728, 84607, 28221, 35407, 38201, 17447, 75645, 33597, 128065, 128468, 41505, 119554, 73732, 62714, 213639, 7615, 93081, 10936, 79046, 452794, 37412, 2141, 90417, 115912, 73357, 65107, 46742)"
   ]
  },
  {
   "cell_type": "code",
   "execution_count": 12,
   "metadata": {},
   "outputs": [],
   "source": [
    "df <- data.frame(emissions=emissions, pop=pop, gdp=gdp, exp=exp, gen=gen, gas=gas, road_len=road_len)"
   ]
  },
  {
   "cell_type": "code",
   "execution_count": 15,
   "metadata": {},
   "outputs": [
    {
     "data": {
      "text/html": [
       "<table>\n",
       "<caption>A data.frame: 6 × 7</caption>\n",
       "<thead>\n",
       "\t<tr><th></th><th scope=col>emissions</th><th scope=col>pop</th><th scope=col>gdp</th><th scope=col>exp</th><th scope=col>gen</th><th scope=col>gas</th><th scope=col>road_len</th></tr>\n",
       "\t<tr><th></th><th scope=col>&lt;dbl&gt;</th><th scope=col>&lt;dbl&gt;</th><th scope=col>&lt;dbl&gt;</th><th scope=col>&lt;dbl&gt;</th><th scope=col>&lt;dbl&gt;</th><th scope=col>&lt;dbl&gt;</th><th scope=col>&lt;dbl&gt;</th></tr>\n",
       "</thead>\n",
       "<tbody>\n",
       "\t<tr><th scope=row>1</th><td>108</td><td> 4874486</td><td>39594</td><td>32527</td><td>139964</td><td> 2783254526</td><td>101097</td></tr>\n",
       "\t<tr><th scope=row>2</th><td> 34</td><td>  739700</td><td>71274</td><td>48053</td><td>  6497</td><td>  289485939</td><td> 15535</td></tr>\n",
       "\t<tr><th scope=row>3</th><td> 86</td><td> 7044008</td><td>42476</td><td>34471</td><td>105852</td><td> 2949787310</td><td> 66558</td></tr>\n",
       "\t<tr><th scope=row>4</th><td> 64</td><td> 3001345</td><td>38411</td><td>32913</td><td> 60775</td><td> 1532897311</td><td>102603</td></tr>\n",
       "\t<tr><th scope=row>5</th><td>359</td><td>39358497</td><td>66262</td><td>44502</td><td>206147</td><td>15594825695</td><td>176214</td></tr>\n",
       "\t<tr><th scope=row>6</th><td> 87</td><td> 5611885</td><td>58686</td><td>42215</td><td> 53844</td><td> 2365198847</td><td> 88818</td></tr>\n",
       "</tbody>\n",
       "</table>\n"
      ],
      "text/latex": [
       "A data.frame: 6 × 7\n",
       "\\begin{tabular}{r|lllllll}\n",
       "  & emissions & pop & gdp & exp & gen & gas & road\\_len\\\\\n",
       "  & <dbl> & <dbl> & <dbl> & <dbl> & <dbl> & <dbl> & <dbl>\\\\\n",
       "\\hline\n",
       "\t1 & 108 &  4874486 & 39594 & 32527 & 139964 &  2783254526 & 101097\\\\\n",
       "\t2 &  34 &   739700 & 71274 & 48053 &   6497 &   289485939 &  15535\\\\\n",
       "\t3 &  86 &  7044008 & 42476 & 34471 & 105852 &  2949787310 &  66558\\\\\n",
       "\t4 &  64 &  3001345 & 38411 & 32913 &  60775 &  1532897311 & 102603\\\\\n",
       "\t5 & 359 & 39358497 & 66262 & 44502 & 206147 & 15594825695 & 176214\\\\\n",
       "\t6 &  87 &  5611885 & 58686 & 42215 &  53844 &  2365198847 &  88818\\\\\n",
       "\\end{tabular}\n"
      ],
      "text/markdown": [
       "\n",
       "A data.frame: 6 × 7\n",
       "\n",
       "| <!--/--> | emissions &lt;dbl&gt; | pop &lt;dbl&gt; | gdp &lt;dbl&gt; | exp &lt;dbl&gt; | gen &lt;dbl&gt; | gas &lt;dbl&gt; | road_len &lt;dbl&gt; |\n",
       "|---|---|---|---|---|---|---|---|\n",
       "| 1 | 108 |  4874486 | 39594 | 32527 | 139964 |  2783254526 | 101097 |\n",
       "| 2 |  34 |   739700 | 71274 | 48053 |   6497 |   289485939 |  15535 |\n",
       "| 3 |  86 |  7044008 | 42476 | 34471 | 105852 |  2949787310 |  66558 |\n",
       "| 4 |  64 |  3001345 | 38411 | 32913 |  60775 |  1532897311 | 102603 |\n",
       "| 5 | 359 | 39358497 | 66262 | 44502 | 206147 | 15594825695 | 176214 |\n",
       "| 6 |  87 |  5611885 | 58686 | 42215 |  53844 |  2365198847 |  88818 |\n",
       "\n"
      ],
      "text/plain": [
       "  emissions pop      gdp   exp   gen    gas         road_len\n",
       "1 108        4874486 39594 32527 139964  2783254526 101097  \n",
       "2  34         739700 71274 48053   6497   289485939  15535  \n",
       "3  86        7044008 42476 34471 105852  2949787310  66558  \n",
       "4  64        3001345 38411 32913  60775  1532897311 102603  \n",
       "5 359       39358497 66262 44502 206147 15594825695 176214  \n",
       "6  87        5611885 58686 42215  53844  2365198847  88818  "
      ]
     },
     "metadata": {},
     "output_type": "display_data"
    }
   ],
   "source": [
    "head(df)"
   ]
  },
  {
   "cell_type": "code",
   "execution_count": 16,
   "metadata": {},
   "outputs": [],
   "source": [
    "model = lm(emissions ~ pop + gdp + exp + gen + gas + road_len, data=df)"
   ]
  },
  {
   "cell_type": "code",
   "execution_count": 17,
   "metadata": {},
   "outputs": [
    {
     "data": {
      "text/plain": [
       "\n",
       "Call:\n",
       "lm(formula = emissions ~ pop + gdp + exp + gen + gas + road_len, \n",
       "    data = df)\n",
       "\n",
       "Residuals:\n",
       "    Min      1Q  Median      3Q     Max \n",
       "-82.287 -14.306  -0.197  14.728 122.483 \n",
       "\n",
       "Coefficients:\n",
       "              Estimate Std. Error t value Pr(>|t|)    \n",
       "(Intercept) -4.741e+01  4.725e+01  -1.003   0.3212    \n",
       "pop         -8.274e-06  4.150e-06  -1.994   0.0524 .  \n",
       "gdp          3.055e-04  3.787e-04   0.807   0.4241    \n",
       "exp          3.488e-04  1.341e-03   0.260   0.7959    \n",
       "gen          8.464e-04  1.667e-04   5.077 7.48e-06 ***\n",
       "gas          2.955e-08  1.136e-08   2.602   0.0126 *  \n",
       "road_len     2.289e-04  1.772e-04   1.291   0.2033    \n",
       "---\n",
       "Signif. codes:  0 '***' 0.001 '**' 0.01 '*' 0.05 '.' 0.1 ' ' 1\n",
       "\n",
       "Residual standard error: 35.4 on 44 degrees of freedom\n",
       "Multiple R-squared:  0.9122,\tAdjusted R-squared:  0.9002 \n",
       "F-statistic:  76.2 on 6 and 44 DF,  p-value: < 2.2e-16\n"
      ]
     },
     "metadata": {},
     "output_type": "display_data"
    }
   ],
   "source": [
    "summary(model)"
   ]
  },
  {
   "cell_type": "code",
   "execution_count": 35,
   "metadata": {},
   "outputs": [
    {
     "data": {
      "text/html": [
       "<style>\n",
       ".dl-inline {width: auto; margin:0; padding: 0}\n",
       ".dl-inline>dt, .dl-inline>dd {float: none; width: auto; display: inline-block}\n",
       ".dl-inline>dt::after {content: \":\\0020\"; padding-right: .5ex}\n",
       ".dl-inline>dt:not(:first-of-type) {padding-left: .5ex}\n",
       "</style><dl class=dl-inline><dt>pop</dt><dd>36.5164521892194</dd><dt>gdp</dt><dd>2.1979034903063</dd><dt>exp</dt><dd>2.84220702263115</dd><dt>gen</dt><dd>6.62208509371001</dd><dt>gas</dt><dd>49.4415316952638</dd><dt>road_len</dt><dd>3.77235990657272</dd></dl>\n"
      ],
      "text/latex": [
       "\\begin{description*}\n",
       "\\item[pop] 36.5164521892194\n",
       "\\item[gdp] 2.1979034903063\n",
       "\\item[exp] 2.84220702263115\n",
       "\\item[gen] 6.62208509371001\n",
       "\\item[gas] 49.4415316952638\n",
       "\\item[road\\textbackslash{}\\_len] 3.77235990657272\n",
       "\\end{description*}\n"
      ],
      "text/markdown": [
       "pop\n",
       ":   36.5164521892194gdp\n",
       ":   2.1979034903063exp\n",
       ":   2.84220702263115gen\n",
       ":   6.62208509371001gas\n",
       ":   49.4415316952638road_len\n",
       ":   3.77235990657272\n",
       "\n"
      ],
      "text/plain": [
       "      pop       gdp       exp       gen       gas  road_len \n",
       "36.516452  2.197903  2.842207  6.622085 49.441532  3.772360 "
      ]
     },
     "metadata": {},
     "output_type": "display_data"
    }
   ],
   "source": [
    "vif(model)"
   ]
  },
  {
   "cell_type": "code",
   "execution_count": 20,
   "metadata": {},
   "outputs": [
    {
     "data": {
      "image/png": "[encoded data removed]",
      "text/plain": [
       "Plot with title \"\""
      ]
     },
     "metadata": {
      "image/png": {
       "height": 420,
       "width": 420
      },
      "text/plain": {
       "height": 420,
       "width": 420
      }
     },
     "output_type": "display_data"
    },
    {
     "data": {
      "image/png": "[encoded data removed]",
      "text/plain": [
       "Plot with title \"\""
      ]
     },
     "metadata": {
      "image/png": {
       "height": 420,
       "width": 420
      },
      "text/plain": {
       "height": 420,
       "width": 420
      }
     },
     "output_type": "display_data"
    },
    {
     "data": {
      "image/png": "[encoded data removed]",
      "text/plain": [
       "Plot with title \"\""
      ]
     },
     "metadata": {
      "image/png": {
       "height": 420,
       "width": 420
      },
      "text/plain": {
       "height": 420,
       "width": 420
      }
     },
     "output_type": "display_data"
    },
    {
     "data": {
      "image/png": "[encoded data removed]",
      "text/plain": [
       "Plot with title \"\""
      ]
     },
     "metadata": {
      "image/png": {
       "height": 420,
       "width": 420
      },
      "text/plain": {
       "height": 420,
       "width": 420
      }
     },
     "output_type": "display_data"
    }
   ],
   "source": [
    "plot(model)"
   ]
  },
  {
   "cell_type": "code",
   "execution_count": 25,
   "metadata": {},
   "outputs": [],
   "source": [
    "model.stdres = rstandard(model)"
   ]
  },
  {
   "cell_type": "code",
   "execution_count": 38,
   "metadata": {},
   "outputs": [
    {
     "data": {
      "image/png": "[encoded data removed]",
      "text/plain": [
       "plot without title"
      ]
     },
     "metadata": {
      "image/png": {
       "height": 420,
       "width": 420
      },
      "text/plain": {
       "height": 420,
       "width": 420
      }
     },
     "output_type": "display_data"
    }
   ],
   "source": [
    "plot(fitted(model), model.stdres, \n",
    "     ylab=\"Standardized Residuals\", \n",
    "     xlab=\"Fitted Values\") \n",
    "abline(0, 0)"
   ]
  },
  {
   "cell_type": "code",
   "execution_count": 52,
   "metadata": {},
   "outputs": [
    {
     "data": {
      "text/html": [
       "<style>\n",
       ".dl-inline {width: auto; margin:0; padding: 0}\n",
       ".dl-inline>dt, .dl-inline>dd {float: none; width: auto; display: inline-block}\n",
       ".dl-inline>dt::after {content: \":\\0020\"; padding-right: .5ex}\n",
       ".dl-inline>dt:not(:first-of-type) {padding-left: .5ex}\n",
       "</style><dl class=dl-inline><dt>1</dt><dd>-1.53340609521161</dd><dt>2</dt><dd>0.915966255514863</dd><dt>3</dt><dd>-0.750737442109842</dd><dt>4</dt><dd>-0.210708362453772</dd><dt>5</dt><dd>1.14565096032599</dd><dt>6</dt><dd>0.35643049809984</dd><dt>7</dt><dd>-0.213651906325194</dd><dt>8</dt><dd>0.283941472086048</dd><dt>9</dt><dd>-1.6649465897992</dd><dt>10</dt><dd>-2.57935376790733</dd><dt>11</dt><dd>-1.43305043546195</dd><dt>12</dt><dd>0.598693839529741</dd><dt>13</dt><dd>0.12248840948891</dd><dt>14</dt><dd>-0.402579806748416</dd><dt>15</dt><dd>1.42144989527233</dd><dt>16</dt><dd>-0.163762909552976</dd><dt>17</dt><dd>-0.426120074377789</dd><dt>18</dt><dd>0.788773600368352</dd><dt>19</dt><dd>3.63039631710781</dd><dt>20</dt><dd>0.315666095702808</dd><dt>21</dt><dd>-0.0731306408302177</dd><dt>22</dt><dd>0.247186009792113</dd><dt>23</dt><dd>-0.36232609887956</dd><dt>24</dt><dd>-0.465451580648839</dd><dt>25</dt><dd>-0.0355419006826162</dd><dt>26</dt><dd>-0.149524425431158</dd><dt>27</dt><dd>0.0502531370997405</dd><dt>28</dt><dd>0.00784935937526324</dd><dt>29</dt><dd>-0.00565070424425316</dd><dt>30</dt><dd>-0.0816917136259063</dd><dt>31</dt><dd>-0.191533918089249</dd><dt>32</dt><dd>0.328267766755342</dd><dt>33</dt><dd>0.873002392037442</dd><dt>34</dt><dd>-1.62371478558144</dd><dt>35</dt><dd>0.129458070280077</dd><dt>36</dt><dd>1.01886837045683</dd><dt>37</dt><dd>0.0226140679403487</dd><dt>38</dt><dd>-0.855911323965027</dd><dt>39</dt><dd>-0.679197253182572</dd><dt>40</dt><dd>0.478583968217637</dd><dt>41</dt><dd>-1.4216912147373</dd><dt>42</dt><dd>-0.138447519587865</dd><dt>43</dt><dd>-0.507431306928391</dd><dt>44</dt><dd>3.82933704904061</dd><dt>45</dt><dd>0.707729180755427</dd><dt>46</dt><dd>0.395906287179879</dd><dt>47</dt><dd>-0.945350020563254</dd><dt>48</dt><dd>-1.44997564178634</dd><dt>49</dt><dd>1.04154341873182</dd><dt>50</dt><dd>0.110889597208713</dd><dt>51</dt><dd>0.62878990354147</dd></dl>\n"
      ],
      "text/latex": [
       "\\begin{description*}\n",
       "\\item[1] -1.53340609521161\n",
       "\\item[2] 0.915966255514863\n",
       "\\item[3] -0.750737442109842\n",
       "\\item[4] -0.210708362453772\n",
       "\\item[5] 1.14565096032599\n",
       "\\item[6] 0.35643049809984\n",
       "\\item[7] -0.213651906325194\n",
       "\\item[8] 0.283941472086048\n",
       "\\item[9] -1.6649465897992\n",
       "\\item[10] -2.57935376790733\n",
       "\\item[11] -1.43305043546195\n",
       "\\item[12] 0.598693839529741\n",
       "\\item[13] 0.12248840948891\n",
       "\\item[14] -0.402579806748416\n",
       "\\item[15] 1.42144989527233\n",
       "\\item[16] -0.163762909552976\n",
       "\\item[17] -0.426120074377789\n",
       "\\item[18] 0.788773600368352\n",
       "\\item[19] 3.63039631710781\n",
       "\\item[20] 0.315666095702808\n",
       "\\item[21] -0.0731306408302177\n",
       "\\item[22] 0.247186009792113\n",
       "\\item[23] -0.36232609887956\n",
       "\\item[24] -0.465451580648839\n",
       "\\item[25] -0.0355419006826162\n",
       "\\item[26] -0.149524425431158\n",
       "\\item[27] 0.0502531370997405\n",
       "\\item[28] 0.00784935937526324\n",
       "\\item[29] -0.00565070424425316\n",
       "\\item[30] -0.0816917136259063\n",
       "\\item[31] -0.191533918089249\n",
       "\\item[32] 0.328267766755342\n",
       "\\item[33] 0.873002392037442\n",
       "\\item[34] -1.62371478558144\n",
       "\\item[35] 0.129458070280077\n",
       "\\item[36] 1.01886837045683\n",
       "\\item[37] 0.0226140679403487\n",
       "\\item[38] -0.855911323965027\n",
       "\\item[39] -0.679197253182572\n",
       "\\item[40] 0.478583968217637\n",
       "\\item[41] -1.4216912147373\n",
       "\\item[42] -0.138447519587865\n",
       "\\item[43] -0.507431306928391\n",
       "\\item[44] 3.82933704904061\n",
       "\\item[45] 0.707729180755427\n",
       "\\item[46] 0.395906287179879\n",
       "\\item[47] -0.945350020563254\n",
       "\\item[48] -1.44997564178634\n",
       "\\item[49] 1.04154341873182\n",
       "\\item[50] 0.110889597208713\n",
       "\\item[51] 0.62878990354147\n",
       "\\end{description*}\n"
      ],
      "text/markdown": [
       "1\n",
       ":   -1.533406095211612\n",
       ":   0.9159662555148633\n",
       ":   -0.7507374421098424\n",
       ":   -0.2107083624537725\n",
       ":   1.145650960325996\n",
       ":   0.356430498099847\n",
       ":   -0.2136519063251948\n",
       ":   0.2839414720860489\n",
       ":   -1.664946589799210\n",
       ":   -2.5793537679073311\n",
       ":   -1.4330504354619512\n",
       ":   0.59869383952974113\n",
       ":   0.1224884094889114\n",
       ":   -0.40257980674841615\n",
       ":   1.4214498952723316\n",
       ":   -0.16376290955297617\n",
       ":   -0.42612007437778918\n",
       ":   0.78877360036835219\n",
       ":   3.6303963171078120\n",
       ":   0.31566609570280821\n",
       ":   -0.073130640830217722\n",
       ":   0.24718600979211323\n",
       ":   -0.3623260988795624\n",
       ":   -0.46545158064883925\n",
       ":   -0.035541900682616226\n",
       ":   -0.14952442543115827\n",
       ":   0.050253137099740528\n",
       ":   0.0078493593752632429\n",
       ":   -0.0056507042442531630\n",
       ":   -0.081691713625906331\n",
       ":   -0.19153391808924932\n",
       ":   0.32826776675534233\n",
       ":   0.87300239203744234\n",
       ":   -1.6237147855814435\n",
       ":   0.12945807028007736\n",
       ":   1.0188683704568337\n",
       ":   0.022614067940348738\n",
       ":   -0.85591132396502739\n",
       ":   -0.67919725318257240\n",
       ":   0.47858396821763741\n",
       ":   -1.421691214737342\n",
       ":   -0.13844751958786543\n",
       ":   -0.50743130692839144\n",
       ":   3.8293370490406145\n",
       ":   0.70772918075542746\n",
       ":   0.39590628717987947\n",
       ":   -0.94535002056325448\n",
       ":   -1.4499756417863449\n",
       ":   1.0415434187318250\n",
       ":   0.11088959720871351\n",
       ":   0.62878990354147\n",
       "\n"
      ],
      "text/plain": [
       "           1            2            3            4            5            6 \n",
       "-1.533406095  0.915966256 -0.750737442 -0.210708362  1.145650960  0.356430498 \n",
       "           7            8            9           10           11           12 \n",
       "-0.213651906  0.283941472 -1.664946590 -2.579353768 -1.433050435  0.598693840 \n",
       "          13           14           15           16           17           18 \n",
       " 0.122488409 -0.402579807  1.421449895 -0.163762910 -0.426120074  0.788773600 \n",
       "          19           20           21           22           23           24 \n",
       " 3.630396317  0.315666096 -0.073130641  0.247186010 -0.362326099 -0.465451581 \n",
       "          25           26           27           28           29           30 \n",
       "-0.035541901 -0.149524425  0.050253137  0.007849359 -0.005650704 -0.081691714 \n",
       "          31           32           33           34           35           36 \n",
       "-0.191533918  0.328267767  0.873002392 -1.623714786  0.129458070  1.018868370 \n",
       "          37           38           39           40           41           42 \n",
       " 0.022614068 -0.855911324 -0.679197253  0.478583968 -1.421691215 -0.138447520 \n",
       "          43           44           45           46           47           48 \n",
       "-0.507431307  3.829337049  0.707729181  0.395906287 -0.945350021 -1.449975642 \n",
       "          49           50           51 \n",
       " 1.041543419  0.110889597  0.628789904 "
      ]
     },
     "metadata": {},
     "output_type": "display_data"
    }
   ],
   "source": [
    "model.stdres"
   ]
  },
  {
   "cell_type": "code",
   "execution_count": 39,
   "metadata": {},
   "outputs": [
    {
     "data": {
      "text/html": [
       "<style>\n",
       ".dl-inline {width: auto; margin:0; padding: 0}\n",
       ".dl-inline>dt, .dl-inline>dd {float: none; width: auto; display: inline-block}\n",
       ".dl-inline>dt::after {content: \":\\0020\"; padding-right: .5ex}\n",
       ".dl-inline>dt:not(:first-of-type) {padding-left: .5ex}\n",
       "</style><dl class=dl-inline><dt>1</dt><dd>0.0979053519434783</dd><dt>2</dt><dd>0.0631798176044973</dd><dt>3</dt><dd>0.0932717818222532</dd><dt>4</dt><dd>0.0690752776014487</dd><dt>5</dt><dd>0.740707744778023</dd><dt>6</dt><dd>0.0354078801005772</dd><dt>7</dt><dd>0.0945305079501339</dd><dt>8</dt><dd>0.0781015627488046</dd><dt>9</dt><dd>0.859130762098232</dd><dt>10</dt><dd>0.187658845514538</dd><dt>11</dt><dd>0.0642404036124881</dd><dt>12</dt><dd>0.0743784274585473</dd><dt>13</dt><dd>0.0624070337125533</dd><dt>14</dt><dd>0.18195639768696</dd><dt>15</dt><dd>0.0325005730835392</dd><dt>16</dt><dd>0.0712098463983548</dd><dt>17</dt><dd>0.165539407397316</dd><dt>18</dt><dd>0.0512272229958541</dd><dt>19</dt><dd>0.091472584016092</dd><dt>20</dt><dd>0.0790903014536741</dd><dt>21</dt><dd>0.0763666663550774</dd><dt>22</dt><dd>0.125056224587398</dd><dt>23</dt><dd>0.0554899122492095</dd><dt>24</dt><dd>0.189270757590868</dd><dt>25</dt><dd>0.098439104750477</dd><dt>26</dt><dd>0.0823719697325572</dd><dt>27</dt><dd>0.0619953382677084</dd><dt>28</dt><dd>0.0664717138242734</dd><dt>29</dt><dd>0.032751494075913</dd><dt>30</dt><dd>0.133597873292746</dd><dt>31</dt><dd>0.139693312442726</dd><dt>32</dt><dd>0.0593065909196452</dd><dt>33</dt><dd>0.531006434046128</dd><dt>34</dt><dd>0.0657024457053577</dd><dt>35</dt><dd>0.107665332098857</dd><dt>36</dt><dd>0.0389670879817873</dd><dt>37</dt><dd>0.0834297647826162</dd><dt>38</dt><dd>0.036449768224199</dd><dt>39</dt><dd>0.254607352764456</dd><dt>40</dt><dd>0.0694594354229105</dd><dt>41</dt><dd>0.0734804641751192</dd><dt>42</dt><dd>0.0837323733314346</dd><dt>43</dt><dd>0.0667923380254301</dd><dt>44</dt><dd>0.691934011547187</dd><dt>45</dt><dd>0.0668603251450999</dd><dt>46</dt><dd>0.124069029676733</dd><dt>47</dt><dd>0.0588533744552071</dd><dt>48</dt><dd>0.0814264615696533</dd><dt>49</dt><dd>0.11634030590128</dd><dt>50</dt><dd>0.0629331048641601</dd><dt>51</dt><dd>0.0724879022164175</dd></dl>\n"
      ],
      "text/latex": [
       "\\begin{description*}\n",
       "\\item[1] 0.0979053519434783\n",
       "\\item[2] 0.0631798176044973\n",
       "\\item[3] 0.0932717818222532\n",
       "\\item[4] 0.0690752776014487\n",
       "\\item[5] 0.740707744778023\n",
       "\\item[6] 0.0354078801005772\n",
       "\\item[7] 0.0945305079501339\n",
       "\\item[8] 0.0781015627488046\n",
       "\\item[9] 0.859130762098232\n",
       "\\item[10] 0.187658845514538\n",
       "\\item[11] 0.0642404036124881\n",
       "\\item[12] 0.0743784274585473\n",
       "\\item[13] 0.0624070337125533\n",
       "\\item[14] 0.18195639768696\n",
       "\\item[15] 0.0325005730835392\n",
       "\\item[16] 0.0712098463983548\n",
       "\\item[17] 0.165539407397316\n",
       "\\item[18] 0.0512272229958541\n",
       "\\item[19] 0.091472584016092\n",
       "\\item[20] 0.0790903014536741\n",
       "\\item[21] 0.0763666663550774\n",
       "\\item[22] 0.125056224587398\n",
       "\\item[23] 0.0554899122492095\n",
       "\\item[24] 0.189270757590868\n",
       "\\item[25] 0.098439104750477\n",
       "\\item[26] 0.0823719697325572\n",
       "\\item[27] 0.0619953382677084\n",
       "\\item[28] 0.0664717138242734\n",
       "\\item[29] 0.032751494075913\n",
       "\\item[30] 0.133597873292746\n",
       "\\item[31] 0.139693312442726\n",
       "\\item[32] 0.0593065909196452\n",
       "\\item[33] 0.531006434046128\n",
       "\\item[34] 0.0657024457053577\n",
       "\\item[35] 0.107665332098857\n",
       "\\item[36] 0.0389670879817873\n",
       "\\item[37] 0.0834297647826162\n",
       "\\item[38] 0.036449768224199\n",
       "\\item[39] 0.254607352764456\n",
       "\\item[40] 0.0694594354229105\n",
       "\\item[41] 0.0734804641751192\n",
       "\\item[42] 0.0837323733314346\n",
       "\\item[43] 0.0667923380254301\n",
       "\\item[44] 0.691934011547187\n",
       "\\item[45] 0.0668603251450999\n",
       "\\item[46] 0.124069029676733\n",
       "\\item[47] 0.0588533744552071\n",
       "\\item[48] 0.0814264615696533\n",
       "\\item[49] 0.11634030590128\n",
       "\\item[50] 0.0629331048641601\n",
       "\\item[51] 0.0724879022164175\n",
       "\\end{description*}\n"
      ],
      "text/markdown": [
       "1\n",
       ":   0.09790535194347832\n",
       ":   0.06317981760449733\n",
       ":   0.09327178182225324\n",
       ":   0.06907527760144875\n",
       ":   0.7407077447780236\n",
       ":   0.03540788010057727\n",
       ":   0.09453050795013398\n",
       ":   0.07810156274880469\n",
       ":   0.85913076209823210\n",
       ":   0.18765884551453811\n",
       ":   0.064240403612488112\n",
       ":   0.074378427458547313\n",
       ":   0.062407033712553314\n",
       ":   0.1819563976869615\n",
       ":   0.032500573083539216\n",
       ":   0.071209846398354817\n",
       ":   0.16553940739731618\n",
       ":   0.051227222995854119\n",
       ":   0.09147258401609220\n",
       ":   0.079090301453674121\n",
       ":   0.076366666355077422\n",
       ":   0.12505622458739823\n",
       ":   0.055489912249209524\n",
       ":   0.18927075759086825\n",
       ":   0.09843910475047726\n",
       ":   0.082371969732557227\n",
       ":   0.061995338267708428\n",
       ":   0.066471713824273429\n",
       ":   0.03275149407591330\n",
       ":   0.13359787329274631\n",
       ":   0.13969331244272632\n",
       ":   0.059306590919645233\n",
       ":   0.53100643404612834\n",
       ":   0.065702445705357735\n",
       ":   0.10766533209885736\n",
       ":   0.038967087981787337\n",
       ":   0.083429764782616238\n",
       ":   0.03644976822419939\n",
       ":   0.25460735276445640\n",
       ":   0.069459435422910541\n",
       ":   0.073480464175119242\n",
       ":   0.083732373331434643\n",
       ":   0.066792338025430144\n",
       ":   0.69193401154718745\n",
       ":   0.066860325145099946\n",
       ":   0.12406902967673347\n",
       ":   0.058853374455207148\n",
       ":   0.081426461569653349\n",
       ":   0.1163403059012850\n",
       ":   0.062933104864160151\n",
       ":   0.0724879022164175\n",
       "\n"
      ],
      "text/plain": [
       "         1          2          3          4          5          6          7 \n",
       "0.09790535 0.06317982 0.09327178 0.06907528 0.74070774 0.03540788 0.09453051 \n",
       "         8          9         10         11         12         13         14 \n",
       "0.07810156 0.85913076 0.18765885 0.06424040 0.07437843 0.06240703 0.18195640 \n",
       "        15         16         17         18         19         20         21 \n",
       "0.03250057 0.07120985 0.16553941 0.05122722 0.09147258 0.07909030 0.07636667 \n",
       "        22         23         24         25         26         27         28 \n",
       "0.12505622 0.05548991 0.18927076 0.09843910 0.08237197 0.06199534 0.06647171 \n",
       "        29         30         31         32         33         34         35 \n",
       "0.03275149 0.13359787 0.13969331 0.05930659 0.53100643 0.06570245 0.10766533 \n",
       "        36         37         38         39         40         41         42 \n",
       "0.03896709 0.08342976 0.03644977 0.25460735 0.06945944 0.07348046 0.08373237 \n",
       "        43         44         45         46         47         48         49 \n",
       "0.06679234 0.69193401 0.06686033 0.12406903 0.05885337 0.08142646 0.11634031 \n",
       "        50         51 \n",
       "0.06293310 0.07248790 "
      ]
     },
     "metadata": {},
     "output_type": "display_data"
    }
   ],
   "source": [
    "hatvalues(model)"
   ]
  },
  {
   "cell_type": "code",
   "execution_count": 40,
   "metadata": {},
   "outputs": [
    {
     "data": {
      "text/html": [
       "<style>\n",
       ".dl-inline {width: auto; margin:0; padding: 0}\n",
       ".dl-inline>dt, .dl-inline>dd {float: none; width: auto; display: inline-block}\n",
       ".dl-inline>dt::after {content: \":\\0020\"; padding-right: .5ex}\n",
       ".dl-inline>dt:not(:first-of-type) {padding-left: .5ex}\n",
       "</style><dl class=dl-inline><dt>1</dt><dd>0.036456137795716</dd><dt>2</dt><dd>0.00808319467098885</dd><dt>3</dt><dd>0.00828230566520794</dd><dt>4</dt><dd>0.000470623466992887</dd><dt>5</dt><dd>0.53562883348571</dd><dt>6</dt><dd>0.000666205005291655</dd><dt>7</dt><dd>0.000680790792935464</dd><dt>8</dt><dd>0.00097574484209278</dd><dt>9</dt><dd>2.4151587197842</dd><dt>10</dt><dd>0.219560578798224</dd><dt>11</dt><dd>0.02014043666016</dd><dt>12</dt><dd>0.00411457575806298</dd><dt>13</dt><dd>0.000142662933702497</dd><dt>14</dt><dd>0.00514987647074701</dd><dt>15</dt><dd>0.00969628504675177</dd><dt>16</dt><dd>0.000293734864649863</dd><dt>17</dt><dd>0.00514590201643755</dd><dt>18</dt><dd>0.00479893968863264</dd><dt>19</dt><dd>0.189567091299519</dd><dt>20</dt><dd>0.00122254265731543</dd><dt>21</dt><dd>6.31691383159074e-05</dd><dt>22</dt><dd>0.00124759866512155</dd><dt>23</dt><dd>0.00110181488032622</dd><dt>24</dt><dd>0.00722534620735935</dd><dt>25</dt><dd>1.97040657101271e-05</dd><dt>26</dt><dd>0.000286707480623173</dd><dt>27</dt><dd>2.38441779100284e-05</dd><dt>28</dt><dd>6.26728985889235e-07</dd><dt>29</dt><dd>1.54454356803794e-07</dd><dt>30</dt><dd>0.000147006997509365</dd><dt>31</dt><dd>0.000850972767857342</dd><dt>32</dt><dd>0.000970539690153589</dd><dt>33</dt><dd>0.123272364393454</dd><dt>34</dt><dd>0.0264860853858904</dd><dt>35</dt><dd>0.000288873921110709</dd><dt>36</dt><dd>0.00601309148919851</dd><dt>37</dt><dd>6.64989234435212e-06</dd><dt>38</dt><dd>0.00395894907534029</dd><dt>39</dt><dd>0.0225102147734191</dd><dt>40</dt><dd>0.00244238538113451</dd><dt>41</dt><dd>0.0228997019370634</dd><dt>42</dt><dd>0.000250232305577526</dd><dt>43</dt><dd>0.00263272093402578</dd><dt>44</dt><dd>4.70511315483484</dd><dt>45</dt><dd>0.00512693716077103</dd><dt>46</dt><dd>0.00317161352307674</dd><dt>47</dt><dd>0.0079836468015526</dd><dt>48</dt><dd>0.0266241042640205</dd><dt>49</dt><dd>0.0204033684984167</dd><dt>50</dt><dd>0.000117975583820999</dd><dt>51</dt><dd>0.00441427136698067</dd></dl>\n"
      ],
      "text/latex": [
       "\\begin{description*}\n",
       "\\item[1] 0.036456137795716\n",
       "\\item[2] 0.00808319467098885\n",
       "\\item[3] 0.00828230566520794\n",
       "\\item[4] 0.000470623466992887\n",
       "\\item[5] 0.53562883348571\n",
       "\\item[6] 0.000666205005291655\n",
       "\\item[7] 0.000680790792935464\n",
       "\\item[8] 0.00097574484209278\n",
       "\\item[9] 2.4151587197842\n",
       "\\item[10] 0.219560578798224\n",
       "\\item[11] 0.02014043666016\n",
       "\\item[12] 0.00411457575806298\n",
       "\\item[13] 0.000142662933702497\n",
       "\\item[14] 0.00514987647074701\n",
       "\\item[15] 0.00969628504675177\n",
       "\\item[16] 0.000293734864649863\n",
       "\\item[17] 0.00514590201643755\n",
       "\\item[18] 0.00479893968863264\n",
       "\\item[19] 0.189567091299519\n",
       "\\item[20] 0.00122254265731543\n",
       "\\item[21] 6.31691383159074e-05\n",
       "\\item[22] 0.00124759866512155\n",
       "\\item[23] 0.00110181488032622\n",
       "\\item[24] 0.00722534620735935\n",
       "\\item[25] 1.97040657101271e-05\n",
       "\\item[26] 0.000286707480623173\n",
       "\\item[27] 2.38441779100284e-05\n",
       "\\item[28] 6.26728985889235e-07\n",
       "\\item[29] 1.54454356803794e-07\n",
       "\\item[30] 0.000147006997509365\n",
       "\\item[31] 0.000850972767857342\n",
       "\\item[32] 0.000970539690153589\n",
       "\\item[33] 0.123272364393454\n",
       "\\item[34] 0.0264860853858904\n",
       "\\item[35] 0.000288873921110709\n",
       "\\item[36] 0.00601309148919851\n",
       "\\item[37] 6.64989234435212e-06\n",
       "\\item[38] 0.00395894907534029\n",
       "\\item[39] 0.0225102147734191\n",
       "\\item[40] 0.00244238538113451\n",
       "\\item[41] 0.0228997019370634\n",
       "\\item[42] 0.000250232305577526\n",
       "\\item[43] 0.00263272093402578\n",
       "\\item[44] 4.70511315483484\n",
       "\\item[45] 0.00512693716077103\n",
       "\\item[46] 0.00317161352307674\n",
       "\\item[47] 0.0079836468015526\n",
       "\\item[48] 0.0266241042640205\n",
       "\\item[49] 0.0204033684984167\n",
       "\\item[50] 0.000117975583820999\n",
       "\\item[51] 0.00441427136698067\n",
       "\\end{description*}\n"
      ],
      "text/markdown": [
       "1\n",
       ":   0.0364561377957162\n",
       ":   0.008083194670988853\n",
       ":   0.008282305665207944\n",
       ":   0.0004706234669928875\n",
       ":   0.535628833485716\n",
       ":   0.0006662050052916557\n",
       ":   0.0006807907929354648\n",
       ":   0.000975744842092789\n",
       ":   2.415158719784210\n",
       ":   0.21956057879822411\n",
       ":   0.0201404366601612\n",
       ":   0.0041145757580629813\n",
       ":   0.00014266293370249714\n",
       ":   0.0051498764707470115\n",
       ":   0.0096962850467517716\n",
       ":   0.00029373486464986317\n",
       ":   0.0051459020164375518\n",
       ":   0.0047989396886326419\n",
       ":   0.18956709129951920\n",
       ":   0.0012225426573154321\n",
       ":   6.31691383159074e-0522\n",
       ":   0.0012475986651215523\n",
       ":   0.0011018148803262224\n",
       ":   0.0072253462073593525\n",
       ":   1.97040657101271e-0526\n",
       ":   0.00028670748062317327\n",
       ":   2.38441779100284e-0528\n",
       ":   6.26728985889235e-0729\n",
       ":   1.54454356803794e-0730\n",
       ":   0.00014700699750936531\n",
       ":   0.00085097276785734232\n",
       ":   0.00097053969015358933\n",
       ":   0.12327236439345434\n",
       ":   0.026486085385890435\n",
       ":   0.00028887392111070936\n",
       ":   0.0060130914891985137\n",
       ":   6.64989234435212e-0638\n",
       ":   0.0039589490753402939\n",
       ":   0.022510214773419140\n",
       ":   0.0024423853811345141\n",
       ":   0.022899701937063442\n",
       ":   0.00025023230557752643\n",
       ":   0.0026327209340257844\n",
       ":   4.7051131548348445\n",
       ":   0.0051269371607710346\n",
       ":   0.0031716135230767447\n",
       ":   0.007983646801552648\n",
       ":   0.026624104264020549\n",
       ":   0.020403368498416750\n",
       ":   0.00011797558382099951\n",
       ":   0.00441427136698067\n",
       "\n"
      ],
      "text/plain": [
       "           1            2            3            4            5            6 \n",
       "3.645614e-02 8.083195e-03 8.282306e-03 4.706235e-04 5.356288e-01 6.662050e-04 \n",
       "           7            8            9           10           11           12 \n",
       "6.807908e-04 9.757448e-04 2.415159e+00 2.195606e-01 2.014044e-02 4.114576e-03 \n",
       "          13           14           15           16           17           18 \n",
       "1.426629e-04 5.149876e-03 9.696285e-03 2.937349e-04 5.145902e-03 4.798940e-03 \n",
       "          19           20           21           22           23           24 \n",
       "1.895671e-01 1.222543e-03 6.316914e-05 1.247599e-03 1.101815e-03 7.225346e-03 \n",
       "          25           26           27           28           29           30 \n",
       "1.970407e-05 2.867075e-04 2.384418e-05 6.267290e-07 1.544544e-07 1.470070e-04 \n",
       "          31           32           33           34           35           36 \n",
       "8.509728e-04 9.705397e-04 1.232724e-01 2.648609e-02 2.888739e-04 6.013091e-03 \n",
       "          37           38           39           40           41           42 \n",
       "6.649892e-06 3.958949e-03 2.251021e-02 2.442385e-03 2.289970e-02 2.502323e-04 \n",
       "          43           44           45           46           47           48 \n",
       "2.632721e-03 4.705113e+00 5.126937e-03 3.171614e-03 7.983647e-03 2.662410e-02 \n",
       "          49           50           51 \n",
       "2.040337e-02 1.179756e-04 4.414271e-03 "
      ]
     },
     "metadata": {},
     "output_type": "display_data"
    }
   ],
   "source": [
    "cooks.distance(model)"
   ]
  },
  {
   "cell_type": "code",
   "execution_count": 49,
   "metadata": {},
   "outputs": [
    {
     "data": {
      "text/html": [
       "<dl>\n",
       "\t<dt>$which</dt>\n",
       "\t\t<dd><table>\n",
       "<caption>A matrix: 6 × 6 of type lgl</caption>\n",
       "<thead>\n",
       "\t<tr><th></th><th scope=col>1</th><th scope=col>2</th><th scope=col>3</th><th scope=col>4</th><th scope=col>5</th><th scope=col>6</th></tr>\n",
       "</thead>\n",
       "<tbody>\n",
       "\t<tr><th scope=row>1</th><td>FALSE</td><td>FALSE</td><td>FALSE</td><td>TRUE</td><td>FALSE</td><td>FALSE</td></tr>\n",
       "\t<tr><th scope=row>2</th><td>FALSE</td><td>FALSE</td><td>FALSE</td><td>TRUE</td><td> TRUE</td><td>FALSE</td></tr>\n",
       "\t<tr><th scope=row>3</th><td> TRUE</td><td>FALSE</td><td>FALSE</td><td>TRUE</td><td> TRUE</td><td>FALSE</td></tr>\n",
       "\t<tr><th scope=row>4</th><td> TRUE</td><td> TRUE</td><td>FALSE</td><td>TRUE</td><td> TRUE</td><td>FALSE</td></tr>\n",
       "\t<tr><th scope=row>5</th><td> TRUE</td><td> TRUE</td><td>FALSE</td><td>TRUE</td><td> TRUE</td><td> TRUE</td></tr>\n",
       "\t<tr><th scope=row>6</th><td> TRUE</td><td> TRUE</td><td> TRUE</td><td>TRUE</td><td> TRUE</td><td> TRUE</td></tr>\n",
       "</tbody>\n",
       "</table>\n",
       "</dd>\n",
       "\t<dt>$label</dt>\n",
       "\t\t<dd><style>\n",
       ".list-inline {list-style: none; margin:0; padding: 0}\n",
       ".list-inline>li {display: inline-block}\n",
       ".list-inline>li:not(:last-child)::after {content: \"\\00b7\"; padding: 0 .5ex}\n",
       "</style>\n",
       "<ol class=list-inline><li>'(Intercept)'</li><li>'1'</li><li>'2'</li><li>'3'</li><li>'4'</li><li>'5'</li><li>'6'</li></ol>\n",
       "</dd>\n",
       "\t<dt>$size</dt>\n",
       "\t\t<dd><style>\n",
       ".list-inline {list-style: none; margin:0; padding: 0}\n",
       ".list-inline>li {display: inline-block}\n",
       ".list-inline>li:not(:last-child)::after {content: \"\\00b7\"; padding: 0 .5ex}\n",
       "</style>\n",
       "<ol class=list-inline><li>2</li><li>3</li><li>4</li><li>5</li><li>6</li><li>7</li></ol>\n",
       "</dd>\n",
       "\t<dt>$Cp</dt>\n",
       "\t\t<dd><style>\n",
       ".list-inline {list-style: none; margin:0; padding: 0}\n",
       ".list-inline>li {display: inline-block}\n",
       ".list-inline>li:not(:last-child)::after {content: \"\\00b7\"; padding: 0 .5ex}\n",
       "</style>\n",
       "<ol class=list-inline><li>11.4669284026931</li><li>6.12700532287982</li><li>4.11115084398056</li><li>4.68487770315991</li><li>5.06771335184968</li><li>7</li></ol>\n",
       "</dd>\n",
       "</dl>\n"
      ],
      "text/latex": [
       "\\begin{description}\n",
       "\\item[\\$which] A matrix: 6 × 6 of type lgl\n",
       "\\begin{tabular}{r|llllll}\n",
       "  & 1 & 2 & 3 & 4 & 5 & 6\\\\\n",
       "\\hline\n",
       "\t1 & FALSE & FALSE & FALSE & TRUE & FALSE & FALSE\\\\\n",
       "\t2 & FALSE & FALSE & FALSE & TRUE &  TRUE & FALSE\\\\\n",
       "\t3 &  TRUE & FALSE & FALSE & TRUE &  TRUE & FALSE\\\\\n",
       "\t4 &  TRUE &  TRUE & FALSE & TRUE &  TRUE & FALSE\\\\\n",
       "\t5 &  TRUE &  TRUE & FALSE & TRUE &  TRUE &  TRUE\\\\\n",
       "\t6 &  TRUE &  TRUE &  TRUE & TRUE &  TRUE &  TRUE\\\\\n",
       "\\end{tabular}\n",
       "\n",
       "\\item[\\$label] \\begin{enumerate*}\n",
       "\\item '(Intercept)'\n",
       "\\item '1'\n",
       "\\item '2'\n",
       "\\item '3'\n",
       "\\item '4'\n",
       "\\item '5'\n",
       "\\item '6'\n",
       "\\end{enumerate*}\n",
       "\n",
       "\\item[\\$size] \\begin{enumerate*}\n",
       "\\item 2\n",
       "\\item 3\n",
       "\\item 4\n",
       "\\item 5\n",
       "\\item 6\n",
       "\\item 7\n",
       "\\end{enumerate*}\n",
       "\n",
       "\\item[\\$Cp] \\begin{enumerate*}\n",
       "\\item 11.4669284026931\n",
       "\\item 6.12700532287982\n",
       "\\item 4.11115084398056\n",
       "\\item 4.68487770315991\n",
       "\\item 5.06771335184968\n",
       "\\item 7\n",
       "\\end{enumerate*}\n",
       "\n",
       "\\end{description}\n"
      ],
      "text/markdown": [
       "$which\n",
       ":   \n",
       "A matrix: 6 × 6 of type lgl\n",
       "\n",
       "| <!--/--> | 1 | 2 | 3 | 4 | 5 | 6 |\n",
       "|---|---|---|---|---|---|---|\n",
       "| 1 | FALSE | FALSE | FALSE | TRUE | FALSE | FALSE |\n",
       "| 2 | FALSE | FALSE | FALSE | TRUE |  TRUE | FALSE |\n",
       "| 3 |  TRUE | FALSE | FALSE | TRUE |  TRUE | FALSE |\n",
       "| 4 |  TRUE |  TRUE | FALSE | TRUE |  TRUE | FALSE |\n",
       "| 5 |  TRUE |  TRUE | FALSE | TRUE |  TRUE |  TRUE |\n",
       "| 6 |  TRUE |  TRUE |  TRUE | TRUE |  TRUE |  TRUE |\n",
       "\n",
       "\n",
       "$label\n",
       ":   1. '(Intercept)'\n",
       "2. '1'\n",
       "3. '2'\n",
       "4. '3'\n",
       "5. '4'\n",
       "6. '5'\n",
       "7. '6'\n",
       "\n",
       "\n",
       "\n",
       "$size\n",
       ":   1. 2\n",
       "2. 3\n",
       "3. 4\n",
       "4. 5\n",
       "5. 6\n",
       "6. 7\n",
       "\n",
       "\n",
       "\n",
       "$Cp\n",
       ":   1. 11.4669284026931\n",
       "2. 6.12700532287982\n",
       "3. 4.11115084398056\n",
       "4. 4.68487770315991\n",
       "5. 5.06771335184968\n",
       "6. 7\n",
       "\n",
       "\n",
       "\n",
       "\n",
       "\n"
      ],
      "text/plain": [
       "$which\n",
       "      1     2     3    4     5     6\n",
       "1 FALSE FALSE FALSE TRUE FALSE FALSE\n",
       "2 FALSE FALSE FALSE TRUE  TRUE FALSE\n",
       "3  TRUE FALSE FALSE TRUE  TRUE FALSE\n",
       "4  TRUE  TRUE FALSE TRUE  TRUE FALSE\n",
       "5  TRUE  TRUE FALSE TRUE  TRUE  TRUE\n",
       "6  TRUE  TRUE  TRUE TRUE  TRUE  TRUE\n",
       "\n",
       "$label\n",
       "[1] \"(Intercept)\" \"1\"           \"2\"           \"3\"           \"4\"          \n",
       "[6] \"5\"           \"6\"          \n",
       "\n",
       "$size\n",
       "[1] 2 3 4 5 6 7\n",
       "\n",
       "$Cp\n",
       "[1] 11.466928  6.127005  4.111151  4.684878  5.067713  7.000000\n"
      ]
     },
     "metadata": {},
     "output_type": "display_data"
    }
   ],
   "source": [
    "leaps(cbind(pop,gdp,exp,gen,gas,road_len),emissions,nbest=1)"
   ]
  },
  {
   "cell_type": "code",
   "execution_count": 55,
   "metadata": {},
   "outputs": [],
   "source": [
    "#----------------------------------------------------------------------------------------------------------------------------------------------------\n",
    "#----------------------------------------------------------------------------------------------------------------------------------------------------\n",
    "#----------------------------------------------------------------------------------------------------------------------------------------------------\n",
    "#----------------------------------------------------------------------------------------------------------------------------------------------------\n",
    "#----------------------------------------------------------------------------------------------------------------------------------------------------\n",
    "#----------------------------------------------------------------------------------------------------------------------------------------------------"
   ]
  },
  {
   "cell_type": "code",
   "execution_count": 191,
   "metadata": {},
   "outputs": [],
   "source": [
    "emissions_t <- emissions[c(-19, -10, -42)]\n",
    "road_len_t <- road_len[c(-19, -10, -42)]\n",
    "gdp_t <- gdp[c(-19, -10, -42)]\n",
    "exp_t <- exp[c(-19, -10, -42)]\n",
    "pop_t <- pop[c(-19, -10, -42)]\n",
    "gas_t <- gas[c(-19, -10, -42)]\n",
    "gen_t <- gen[c(-19, -10, -42)]"
   ]
  },
  {
   "cell_type": "code",
   "execution_count": 185,
   "metadata": {},
   "outputs": [],
   "source": [
    "model_t = lm(emissions_t ~ pop_t + gdp_t + exp_t + gen_t + gas_t + road_len_t, data=df)"
   ]
  },
  {
   "cell_type": "code",
   "execution_count": 186,
   "metadata": {},
   "outputs": [
    {
     "data": {
      "text/html": [
       "<dl>\n",
       "\t<dt>$which</dt>\n",
       "\t\t<dd><table>\n",
       "<caption>A matrix: 11 × 6 of type lgl</caption>\n",
       "<thead>\n",
       "\t<tr><th></th><th scope=col>1</th><th scope=col>2</th><th scope=col>3</th><th scope=col>4</th><th scope=col>5</th><th scope=col>6</th></tr>\n",
       "</thead>\n",
       "<tbody>\n",
       "\t<tr><th scope=row>1</th><td>FALSE</td><td>FALSE</td><td>FALSE</td><td> TRUE</td><td>FALSE</td><td>FALSE</td></tr>\n",
       "\t<tr><th scope=row>1</th><td>FALSE</td><td>FALSE</td><td>FALSE</td><td>FALSE</td><td> TRUE</td><td>FALSE</td></tr>\n",
       "\t<tr><th scope=row>2</th><td>FALSE</td><td>FALSE</td><td>FALSE</td><td> TRUE</td><td> TRUE</td><td>FALSE</td></tr>\n",
       "\t<tr><th scope=row>2</th><td> TRUE</td><td>FALSE</td><td>FALSE</td><td> TRUE</td><td>FALSE</td><td>FALSE</td></tr>\n",
       "\t<tr><th scope=row>3</th><td> TRUE</td><td>FALSE</td><td>FALSE</td><td> TRUE</td><td> TRUE</td><td>FALSE</td></tr>\n",
       "\t<tr><th scope=row>3</th><td>FALSE</td><td>FALSE</td><td>FALSE</td><td> TRUE</td><td> TRUE</td><td> TRUE</td></tr>\n",
       "\t<tr><th scope=row>4</th><td> TRUE</td><td>FALSE</td><td> TRUE</td><td> TRUE</td><td> TRUE</td><td>FALSE</td></tr>\n",
       "\t<tr><th scope=row>4</th><td> TRUE</td><td> TRUE</td><td>FALSE</td><td> TRUE</td><td> TRUE</td><td>FALSE</td></tr>\n",
       "\t<tr><th scope=row>5</th><td> TRUE</td><td>FALSE</td><td> TRUE</td><td> TRUE</td><td> TRUE</td><td> TRUE</td></tr>\n",
       "\t<tr><th scope=row>5</th><td> TRUE</td><td> TRUE</td><td>FALSE</td><td> TRUE</td><td> TRUE</td><td> TRUE</td></tr>\n",
       "\t<tr><th scope=row>6</th><td> TRUE</td><td> TRUE</td><td> TRUE</td><td> TRUE</td><td> TRUE</td><td> TRUE</td></tr>\n",
       "</tbody>\n",
       "</table>\n",
       "</dd>\n",
       "\t<dt>$label</dt>\n",
       "\t\t<dd><style>\n",
       ".list-inline {list-style: none; margin:0; padding: 0}\n",
       ".list-inline>li {display: inline-block}\n",
       ".list-inline>li:not(:last-child)::after {content: \"\\00b7\"; padding: 0 .5ex}\n",
       "</style>\n",
       "<ol class=list-inline><li>'(Intercept)'</li><li>'1'</li><li>'2'</li><li>'3'</li><li>'4'</li><li>'5'</li><li>'6'</li></ol>\n",
       "</dd>\n",
       "\t<dt>$size</dt>\n",
       "\t\t<dd><style>\n",
       ".list-inline {list-style: none; margin:0; padding: 0}\n",
       ".list-inline>li {display: inline-block}\n",
       ".list-inline>li:not(:last-child)::after {content: \"\\00b7\"; padding: 0 .5ex}\n",
       "</style>\n",
       "<ol class=list-inline><li>2</li><li>2</li><li>3</li><li>3</li><li>4</li><li>4</li><li>5</li><li>5</li><li>6</li><li>6</li><li>7</li></ol>\n",
       "</dd>\n",
       "\t<dt>$Cp</dt>\n",
       "\t\t<dd><style>\n",
       ".list-inline {list-style: none; margin:0; padding: 0}\n",
       ".list-inline>li {display: inline-block}\n",
       ".list-inline>li:not(:last-child)::after {content: \"\\00b7\"; padding: 0 .5ex}\n",
       "</style>\n",
       "<ol class=list-inline><li>27.1246005039649</li><li>101.700100215775</li><li>11.0848516052525</li><li>18.742964897219</li><li>6.03812966058023</li><li>11.0340734563256</li><li>5.66068866858474</li><li>6.15456312746408</li><li>5.06337741137513</li><li>6.57598187448476</li><li>7</li></ol>\n",
       "</dd>\n",
       "</dl>\n"
      ],
      "text/latex": [
       "\\begin{description}\n",
       "\\item[\\$which] A matrix: 11 × 6 of type lgl\n",
       "\\begin{tabular}{r|llllll}\n",
       "  & 1 & 2 & 3 & 4 & 5 & 6\\\\\n",
       "\\hline\n",
       "\t1 & FALSE & FALSE & FALSE &  TRUE & FALSE & FALSE\\\\\n",
       "\t1 & FALSE & FALSE & FALSE & FALSE &  TRUE & FALSE\\\\\n",
       "\t2 & FALSE & FALSE & FALSE &  TRUE &  TRUE & FALSE\\\\\n",
       "\t2 &  TRUE & FALSE & FALSE &  TRUE & FALSE & FALSE\\\\\n",
       "\t3 &  TRUE & FALSE & FALSE &  TRUE &  TRUE & FALSE\\\\\n",
       "\t3 & FALSE & FALSE & FALSE &  TRUE &  TRUE &  TRUE\\\\\n",
       "\t4 &  TRUE & FALSE &  TRUE &  TRUE &  TRUE & FALSE\\\\\n",
       "\t4 &  TRUE &  TRUE & FALSE &  TRUE &  TRUE & FALSE\\\\\n",
       "\t5 &  TRUE & FALSE &  TRUE &  TRUE &  TRUE &  TRUE\\\\\n",
       "\t5 &  TRUE &  TRUE & FALSE &  TRUE &  TRUE &  TRUE\\\\\n",
       "\t6 &  TRUE &  TRUE &  TRUE &  TRUE &  TRUE &  TRUE\\\\\n",
       "\\end{tabular}\n",
       "\n",
       "\\item[\\$label] \\begin{enumerate*}\n",
       "\\item '(Intercept)'\n",
       "\\item '1'\n",
       "\\item '2'\n",
       "\\item '3'\n",
       "\\item '4'\n",
       "\\item '5'\n",
       "\\item '6'\n",
       "\\end{enumerate*}\n",
       "\n",
       "\\item[\\$size] \\begin{enumerate*}\n",
       "\\item 2\n",
       "\\item 2\n",
       "\\item 3\n",
       "\\item 3\n",
       "\\item 4\n",
       "\\item 4\n",
       "\\item 5\n",
       "\\item 5\n",
       "\\item 6\n",
       "\\item 6\n",
       "\\item 7\n",
       "\\end{enumerate*}\n",
       "\n",
       "\\item[\\$Cp] \\begin{enumerate*}\n",
       "\\item 27.1246005039649\n",
       "\\item 101.700100215775\n",
       "\\item 11.0848516052525\n",
       "\\item 18.742964897219\n",
       "\\item 6.03812966058023\n",
       "\\item 11.0340734563256\n",
       "\\item 5.66068866858474\n",
       "\\item 6.15456312746408\n",
       "\\item 5.06337741137513\n",
       "\\item 6.57598187448476\n",
       "\\item 7\n",
       "\\end{enumerate*}\n",
       "\n",
       "\\end{description}\n"
      ],
      "text/markdown": [
       "$which\n",
       ":   \n",
       "A matrix: 11 × 6 of type lgl\n",
       "\n",
       "| <!--/--> | 1 | 2 | 3 | 4 | 5 | 6 |\n",
       "|---|---|---|---|---|---|---|\n",
       "| 1 | FALSE | FALSE | FALSE |  TRUE | FALSE | FALSE |\n",
       "| 1 | FALSE | FALSE | FALSE | FALSE |  TRUE | FALSE |\n",
       "| 2 | FALSE | FALSE | FALSE |  TRUE |  TRUE | FALSE |\n",
       "| 2 |  TRUE | FALSE | FALSE |  TRUE | FALSE | FALSE |\n",
       "| 3 |  TRUE | FALSE | FALSE |  TRUE |  TRUE | FALSE |\n",
       "| 3 | FALSE | FALSE | FALSE |  TRUE |  TRUE |  TRUE |\n",
       "| 4 |  TRUE | FALSE |  TRUE |  TRUE |  TRUE | FALSE |\n",
       "| 4 |  TRUE |  TRUE | FALSE |  TRUE |  TRUE | FALSE |\n",
       "| 5 |  TRUE | FALSE |  TRUE |  TRUE |  TRUE |  TRUE |\n",
       "| 5 |  TRUE |  TRUE | FALSE |  TRUE |  TRUE |  TRUE |\n",
       "| 6 |  TRUE |  TRUE |  TRUE |  TRUE |  TRUE |  TRUE |\n",
       "\n",
       "\n",
       "$label\n",
       ":   1. '(Intercept)'\n",
       "2. '1'\n",
       "3. '2'\n",
       "4. '3'\n",
       "5. '4'\n",
       "6. '5'\n",
       "7. '6'\n",
       "\n",
       "\n",
       "\n",
       "$size\n",
       ":   1. 2\n",
       "2. 2\n",
       "3. 3\n",
       "4. 3\n",
       "5. 4\n",
       "6. 4\n",
       "7. 5\n",
       "8. 5\n",
       "9. 6\n",
       "10. 6\n",
       "11. 7\n",
       "\n",
       "\n",
       "\n",
       "$Cp\n",
       ":   1. 27.1246005039649\n",
       "2. 101.700100215775\n",
       "3. 11.0848516052525\n",
       "4. 18.742964897219\n",
       "5. 6.03812966058023\n",
       "6. 11.0340734563256\n",
       "7. 5.66068866858474\n",
       "8. 6.15456312746408\n",
       "9. 5.06337741137513\n",
       "10. 6.57598187448476\n",
       "11. 7\n",
       "\n",
       "\n",
       "\n",
       "\n",
       "\n"
      ],
      "text/plain": [
       "$which\n",
       "      1     2     3     4     5     6\n",
       "1 FALSE FALSE FALSE  TRUE FALSE FALSE\n",
       "1 FALSE FALSE FALSE FALSE  TRUE FALSE\n",
       "2 FALSE FALSE FALSE  TRUE  TRUE FALSE\n",
       "2  TRUE FALSE FALSE  TRUE FALSE FALSE\n",
       "3  TRUE FALSE FALSE  TRUE  TRUE FALSE\n",
       "3 FALSE FALSE FALSE  TRUE  TRUE  TRUE\n",
       "4  TRUE FALSE  TRUE  TRUE  TRUE FALSE\n",
       "4  TRUE  TRUE FALSE  TRUE  TRUE FALSE\n",
       "5  TRUE FALSE  TRUE  TRUE  TRUE  TRUE\n",
       "5  TRUE  TRUE FALSE  TRUE  TRUE  TRUE\n",
       "6  TRUE  TRUE  TRUE  TRUE  TRUE  TRUE\n",
       "\n",
       "$label\n",
       "[1] \"(Intercept)\" \"1\"           \"2\"           \"3\"           \"4\"          \n",
       "[6] \"5\"           \"6\"          \n",
       "\n",
       "$size\n",
       " [1] 2 2 3 3 4 4 5 5 6 6 7\n",
       "\n",
       "$Cp\n",
       " [1]  27.124601 101.700100  11.084852  18.742965   6.038130  11.034073\n",
       " [7]   5.660689   6.154563   5.063377   6.575982   7.000000\n"
      ]
     },
     "metadata": {},
     "output_type": "display_data"
    }
   ],
   "source": [
    "leaps(cbind(pop_t,gdp_t,exp_t,gen_t,gas_t,road_len_t),emissions_t,nbest=2)"
   ]
  },
  {
   "cell_type": "code",
   "execution_count": 187,
   "metadata": {},
   "outputs": [
    {
     "data": {
      "text/plain": [
       "\n",
       "Call:\n",
       "lm(formula = emissions_t ~ pop_t + gdp_t + exp_t + gen_t + gas_t + \n",
       "    road_len_t, data = df)\n",
       "\n",
       "Residuals:\n",
       "    Min      1Q  Median      3Q     Max \n",
       "-53.605 -14.795   2.621  14.555  59.400 \n",
       "\n",
       "Coefficients:\n",
       "              Estimate Std. Error t value Pr(>|t|)    \n",
       "(Intercept) -8.002e+01  3.769e+01  -2.123 0.039684 *  \n",
       "pop_t       -9.219e-06  3.226e-06  -2.858 0.006611 ** \n",
       "gdp_t        7.473e-05  2.968e-04   0.252 0.802463    \n",
       "exp_t        1.332e-03  1.061e-03   1.255 0.216280    \n",
       "gen_t        8.346e-04  1.335e-04   6.250 1.73e-07 ***\n",
       "gas_t        3.345e-08  8.842e-09   3.783 0.000484 ***\n",
       "road_len_t   2.311e-04  1.458e-04   1.585 0.120443    \n",
       "---\n",
       "Signif. codes:  0 '***' 0.001 '**' 0.01 '*' 0.05 '.' 0.1 ' ' 1\n",
       "\n",
       "Residual standard error: 27.47 on 42 degrees of freedom\n",
       "Multiple R-squared:  0.9467,\tAdjusted R-squared:  0.9391 \n",
       "F-statistic: 124.4 on 6 and 42 DF,  p-value: < 2.2e-16\n"
      ]
     },
     "metadata": {},
     "output_type": "display_data"
    }
   ],
   "source": [
    "summary(model_t)"
   ]
  },
  {
   "cell_type": "code",
   "execution_count": 183,
   "metadata": {},
   "outputs": [
    {
     "data": {
      "image/png": "[encoded data removed]",
      "text/plain": [
       "Plot with title \"\""
      ]
     },
     "metadata": {
      "image/png": {
       "height": 420,
       "width": 420
      },
      "text/plain": {
       "height": 420,
       "width": 420
      }
     },
     "output_type": "display_data"
    },
    {
     "data": {
      "image/png": "[encoded data removed]",
      "text/plain": [
       "Plot with title \"\""
      ]
     },
     "metadata": {
      "image/png": {
       "height": 420,
       "width": 420
      },
      "text/plain": {
       "height": 420,
       "width": 420
      }
     },
     "output_type": "display_data"
    },
    {
     "data": {
      "image/png": "[encoded data removed]",
      "text/plain": [
       "Plot with title \"\""
      ]
     },
     "metadata": {
      "image/png": {
       "height": 420,
       "width": 420
      },
      "text/plain": {
       "height": 420,
       "width": 420
      }
     },
     "output_type": "display_data"
    },
    {
     "data": {
      "image/png": "[encoded data removed]",
      "text/plain": [
       "Plot with title \"\""
      ]
     },
     "metadata": {
      "image/png": {
       "height": 420,
       "width": 420
      },
      "text/plain": {
       "height": 420,
       "width": 420
      }
     },
     "output_type": "display_data"
    }
   ],
   "source": [
    "plot(model_t)"
   ]
  },
  {
   "cell_type": "code",
   "execution_count": 88,
   "metadata": {},
   "outputs": [],
   "source": [
    "model_t.stdres = rstandard(model_t)"
   ]
  },
  {
   "cell_type": "code",
   "execution_count": 81,
   "metadata": {},
   "outputs": [
    {
     "data": {
      "image/png": "[encoded data removed]",
      "text/plain": [
       "plot without title"
      ]
     },
     "metadata": {
      "image/png": {
       "height": 420,
       "width": 420
      },
      "text/plain": {
       "height": 420,
       "width": 420
      }
     },
     "output_type": "display_data"
    }
   ],
   "source": [
    "plot(fitted(model_t), model_t.stdres, \n",
    "     ylab=\"Standardized Residuals\", \n",
    "     xlab=\"Fitted Values\") \n",
    "abline(0, 0)"
   ]
  },
  {
   "cell_type": "code",
   "execution_count": null,
   "metadata": {},
   "outputs": [],
   "source": [
    "#----------------------------------------------------------------------------------------------------------------------------------------------------\n",
    "#----------------------------------------------------------------------------------------------------------------------------------------------------\n",
    "#----------------------------------------------------------------------------------------------------------------------------------------------------\n",
    "#----------------------------------------------------------------------------------------------------------------------------------------------------\n",
    "#----------------------------------------------------------------------------------------------------------------------------------------------------\n",
    "#----------------------------------------------------------------------------------------------------------------------------------------------------"
   ]
  },
  {
   "cell_type": "code",
   "execution_count": 219,
   "metadata": {},
   "outputs": [],
   "source": [
    "model_b = lm(emissions ~ pop + gen + gas, data=df)"
   ]
  },
  {
   "cell_type": "code",
   "execution_count": 201,
   "metadata": {},
   "outputs": [
    {
     "data": {
      "text/plain": [
       "\n",
       "Call:\n",
       "lm(formula = emissions ~ pop + gen + gas, data = df)\n",
       "\n",
       "Residuals:\n",
       "    Min      1Q  Median      3Q     Max \n",
       "-97.155 -10.202   3.033  15.466 113.774 \n",
       "\n",
       "Coefficients:\n",
       "              Estimate Std. Error t value Pr(>|t|)    \n",
       "(Intercept) -7.208e+00  7.146e+00  -1.009  0.31829    \n",
       "pop         -7.902e-06  3.948e-06  -2.002  0.05112 .  \n",
       "gen          9.162e-04  1.491e-04   6.145 1.62e-07 ***\n",
       "gas          3.011e-08  1.102e-08   2.733  0.00882 ** \n",
       "---\n",
       "Signif. codes:  0 '***' 0.001 '**' 0.01 '*' 0.05 '.' 0.1 ' ' 1\n",
       "\n",
       "Residual standard error: 35.44 on 47 degrees of freedom\n",
       "Multiple R-squared:  0.906,\tAdjusted R-squared:    0.9 \n",
       "F-statistic:   151 on 3 and 47 DF,  p-value: < 2.2e-16\n"
      ]
     },
     "metadata": {},
     "output_type": "display_data"
    }
   ],
   "source": [
    "summary(model_b)"
   ]
  },
  {
   "cell_type": "code",
   "execution_count": 202,
   "metadata": {},
   "outputs": [
    {
     "data": {
      "image/png": "[encoded data removed]",
      "text/plain": [
       "Plot with title \"\""
      ]
     },
     "metadata": {
      "image/png": {
       "height": 420,
       "width": 420
      },
      "text/plain": {
       "height": 420,
       "width": 420
      }
     },
     "output_type": "display_data"
    },
    {
     "data": {
      "image/png": "[encoded data removed]",
      "text/plain": [
       "Plot with title \"\""
      ]
     },
     "metadata": {
      "image/png": {
       "height": 420,
       "width": 420
      },
      "text/plain": {
       "height": 420,
       "width": 420
      }
     },
     "output_type": "display_data"
    },
    {
     "data": {
      "image/png": "[encoded data removed]",
      "text/plain": [
       "Plot with title \"\""
      ]
     },
     "metadata": {
      "image/png": {
       "height": 420,
       "width": 420
      },
      "text/plain": {
       "height": 420,
       "width": 420
      }
     },
     "output_type": "display_data"
    },
    {
     "data": {
      "image/png": "[encoded data removed]",
      "text/plain": [
       "Plot with title \"\""
      ]
     },
     "metadata": {
      "image/png": {
       "height": 420,
       "width": 420
      },
      "text/plain": {
       "height": 420,
       "width": 420
      }
     },
     "output_type": "display_data"
    }
   ],
   "source": [
    "plot(model_b)"
   ]
  },
  {
   "cell_type": "code",
   "execution_count": 195,
   "metadata": {},
   "outputs": [],
   "source": [
    "model_b.stdres = rstandard(model_b)"
   ]
  },
  {
   "cell_type": "code",
   "execution_count": 196,
   "metadata": {},
   "outputs": [
    {
     "data": {
      "image/png": "[encoded data removed]",
      "text/plain": [
       "plot without title"
      ]
     },
     "metadata": {
      "image/png": {
       "height": 420,
       "width": 420
      },
      "text/plain": {
       "height": 420,
       "width": 420
      }
     },
     "output_type": "display_data"
    }
   ],
   "source": [
    "plot(fitted(model_b), model_b.stdres, \n",
    "     ylab=\"Standardized Residuals\", \n",
    "     xlab=\"Fitted Values\") \n",
    "abline(0, 0)"
   ]
  },
  {
   "cell_type": "code",
   "execution_count": 220,
   "metadata": {},
   "outputs": [],
   "source": [
    "model_p = lm(emissions ~ pop + gen + gas)"
   ]
  },
  {
   "cell_type": "code",
   "execution_count": 221,
   "metadata": {},
   "outputs": [],
   "source": [
    "new = data.frame(pop=79103, gen=6372265, gas=2847977416)"
   ]
  },
  {
   "cell_type": "code",
   "execution_count": 222,
   "metadata": {},
   "outputs": [
    {
     "data": {
      "text/html": [
       "<table>\n",
       "<caption>A matrix: 1 × 3 of type dbl</caption>\n",
       "<thead>\n",
       "\t<tr><th></th><th scope=col>fit</th><th scope=col>lwr</th><th scope=col>upr</th></tr>\n",
       "</thead>\n",
       "<tbody>\n",
       "\t<tr><th scope=row>1</th><td>5915.904</td><td>4047.556</td><td>7784.252</td></tr>\n",
       "</tbody>\n",
       "</table>\n"
      ],
      "text/latex": [
       "A matrix: 1 × 3 of type dbl\n",
       "\\begin{tabular}{r|lll}\n",
       "  & fit & lwr & upr\\\\\n",
       "\\hline\n",
       "\t1 & 5915.904 & 4047.556 & 7784.252\\\\\n",
       "\\end{tabular}\n"
      ],
      "text/markdown": [
       "\n",
       "A matrix: 1 × 3 of type dbl\n",
       "\n",
       "| <!--/--> | fit | lwr | upr |\n",
       "|---|---|---|---|\n",
       "| 1 | 5915.904 | 4047.556 | 7784.252 |\n",
       "\n"
      ],
      "text/plain": [
       "  fit      lwr      upr     \n",
       "1 5915.904 4047.556 7784.252"
      ]
     },
     "metadata": {},
     "output_type": "display_data"
    }
   ],
   "source": [
    "predict(model_p,new,interval=\"predict\")"
   ]
  },
  {
   "cell_type": "code",
   "execution_count": null,
   "metadata": {},
   "outputs": [],
   "source": []
  }
 ],
 "metadata": {
  "kernelspec": {
   "display_name": "R",
   "language": "R",
   "name": "ir"
  },
  "language_info": {
   "codemirror_mode": "r",
   "file_extension": ".r",
   "mimetype": "text/x-r-source",
   "name": "R",
   "pygments_lexer": "r",
   "version": "3.6.2"
  }
 },
 "nbformat": 4,
 "nbformat_minor": 2
}

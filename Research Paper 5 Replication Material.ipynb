{
 "cells": [
  {
   "cell_type": "code",
   "execution_count": 208,
   "metadata": {},
   "outputs": [
    {
     "name": "stderr",
     "output_type": "stream",
     "text": [
      "Warning message:\n",
      "\"package 'leaps' was built under R version 3.6.3\"\n"
     ]
    }
   ],
   "source": [
    "library(car)\n",
    "library(leaps)"
   ]
  },
  {
   "cell_type": "code",
   "execution_count": 1,
   "metadata": {},
   "outputs": [],
   "source": [
    "companies <- read.csv(file = 'companies.csv')\n",
    "names(companies)[1] <- 'company'\n",
    "contrasts(companies$quarter) = contr.sum(4)\n",
    "contrasts(companies$location) = contr.sum(3)\n",
    "attach(companies)"
   ]
  },
  {
   "cell_type": "code",
   "execution_count": 2,
   "metadata": {},
   "outputs": [
    {
     "data": {
      "text/html": [
       "<table>\n",
       "<caption>A data.frame: 48 × 4</caption>\n",
       "<thead>\n",
       "\t<tr><th scope=col>company</th><th scope=col>value</th><th scope=col>quarter</th><th scope=col>location</th></tr>\n",
       "\t<tr><th scope=col>&lt;fct&gt;</th><th scope=col>&lt;dbl&gt;</th><th scope=col>&lt;fct&gt;</th><th scope=col>&lt;fct&gt;</th></tr>\n",
       "</thead>\n",
       "<tbody>\n",
       "\t<tr><td>Tencent Music         </td><td>1100000000</td><td>4th Quarter</td><td>China   </td></tr>\n",
       "\t<tr><td>MOGU                  </td><td>  67000000</td><td>4th Quarter</td><td>China   </td></tr>\n",
       "\t<tr><td>Weidai                </td><td>  45000000</td><td>4th Quarter</td><td>China   </td></tr>\n",
       "\t<tr><td>Niu.com               </td><td>  63000000</td><td>4th Quarter</td><td>China   </td></tr>\n",
       "\t<tr><td>SolarWinds            </td><td> 375000000</td><td>4th Quarter</td><td>Other   </td></tr>\n",
       "\t<tr><td>Anaplan               </td><td> 263500000</td><td>4th Quarter</td><td>Bay_Area</td></tr>\n",
       "\t<tr><td>Elastic               </td><td> 252000000</td><td>4th Quarter</td><td>Bay_Area</td></tr>\n",
       "\t<tr><td>UpWork                </td><td> 187000000</td><td>4th Quarter</td><td>Bay_Area</td></tr>\n",
       "\t<tr><td>CooTek                </td><td>  52200000</td><td>3rd Quarter</td><td>China   </td></tr>\n",
       "\t<tr><td>SurveyMonkey          </td><td> 180000000</td><td>3rd Quarter</td><td>Bay_Area</td></tr>\n",
       "\t<tr><td>Viomi                 </td><td> 102600000</td><td>3rd Quarter</td><td>China   </td></tr>\n",
       "\t<tr><td>Farfetch              </td><td> 885000000</td><td>3rd Quarter</td><td>Other   </td></tr>\n",
       "\t<tr><td>Eventbrite            </td><td> 230000000</td><td>3rd Quarter</td><td>Bay_Area</td></tr>\n",
       "\t<tr><td>NIO                   </td><td>1000000000</td><td>3rd Quarter</td><td>China   </td></tr>\n",
       "\t<tr><td>Arlo Technologies     </td><td> 163200000</td><td>3rd Quarter</td><td>Bay_Area</td></tr>\n",
       "\t<tr><td>Sonos                 </td><td>  83000000</td><td>3rd Quarter</td><td>Other   </td></tr>\n",
       "\t<tr><td>Opera                 </td><td> 115000000</td><td>3rd Quarter</td><td>Other   </td></tr>\n",
       "\t<tr><td>Cango                 </td><td>  44000000</td><td>3rd Quarter</td><td>China   </td></tr>\n",
       "\t<tr><td>Endava                </td><td> 127000000</td><td>3rd Quarter</td><td>Other   </td></tr>\n",
       "\t<tr><td>Tenable               </td><td> 250000000</td><td>3rd Quarter</td><td>Other   </td></tr>\n",
       "\t<tr><td>Pinduoduo             </td><td>1630000000</td><td>3rd Quarter</td><td>China   </td></tr>\n",
       "\t<tr><td>Bloom Energy          </td><td> 270000000</td><td>3rd Quarter</td><td>Bay_Area</td></tr>\n",
       "\t<tr><td>Domo                  </td><td> 193000000</td><td>2nd Quarter</td><td>Other   </td></tr>\n",
       "\t<tr><td>EverQuote             </td><td>  84000000</td><td>2nd Quarter</td><td>Other   </td></tr>\n",
       "\t<tr><td>Uxin                  </td><td> 225000000</td><td>2nd Quarter</td><td>China   </td></tr>\n",
       "\t<tr><td>HyreCar               </td><td>  12600000</td><td>2nd Quarter</td><td>Other   </td></tr>\n",
       "\t<tr><td>i3 Verticals          </td><td>  86450000</td><td>2nd Quarter</td><td>Other   </td></tr>\n",
       "\t<tr><td>Avalara               </td><td> 157500000</td><td>2nd Quarter</td><td>Other   </td></tr>\n",
       "\t<tr><td>GreenSky              </td><td> 874000000</td><td>2nd Quarter</td><td>Other   </td></tr>\n",
       "\t<tr><td>Pluralsight           </td><td> 310000000</td><td>2nd Quarter</td><td>Other   </td></tr>\n",
       "\t<tr><td>Huya                  </td><td> 180000000</td><td>2nd Quarter</td><td>China   </td></tr>\n",
       "\t<tr><td>Smartsheet            </td><td> 150000000</td><td>2nd Quarter</td><td>Other   </td></tr>\n",
       "\t<tr><td>Docusign              </td><td> 629000000</td><td>2nd Quarter</td><td>Bay_Area</td></tr>\n",
       "\t<tr><td>Ceridian HCM Holding  </td><td> 462000000</td><td>2nd Quarter</td><td>Other   </td></tr>\n",
       "\t<tr><td>Pivotal Software      </td><td> 555000000</td><td>2nd Quarter</td><td>Bay_Area</td></tr>\n",
       "\t<tr><td>Zuora                 </td><td> 154000000</td><td>2nd Quarter</td><td>Bay_Area</td></tr>\n",
       "\t<tr><td>Carbon Black          </td><td> 152000000</td><td>2nd Quarter</td><td>Other   </td></tr>\n",
       "\t<tr><td>Spotify               </td><td>9245000000</td><td>2nd Quarter</td><td>Other   </td></tr>\n",
       "\t<tr><td>IQIYI                 </td><td>2250000000</td><td>1st Quarter</td><td>China   </td></tr>\n",
       "\t<tr><td>BiliBili              </td><td> 483000000</td><td>1st Quarter</td><td>China   </td></tr>\n",
       "\t<tr><td>Dropbox               </td><td> 756000000</td><td>1st Quarter</td><td>Bay_Area</td></tr>\n",
       "\t<tr><td>Zscaler               </td><td> 192000000</td><td>1st Quarter</td><td>Bay_Area</td></tr>\n",
       "\t<tr><td>Senmiao Technology    </td><td>  12000000</td><td>1st Quarter</td><td>China   </td></tr>\n",
       "\t<tr><td>Cardlytics            </td><td> 203000000</td><td>1st Quarter</td><td>Other   </td></tr>\n",
       "\t<tr><td>Huami                 </td><td> 110000000</td><td>1st Quarter</td><td>China   </td></tr>\n",
       "\t<tr><td>One Stop Systems (OSS)</td><td>  19000000</td><td>1st Quarter</td><td>Other   </td></tr>\n",
       "\t<tr><td>PagSeguro             </td><td>2265789433</td><td>1st Quarter</td><td>Other   </td></tr>\n",
       "\t<tr><td>ADT                   </td><td>1470000000</td><td>1st Quarter</td><td>Other   </td></tr>\n",
       "</tbody>\n",
       "</table>\n"
      ],
      "text/latex": [
       "A data.frame: 48 × 4\n",
       "\\begin{tabular}{llll}\n",
       " company & value & quarter & location\\\\\n",
       " <fct> & <dbl> & <fct> & <fct>\\\\\n",
       "\\hline\n",
       "\t Tencent Music          & 1100000000 & 4th Quarter & China   \\\\\n",
       "\t MOGU                   &   67000000 & 4th Quarter & China   \\\\\n",
       "\t Weidai                 &   45000000 & 4th Quarter & China   \\\\\n",
       "\t Niu.com                &   63000000 & 4th Quarter & China   \\\\\n",
       "\t SolarWinds             &  375000000 & 4th Quarter & Other   \\\\\n",
       "\t Anaplan                &  263500000 & 4th Quarter & Bay\\_Area\\\\\n",
       "\t Elastic                &  252000000 & 4th Quarter & Bay\\_Area\\\\\n",
       "\t UpWork                 &  187000000 & 4th Quarter & Bay\\_Area\\\\\n",
       "\t CooTek                 &   52200000 & 3rd Quarter & China   \\\\\n",
       "\t SurveyMonkey           &  180000000 & 3rd Quarter & Bay\\_Area\\\\\n",
       "\t Viomi                  &  102600000 & 3rd Quarter & China   \\\\\n",
       "\t Farfetch               &  885000000 & 3rd Quarter & Other   \\\\\n",
       "\t Eventbrite             &  230000000 & 3rd Quarter & Bay\\_Area\\\\\n",
       "\t NIO                    & 1000000000 & 3rd Quarter & China   \\\\\n",
       "\t Arlo Technologies      &  163200000 & 3rd Quarter & Bay\\_Area\\\\\n",
       "\t Sonos                  &   83000000 & 3rd Quarter & Other   \\\\\n",
       "\t Opera                  &  115000000 & 3rd Quarter & Other   \\\\\n",
       "\t Cango                  &   44000000 & 3rd Quarter & China   \\\\\n",
       "\t Endava                 &  127000000 & 3rd Quarter & Other   \\\\\n",
       "\t Tenable                &  250000000 & 3rd Quarter & Other   \\\\\n",
       "\t Pinduoduo              & 1630000000 & 3rd Quarter & China   \\\\\n",
       "\t Bloom Energy           &  270000000 & 3rd Quarter & Bay\\_Area\\\\\n",
       "\t Domo                   &  193000000 & 2nd Quarter & Other   \\\\\n",
       "\t EverQuote              &   84000000 & 2nd Quarter & Other   \\\\\n",
       "\t Uxin                   &  225000000 & 2nd Quarter & China   \\\\\n",
       "\t HyreCar                &   12600000 & 2nd Quarter & Other   \\\\\n",
       "\t i3 Verticals           &   86450000 & 2nd Quarter & Other   \\\\\n",
       "\t Avalara                &  157500000 & 2nd Quarter & Other   \\\\\n",
       "\t GreenSky               &  874000000 & 2nd Quarter & Other   \\\\\n",
       "\t Pluralsight            &  310000000 & 2nd Quarter & Other   \\\\\n",
       "\t Huya                   &  180000000 & 2nd Quarter & China   \\\\\n",
       "\t Smartsheet             &  150000000 & 2nd Quarter & Other   \\\\\n",
       "\t Docusign               &  629000000 & 2nd Quarter & Bay\\_Area\\\\\n",
       "\t Ceridian HCM Holding   &  462000000 & 2nd Quarter & Other   \\\\\n",
       "\t Pivotal Software       &  555000000 & 2nd Quarter & Bay\\_Area\\\\\n",
       "\t Zuora                  &  154000000 & 2nd Quarter & Bay\\_Area\\\\\n",
       "\t Carbon Black           &  152000000 & 2nd Quarter & Other   \\\\\n",
       "\t Spotify                & 9245000000 & 2nd Quarter & Other   \\\\\n",
       "\t IQIYI                  & 2250000000 & 1st Quarter & China   \\\\\n",
       "\t BiliBili               &  483000000 & 1st Quarter & China   \\\\\n",
       "\t Dropbox                &  756000000 & 1st Quarter & Bay\\_Area\\\\\n",
       "\t Zscaler                &  192000000 & 1st Quarter & Bay\\_Area\\\\\n",
       "\t Senmiao Technology     &   12000000 & 1st Quarter & China   \\\\\n",
       "\t Cardlytics             &  203000000 & 1st Quarter & Other   \\\\\n",
       "\t Huami                  &  110000000 & 1st Quarter & China   \\\\\n",
       "\t One Stop Systems (OSS) &   19000000 & 1st Quarter & Other   \\\\\n",
       "\t PagSeguro              & 2265789433 & 1st Quarter & Other   \\\\\n",
       "\t ADT                    & 1470000000 & 1st Quarter & Other   \\\\\n",
       "\\end{tabular}\n"
      ],
      "text/markdown": [
       "\n",
       "A data.frame: 48 × 4\n",
       "\n",
       "| company &lt;fct&gt; | value &lt;dbl&gt; | quarter &lt;fct&gt; | location &lt;fct&gt; |\n",
       "|---|---|---|---|\n",
       "| Tencent Music          | 1100000000 | 4th Quarter | China    |\n",
       "| MOGU                   |   67000000 | 4th Quarter | China    |\n",
       "| Weidai                 |   45000000 | 4th Quarter | China    |\n",
       "| Niu.com                |   63000000 | 4th Quarter | China    |\n",
       "| SolarWinds             |  375000000 | 4th Quarter | Other    |\n",
       "| Anaplan                |  263500000 | 4th Quarter | Bay_Area |\n",
       "| Elastic                |  252000000 | 4th Quarter | Bay_Area |\n",
       "| UpWork                 |  187000000 | 4th Quarter | Bay_Area |\n",
       "| CooTek                 |   52200000 | 3rd Quarter | China    |\n",
       "| SurveyMonkey           |  180000000 | 3rd Quarter | Bay_Area |\n",
       "| Viomi                  |  102600000 | 3rd Quarter | China    |\n",
       "| Farfetch               |  885000000 | 3rd Quarter | Other    |\n",
       "| Eventbrite             |  230000000 | 3rd Quarter | Bay_Area |\n",
       "| NIO                    | 1000000000 | 3rd Quarter | China    |\n",
       "| Arlo Technologies      |  163200000 | 3rd Quarter | Bay_Area |\n",
       "| Sonos                  |   83000000 | 3rd Quarter | Other    |\n",
       "| Opera                  |  115000000 | 3rd Quarter | Other    |\n",
       "| Cango                  |   44000000 | 3rd Quarter | China    |\n",
       "| Endava                 |  127000000 | 3rd Quarter | Other    |\n",
       "| Tenable                |  250000000 | 3rd Quarter | Other    |\n",
       "| Pinduoduo              | 1630000000 | 3rd Quarter | China    |\n",
       "| Bloom Energy           |  270000000 | 3rd Quarter | Bay_Area |\n",
       "| Domo                   |  193000000 | 2nd Quarter | Other    |\n",
       "| EverQuote              |   84000000 | 2nd Quarter | Other    |\n",
       "| Uxin                   |  225000000 | 2nd Quarter | China    |\n",
       "| HyreCar                |   12600000 | 2nd Quarter | Other    |\n",
       "| i3 Verticals           |   86450000 | 2nd Quarter | Other    |\n",
       "| Avalara                |  157500000 | 2nd Quarter | Other    |\n",
       "| GreenSky               |  874000000 | 2nd Quarter | Other    |\n",
       "| Pluralsight            |  310000000 | 2nd Quarter | Other    |\n",
       "| Huya                   |  180000000 | 2nd Quarter | China    |\n",
       "| Smartsheet             |  150000000 | 2nd Quarter | Other    |\n",
       "| Docusign               |  629000000 | 2nd Quarter | Bay_Area |\n",
       "| Ceridian HCM Holding   |  462000000 | 2nd Quarter | Other    |\n",
       "| Pivotal Software       |  555000000 | 2nd Quarter | Bay_Area |\n",
       "| Zuora                  |  154000000 | 2nd Quarter | Bay_Area |\n",
       "| Carbon Black           |  152000000 | 2nd Quarter | Other    |\n",
       "| Spotify                | 9245000000 | 2nd Quarter | Other    |\n",
       "| IQIYI                  | 2250000000 | 1st Quarter | China    |\n",
       "| BiliBili               |  483000000 | 1st Quarter | China    |\n",
       "| Dropbox                |  756000000 | 1st Quarter | Bay_Area |\n",
       "| Zscaler                |  192000000 | 1st Quarter | Bay_Area |\n",
       "| Senmiao Technology     |   12000000 | 1st Quarter | China    |\n",
       "| Cardlytics             |  203000000 | 1st Quarter | Other    |\n",
       "| Huami                  |  110000000 | 1st Quarter | China    |\n",
       "| One Stop Systems (OSS) |   19000000 | 1st Quarter | Other    |\n",
       "| PagSeguro              | 2265789433 | 1st Quarter | Other    |\n",
       "| ADT                    | 1470000000 | 1st Quarter | Other    |\n",
       "\n"
      ],
      "text/plain": [
       "   company                value      quarter     location\n",
       "1  Tencent Music          1100000000 4th Quarter China   \n",
       "2  MOGU                     67000000 4th Quarter China   \n",
       "3  Weidai                   45000000 4th Quarter China   \n",
       "4  Niu.com                  63000000 4th Quarter China   \n",
       "5  SolarWinds              375000000 4th Quarter Other   \n",
       "6  Anaplan                 263500000 4th Quarter Bay_Area\n",
       "7  Elastic                 252000000 4th Quarter Bay_Area\n",
       "8  UpWork                  187000000 4th Quarter Bay_Area\n",
       "9  CooTek                   52200000 3rd Quarter China   \n",
       "10 SurveyMonkey            180000000 3rd Quarter Bay_Area\n",
       "11 Viomi                   102600000 3rd Quarter China   \n",
       "12 Farfetch                885000000 3rd Quarter Other   \n",
       "13 Eventbrite              230000000 3rd Quarter Bay_Area\n",
       "14 NIO                    1000000000 3rd Quarter China   \n",
       "15 Arlo Technologies       163200000 3rd Quarter Bay_Area\n",
       "16 Sonos                    83000000 3rd Quarter Other   \n",
       "17 Opera                   115000000 3rd Quarter Other   \n",
       "18 Cango                    44000000 3rd Quarter China   \n",
       "19 Endava                  127000000 3rd Quarter Other   \n",
       "20 Tenable                 250000000 3rd Quarter Other   \n",
       "21 Pinduoduo              1630000000 3rd Quarter China   \n",
       "22 Bloom Energy            270000000 3rd Quarter Bay_Area\n",
       "23 Domo                    193000000 2nd Quarter Other   \n",
       "24 EverQuote                84000000 2nd Quarter Other   \n",
       "25 Uxin                    225000000 2nd Quarter China   \n",
       "26 HyreCar                  12600000 2nd Quarter Other   \n",
       "27 i3 Verticals             86450000 2nd Quarter Other   \n",
       "28 Avalara                 157500000 2nd Quarter Other   \n",
       "29 GreenSky                874000000 2nd Quarter Other   \n",
       "30 Pluralsight             310000000 2nd Quarter Other   \n",
       "31 Huya                    180000000 2nd Quarter China   \n",
       "32 Smartsheet              150000000 2nd Quarter Other   \n",
       "33 Docusign                629000000 2nd Quarter Bay_Area\n",
       "34 Ceridian HCM Holding    462000000 2nd Quarter Other   \n",
       "35 Pivotal Software        555000000 2nd Quarter Bay_Area\n",
       "36 Zuora                   154000000 2nd Quarter Bay_Area\n",
       "37 Carbon Black            152000000 2nd Quarter Other   \n",
       "38 Spotify                9245000000 2nd Quarter Other   \n",
       "39 IQIYI                  2250000000 1st Quarter China   \n",
       "40 BiliBili                483000000 1st Quarter China   \n",
       "41 Dropbox                 756000000 1st Quarter Bay_Area\n",
       "42 Zscaler                 192000000 1st Quarter Bay_Area\n",
       "43 Senmiao Technology       12000000 1st Quarter China   \n",
       "44 Cardlytics              203000000 1st Quarter Other   \n",
       "45 Huami                   110000000 1st Quarter China   \n",
       "46 One Stop Systems (OSS)   19000000 1st Quarter Other   \n",
       "47 PagSeguro              2265789433 1st Quarter Other   \n",
       "48 ADT                    1470000000 1st Quarter Other   "
      ]
     },
     "metadata": {},
     "output_type": "display_data"
    }
   ],
   "source": [
    "companies\n"
   ]
  },
  {
   "cell_type": "code",
   "execution_count": 238,
   "metadata": {},
   "outputs": [],
   "source": [
    "companies2 <- companies[\n",
    "#     (companies$company!='Spotify') &\n",
    "#                         (companies$company!='One Stop Systems (OSS)') &\n",
    "                        (companies$company!='Senmiao Technology') &\n",
    "                        (companies$company!='HyreCar')\n",
    "                        ,]\n",
    "detach(companies)\n",
    "attach(companies2)"
   ]
  },
  {
   "cell_type": "code",
   "execution_count": 225,
   "metadata": {},
   "outputs": [
    {
     "name": "stderr",
     "output_type": "stream",
     "text": [
      "Warning message in Ops.factor(quarter, location):\n",
      "\"'*' not meaningful for factors\"\n"
     ]
    }
   ],
   "source": [
    "interaction <- quarter*location"
   ]
  },
  {
   "cell_type": "code",
   "execution_count": 216,
   "metadata": {},
   "outputs": [
    {
     "data": {
      "text/html": [
       "<dl>\n",
       "\t<dt>$which</dt>\n",
       "\t\t<dd><table>\n",
       "<caption>A matrix: 3 × 2 of type lgl</caption>\n",
       "<thead>\n",
       "\t<tr><th></th><th scope=col>1</th><th scope=col>2</th></tr>\n",
       "</thead>\n",
       "<tbody>\n",
       "\t<tr><th scope=row>1</th><td> TRUE</td><td>FALSE</td></tr>\n",
       "\t<tr><th scope=row>1</th><td>FALSE</td><td> TRUE</td></tr>\n",
       "\t<tr><th scope=row>2</th><td> TRUE</td><td> TRUE</td></tr>\n",
       "</tbody>\n",
       "</table>\n",
       "</dd>\n",
       "\t<dt>$label</dt>\n",
       "\t\t<dd><style>\n",
       ".list-inline {list-style: none; margin:0; padding: 0}\n",
       ".list-inline>li {display: inline-block}\n",
       ".list-inline>li:not(:last-child)::after {content: \"\\00b7\"; padding: 0 .5ex}\n",
       "</style>\n",
       "<ol class=list-inline><li>'(Intercept)'</li><li>'1'</li><li>'2'</li></ol>\n",
       "</dd>\n",
       "\t<dt>$size</dt>\n",
       "\t\t<dd><style>\n",
       ".list-inline {list-style: none; margin:0; padding: 0}\n",
       ".list-inline>li {display: inline-block}\n",
       ".list-inline>li:not(:last-child)::after {content: \"\\00b7\"; padding: 0 .5ex}\n",
       "</style>\n",
       "<ol class=list-inline><li>2</li><li>2</li><li>3</li></ol>\n",
       "</dd>\n",
       "\t<dt>$Cp</dt>\n",
       "\t\t<dd><style>\n",
       ".list-inline {list-style: none; margin:0; padding: 0}\n",
       ".list-inline>li {display: inline-block}\n",
       ".list-inline>li:not(:last-child)::after {content: \"\\00b7\"; padding: 0 .5ex}\n",
       "</style>\n",
       "<ol class=list-inline><li>1.52992307817829</li><li>3.77089425268052</li><li>3.00000000000001</li></ol>\n",
       "</dd>\n",
       "</dl>\n"
      ],
      "text/latex": [
       "\\begin{description}\n",
       "\\item[\\$which] A matrix: 3 × 2 of type lgl\n",
       "\\begin{tabular}{r|ll}\n",
       "  & 1 & 2\\\\\n",
       "\\hline\n",
       "\t1 &  TRUE & FALSE\\\\\n",
       "\t1 & FALSE &  TRUE\\\\\n",
       "\t2 &  TRUE &  TRUE\\\\\n",
       "\\end{tabular}\n",
       "\n",
       "\\item[\\$label] \\begin{enumerate*}\n",
       "\\item '(Intercept)'\n",
       "\\item '1'\n",
       "\\item '2'\n",
       "\\end{enumerate*}\n",
       "\n",
       "\\item[\\$size] \\begin{enumerate*}\n",
       "\\item 2\n",
       "\\item 2\n",
       "\\item 3\n",
       "\\end{enumerate*}\n",
       "\n",
       "\\item[\\$Cp] \\begin{enumerate*}\n",
       "\\item 1.52992307817829\n",
       "\\item 3.77089425268052\n",
       "\\item 3.00000000000001\n",
       "\\end{enumerate*}\n",
       "\n",
       "\\end{description}\n"
      ],
      "text/markdown": [
       "$which\n",
       ":   \n",
       "A matrix: 3 × 2 of type lgl\n",
       "\n",
       "| <!--/--> | 1 | 2 |\n",
       "|---|---|---|\n",
       "| 1 |  TRUE | FALSE |\n",
       "| 1 | FALSE |  TRUE |\n",
       "| 2 |  TRUE |  TRUE |\n",
       "\n",
       "\n",
       "$label\n",
       ":   1. '(Intercept)'\n",
       "2. '1'\n",
       "3. '2'\n",
       "\n",
       "\n",
       "\n",
       "$size\n",
       ":   1. 2\n",
       "2. 2\n",
       "3. 3\n",
       "\n",
       "\n",
       "\n",
       "$Cp\n",
       ":   1. 1.52992307817829\n",
       "2. 3.77089425268052\n",
       "3. 3.00000000000001\n",
       "\n",
       "\n",
       "\n",
       "\n",
       "\n"
      ],
      "text/plain": [
       "$which\n",
       "      1     2\n",
       "1  TRUE FALSE\n",
       "1 FALSE  TRUE\n",
       "2  TRUE  TRUE\n",
       "\n",
       "$label\n",
       "[1] \"(Intercept)\" \"1\"           \"2\"          \n",
       "\n",
       "$size\n",
       "[1] 2 2 3\n",
       "\n",
       "$Cp\n",
       "[1] 1.529923 3.770894 3.000000\n"
      ]
     },
     "metadata": {},
     "output_type": "display_data"
    }
   ],
   "source": [
    "leaps(cbind(quarter, location, quarter*location, wt=wt),log(value),nbest=1)"
   ]
  },
  {
   "cell_type": "code",
   "execution_count": 237,
   "metadata": {},
   "outputs": [
    {
     "data": {
      "text/html": [
       "<table>\n",
       "<caption>A data.frame: 1 × 4</caption>\n",
       "<thead>\n",
       "\t<tr><th></th><th scope=col>company</th><th scope=col>value</th><th scope=col>quarter</th><th scope=col>location</th></tr>\n",
       "\t<tr><th></th><th scope=col>&lt;fct&gt;</th><th scope=col>&lt;dbl&gt;</th><th scope=col>&lt;fct&gt;</th><th scope=col>&lt;fct&gt;</th></tr>\n",
       "</thead>\n",
       "<tbody>\n",
       "\t<tr><th scope=row>43</th><td>Senmiao Technology</td><td>1.2e+07</td><td>1st Quarter</td><td>China</td></tr>\n",
       "</tbody>\n",
       "</table>\n"
      ],
      "text/latex": [
       "A data.frame: 1 × 4\n",
       "\\begin{tabular}{r|llll}\n",
       "  & company & value & quarter & location\\\\\n",
       "  & <fct> & <dbl> & <fct> & <fct>\\\\\n",
       "\\hline\n",
       "\t43 & Senmiao Technology & 1.2e+07 & 1st Quarter & China\\\\\n",
       "\\end{tabular}\n"
      ],
      "text/markdown": [
       "\n",
       "A data.frame: 1 × 4\n",
       "\n",
       "| <!--/--> | company &lt;fct&gt; | value &lt;dbl&gt; | quarter &lt;fct&gt; | location &lt;fct&gt; |\n",
       "|---|---|---|---|---|\n",
       "| 43 | Senmiao Technology | 1.2e+07 | 1st Quarter | China |\n",
       "\n"
      ],
      "text/plain": [
       "   company            value   quarter     location\n",
       "43 Senmiao Technology 1.2e+07 1st Quarter China   "
      ]
     },
     "metadata": {},
     "output_type": "display_data"
    }
   ],
   "source": [
    "companies[43,]"
   ]
  },
  {
   "cell_type": "code",
   "execution_count": 200,
   "metadata": {},
   "outputs": [],
   "source": [
    "companya <- aov(log(value) ~ quarter + location)\n",
    "companyb <- aov(log(value) ~ quarter + location + quarter*location)"
   ]
  },
  {
   "cell_type": "code",
   "execution_count": 196,
   "metadata": {},
   "outputs": [
    {
     "data": {
      "text/plain": [
       "             location\n",
       "quarter       Bay_Area China Other\n",
       "  1st Quarter        2     3     4\n",
       "  2nd Quarter        3     2     9\n",
       "  3rd Quarter        4     5     5\n",
       "  4th Quarter        3     4     1"
      ]
     },
     "metadata": {},
     "output_type": "display_data"
    }
   ],
   "source": [
    "table(quarter,location)"
   ]
  },
  {
   "cell_type": "code",
   "execution_count": 156,
   "metadata": {},
   "outputs": [
    {
     "data": {
      "image/png": "[encoded data removed]",
      "text/plain": [
       "plot without title"
      ]
     },
     "metadata": {
      "image/png": {
       "height": 420,
       "width": 420
      },
      "text/plain": {
       "height": 420,
       "width": 420
      }
     },
     "output_type": "display_data"
    },
    {
     "data": {
      "image/png": "[encoded data removed]",
      "text/plain": [
       "plot without title"
      ]
     },
     "metadata": {
      "image/png": {
       "height": 420,
       "width": 420
      },
      "text/plain": {
       "height": 420,
       "width": 420
      }
     },
     "output_type": "display_data"
    }
   ],
   "source": [
    "boxplot(split(log(value),quarter))\n",
    "boxplot(split(log(value),location))"
   ]
  },
  {
   "cell_type": "code",
   "execution_count": 148,
   "metadata": {},
   "outputs": [
    {
     "data": {
      "text/html": [
       "<table>\n",
       "<caption>A anova: 4 × 4</caption>\n",
       "<thead>\n",
       "\t<tr><th></th><th scope=col>Sum Sq</th><th scope=col>Df</th><th scope=col>F value</th><th scope=col>Pr(&gt;F)</th></tr>\n",
       "\t<tr><th></th><th scope=col>&lt;dbl&gt;</th><th scope=col>&lt;dbl&gt;</th><th scope=col>&lt;dbl&gt;</th><th scope=col>&lt;dbl&gt;</th></tr>\n",
       "</thead>\n",
       "<tbody>\n",
       "\t<tr><th scope=row>quarter</th><td> 7.2196935</td><td> 3</td><td>2.0984072</td><td>0.1199636</td></tr>\n",
       "\t<tr><th scope=row>location</th><td> 0.5728986</td><td> 2</td><td>0.2497699</td><td>0.7804845</td></tr>\n",
       "\t<tr><th scope=row>quarter:location</th><td> 2.6608613</td><td> 6</td><td>0.3866903</td><td>0.8820449</td></tr>\n",
       "\t<tr><th scope=row>Residuals</th><td>36.6992936</td><td>32</td><td>       NA</td><td>       NA</td></tr>\n",
       "</tbody>\n",
       "</table>\n"
      ],
      "text/latex": [
       "A anova: 4 × 4\n",
       "\\begin{tabular}{r|llll}\n",
       "  & Sum Sq & Df & F value & Pr(>F)\\\\\n",
       "  & <dbl> & <dbl> & <dbl> & <dbl>\\\\\n",
       "\\hline\n",
       "\tquarter &  7.2196935 &  3 & 2.0984072 & 0.1199636\\\\\n",
       "\tlocation &  0.5728986 &  2 & 0.2497699 & 0.7804845\\\\\n",
       "\tquarter:location &  2.6608613 &  6 & 0.3866903 & 0.8820449\\\\\n",
       "\tResiduals & 36.6992936 & 32 &        NA &        NA\\\\\n",
       "\\end{tabular}\n"
      ],
      "text/markdown": [
       "\n",
       "A anova: 4 × 4\n",
       "\n",
       "| <!--/--> | Sum Sq &lt;dbl&gt; | Df &lt;dbl&gt; | F value &lt;dbl&gt; | Pr(&gt;F) &lt;dbl&gt; |\n",
       "|---|---|---|---|---|\n",
       "| quarter |  7.2196935 |  3 | 2.0984072 | 0.1199636 |\n",
       "| location |  0.5728986 |  2 | 0.2497699 | 0.7804845 |\n",
       "| quarter:location |  2.6608613 |  6 | 0.3866903 | 0.8820449 |\n",
       "| Residuals | 36.6992936 | 32 |        NA |        NA |\n",
       "\n"
      ],
      "text/plain": [
       "                 Sum Sq     Df F value   Pr(>F)   \n",
       "quarter           7.2196935  3 2.0984072 0.1199636\n",
       "location          0.5728986  2 0.2497699 0.7804845\n",
       "quarter:location  2.6608613  6 0.3866903 0.8820449\n",
       "Residuals        36.6992936 32        NA        NA"
      ]
     },
     "metadata": {},
     "output_type": "display_data"
    }
   ],
   "source": [
    "Anova(companyb)"
   ]
  },
  {
   "cell_type": "code",
   "execution_count": 207,
   "metadata": {},
   "outputs": [
    {
     "data": {
      "text/plain": [
       "            Df Sum Sq Mean Sq F value Pr(>F)\n",
       "quarter      3   3.34  1.1119   0.873  0.463\n",
       "location     2   0.60  0.3015   0.237  0.790\n",
       "Residuals   39  49.65  1.2731               "
      ]
     },
     "metadata": {},
     "output_type": "display_data"
    }
   ],
   "source": [
    "summary(companya)"
   ]
  },
  {
   "cell_type": "code",
   "execution_count": 206,
   "metadata": {},
   "outputs": [
    {
     "data": {
      "text/plain": [
       "  Tukey multiple comparisons of means\n",
       "    95% family-wise confidence level\n",
       "\n",
       "Fit: aov(formula = logvalues ~ companies2$quarter + companies2$location, weight = wt)\n",
       "\n",
       "$`companies2$quarter`\n",
       "                                 diff        lwr       upr     p adj\n",
       "2nd Quarter-1st Quarter -0.3407076822 -0.9609746 0.2795593 0.4582414\n",
       "3rd Quarter-1st Quarter -0.3703346770 -0.9906016 0.2499323 0.3853182\n",
       "4th Quarter-1st Quarter -0.3696055078 -1.0667254 0.3275144 0.4888010\n",
       "3rd Quarter-2nd Quarter -0.0296269948 -0.4796159 0.4203620 0.9979628\n",
       "4th Quarter-2nd Quarter -0.0288978256 -0.5800195 0.5222238 0.9989661\n",
       "4th Quarter-3rd Quarter  0.0007291692 -0.5503925 0.5518508 1.0000000\n",
       "\n",
       "$`companies2$location`\n",
       "                      diff        lwr       upr     p adj\n",
       "China-Bay_Area -0.04368448 -0.4686301 0.3812611 0.9656591\n",
       "Other-Bay_Area -0.06278639 -0.4877320 0.3621592 0.9304412\n",
       "Other-China    -0.01910190 -0.4273765 0.3891726 0.9927811\n"
      ]
     },
     "metadata": {},
     "output_type": "display_data"
    }
   ],
   "source": [
    "company.aov = aov(logvalues ~ companies2$quarter + companies2$location, weight=wt)\n",
    "TukeyHSD(company.aov)"
   ]
  },
  {
   "cell_type": "code",
   "execution_count": 192,
   "metadata": {},
   "outputs": [],
   "source": [
    "company.tukey = glht(companya, linfct=mcp(quarter=\"Tukey\"))"
   ]
  },
  {
   "cell_type": "code",
   "execution_count": 193,
   "metadata": {},
   "outputs": [
    {
     "data": {
      "text/plain": [
       "\n",
       "\t Simultaneous Tests for General Linear Hypotheses\n",
       "\n",
       "Multiple Comparisons of Means: Tukey Contrasts\n",
       "\n",
       "\n",
       "Fit: aov(formula = log(value) ~ quarter + location)\n",
       "\n",
       "Linear Hypotheses:\n",
       "                               Estimate Std. Error t value Pr(>|t|)\n",
       "2nd Quarter - 1st Quarter == 0  -0.5204     0.4891  -1.064    0.711\n",
       "3rd Quarter - 1st Quarter == 0  -0.6823     0.4832  -1.412    0.498\n",
       "4th Quarter - 1st Quarter == 0  -0.8375     0.5606  -1.494    0.449\n",
       "3rd Quarter - 2nd Quarter == 0  -0.1620     0.4401  -0.368    0.983\n",
       "4th Quarter - 2nd Quarter == 0  -0.3171     0.5362  -0.591    0.934\n",
       "4th Quarter - 3rd Quarter == 0  -0.1551     0.5073  -0.306    0.990\n",
       "(Adjusted p values reported -- single-step method)\n"
      ]
     },
     "metadata": {},
     "output_type": "display_data"
    }
   ],
   "source": [
    "summary(company.tukey)"
   ]
  },
  {
   "cell_type": "code",
   "execution_count": 239,
   "metadata": {},
   "outputs": [
    {
     "name": "stderr",
     "output_type": "stream",
     "text": [
      "Warning message:\n",
      "\"not plotting observations with leverage one:\n",
      "  5\"\n"
     ]
    },
    {
     "data": {
      "image/png": "[encoded data removed]",
      "text/plain": [
       "Plot with title \"\""
      ]
     },
     "metadata": {
      "image/png": {
       "height": 420,
       "width": 420
      },
      "text/plain": {
       "height": 420,
       "width": 420
      }
     },
     "output_type": "display_data"
    },
    {
     "name": "stderr",
     "output_type": "stream",
     "text": [
      "Warning message:\n",
      "\"not plotting observations with leverage one:\n",
      "  5\"\n"
     ]
    },
    {
     "data": {
      "image/png": "[encoded data removed]",
      "text/plain": [
       "Plot with title \"\""
      ]
     },
     "metadata": {
      "image/png": {
       "height": 420,
       "width": 420
      },
      "text/plain": {
       "height": 420,
       "width": 420
      }
     },
     "output_type": "display_data"
    },
    {
     "data": {
      "image/png": "[encoded data removed]",
      "text/plain": [
       "Plot with title \"\""
      ]
     },
     "metadata": {
      "image/png": {
       "height": 420,
       "width": 420
      },
      "text/plain": {
       "height": 420,
       "width": 420
      }
     },
     "output_type": "display_data"
    },
    {
     "data": {
      "image/png": "[encoded data removed]",
      "text/plain": [
       "Plot with title \"\""
      ]
     },
     "metadata": {
      "image/png": {
       "height": 420,
       "width": 420
      },
      "text/plain": {
       "height": 420,
       "width": 420
      }
     },
     "output_type": "display_data"
    }
   ],
   "source": [
    "plot(companyb)"
   ]
  },
  {
   "cell_type": "code",
   "execution_count": 150,
   "metadata": {},
   "outputs": [],
   "source": [
    "std.resd <- rstandard(companyb)"
   ]
  },
  {
   "cell_type": "code",
   "execution_count": 151,
   "metadata": {},
   "outputs": [],
   "source": [
    "levened <- aov(abs(std.resd) ~ quarter + location + quarter*location)"
   ]
  },
  {
   "cell_type": "code",
   "execution_count": 152,
   "metadata": {},
   "outputs": [
    {
     "name": "stderr",
     "output_type": "stream",
     "text": [
      "Note: model has aliased coefficients\n",
      "      sums of squares computed by model comparison\n",
      "\n"
     ]
    },
    {
     "data": {
      "text/html": [
       "<table>\n",
       "<caption>A anova: 4 × 4</caption>\n",
       "<thead>\n",
       "\t<tr><th></th><th scope=col>Sum Sq</th><th scope=col>Df</th><th scope=col>F value</th><th scope=col>Pr(&gt;F)</th></tr>\n",
       "\t<tr><th></th><th scope=col>&lt;dbl&gt;</th><th scope=col>&lt;dbl&gt;</th><th scope=col>&lt;dbl&gt;</th><th scope=col>&lt;dbl&gt;</th></tr>\n",
       "</thead>\n",
       "<tbody>\n",
       "\t<tr><th scope=row>quarter</th><td>1.170783</td><td> 3</td><td>1.486781</td><td>0.236750891</td></tr>\n",
       "\t<tr><th scope=row>location</th><td>3.044665</td><td> 2</td><td>5.799647</td><td>0.007091339</td></tr>\n",
       "\t<tr><th scope=row>quarter:location</th><td>3.214419</td><td> 5</td><td>2.449202</td><td>0.054784826</td></tr>\n",
       "\t<tr><th scope=row>Residuals</th><td>8.399586</td><td>32</td><td>      NA</td><td>         NA</td></tr>\n",
       "</tbody>\n",
       "</table>\n"
      ],
      "text/latex": [
       "A anova: 4 × 4\n",
       "\\begin{tabular}{r|llll}\n",
       "  & Sum Sq & Df & F value & Pr(>F)\\\\\n",
       "  & <dbl> & <dbl> & <dbl> & <dbl>\\\\\n",
       "\\hline\n",
       "\tquarter & 1.170783 &  3 & 1.486781 & 0.236750891\\\\\n",
       "\tlocation & 3.044665 &  2 & 5.799647 & 0.007091339\\\\\n",
       "\tquarter:location & 3.214419 &  5 & 2.449202 & 0.054784826\\\\\n",
       "\tResiduals & 8.399586 & 32 &       NA &          NA\\\\\n",
       "\\end{tabular}\n"
      ],
      "text/markdown": [
       "\n",
       "A anova: 4 × 4\n",
       "\n",
       "| <!--/--> | Sum Sq &lt;dbl&gt; | Df &lt;dbl&gt; | F value &lt;dbl&gt; | Pr(&gt;F) &lt;dbl&gt; |\n",
       "|---|---|---|---|---|\n",
       "| quarter | 1.170783 |  3 | 1.486781 | 0.236750891 |\n",
       "| location | 3.044665 |  2 | 5.799647 | 0.007091339 |\n",
       "| quarter:location | 3.214419 |  5 | 2.449202 | 0.054784826 |\n",
       "| Residuals | 8.399586 | 32 |       NA |          NA |\n",
       "\n"
      ],
      "text/plain": [
       "                 Sum Sq   Df F value  Pr(>F)     \n",
       "quarter          1.170783  3 1.486781 0.236750891\n",
       "location         3.044665  2 5.799647 0.007091339\n",
       "quarter:location 3.214419  5 2.449202 0.054784826\n",
       "Residuals        8.399586 32       NA          NA"
      ]
     },
     "metadata": {},
     "output_type": "display_data"
    }
   ],
   "source": [
    "levened <- aov(abs(std.resd) ~ quarter + location + quarter*location)\n",
    "Anova(levened)"
   ]
  },
  {
   "cell_type": "code",
   "execution_count": 146,
   "metadata": {},
   "outputs": [
    {
     "data": {
      "image/png": "[encoded data removed]",
      "text/plain": [
       "plot without title"
      ]
     },
     "metadata": {
      "image/png": {
       "height": 420,
       "width": 420
      },
      "text/plain": {
       "height": 420,
       "width": 420
      }
     },
     "output_type": "display_data"
    },
    {
     "data": {
      "text/html": [
       "<table>\n",
       "<caption>A matrix: 44 × 3 of type dbl</caption>\n",
       "<thead>\n",
       "\t<tr><th></th><th scope=col>std.resd</th><th scope=col>hatd</th><th scope=col>cooksd</th></tr>\n",
       "</thead>\n",
       "<tbody>\n",
       "\t<tr><th scope=row>1</th><td> 2.38687506</td><td>0.2500000</td><td>1.582548e-01</td></tr>\n",
       "\t<tr><th scope=row>2</th><td>-0.63044293</td><td>0.2500000</td><td>1.104051e-02</td></tr>\n",
       "\t<tr><th scope=row>3</th><td>-1.05961500</td><td>0.2500000</td><td>3.118844e-02</td></tr>\n",
       "\t<tr><th scope=row>4</th><td>-0.69681712</td><td>0.2500000</td><td>1.348761e-02</td></tr>\n",
       "\t<tr><th scope=row>5</th><td>        NaN</td><td>1.0000000</td><td>         NaN</td></tr>\n",
       "\t<tr><th scope=row>6</th><td> 0.14774731</td><td>0.3333333</td><td>9.095528e-04</td></tr>\n",
       "\t<tr><th scope=row>7</th><td> 0.09671291</td><td>0.3333333</td><td>3.897245e-04</td></tr>\n",
       "\t<tr><th scope=row>8</th><td>-0.24446022</td><td>0.3333333</td><td>2.490033e-03</td></tr>\n",
       "\t<tr><th scope=row>9</th><td>-1.44046911</td><td>0.2000000</td><td>4.322815e-02</td></tr>\n",
       "\t<tr><th scope=row>10</th><td>-0.14896081</td><td>0.2500000</td><td>6.163701e-04</td></tr>\n",
       "\t<tr><th scope=row>11</th><td>-0.73497938</td><td>0.2000000</td><td>1.125406e-02</td></tr>\n",
       "\t<tr><th scope=row>12</th><td> 1.58958211</td><td>0.2000000</td><td>5.264107e-02</td></tr>\n",
       "\t<tr><th scope=row>13</th><td> 0.11534007</td><td>0.2500000</td><td>3.695370e-04</td></tr>\n",
       "\t<tr><th scope=row>14</th><td> 1.64212586</td><td>0.2000000</td><td>5.617869e-02</td></tr>\n",
       "\t<tr><th scope=row>15</th><td>-0.25460722</td><td>0.2500000</td><td>1.800690e-03</td></tr>\n",
       "\t<tr><th scope=row>16</th><td>-0.88130546</td><td>0.2000000</td><td>1.618124e-02</td></tr>\n",
       "\t<tr><th scope=row>17</th><td>-0.54086541</td><td>0.2000000</td><td>6.094487e-03</td></tr>\n",
       "\t<tr><th scope=row>18</th><td>-1.61888152</td><td>0.2000000</td><td>5.459953e-02</td></tr>\n",
       "\t<tr><th scope=row>19</th><td>-0.43724308</td><td>0.2000000</td><td>3.982948e-03</td></tr>\n",
       "\t<tr><th scope=row>20</th><td> 0.26983185</td><td>0.2000000</td><td>1.516859e-03</td></tr>\n",
       "\t<tr><th scope=row>21</th><td> 2.15220415</td><td>0.2000000</td><td>9.649964e-02</td></tr>\n",
       "\t<tr><th scope=row>22</th><td> 0.28822796</td><td>0.2500000</td><td>2.307649e-03</td></tr>\n",
       "\t<tr><th scope=row>23</th><td>-0.05810728</td><td>0.1111111</td><td>3.517142e-05</td></tr>\n",
       "\t<tr><th scope=row>24</th><td>-0.88201701</td><td>0.1111111</td><td>8.103687e-03</td></tr>\n",
       "\t<tr><th scope=row>25</th><td> 0.14733824</td><td>0.5000000</td><td>1.809046e-03</td></tr>\n",
       "\t<tr><th scope=row>26</th><td>-0.85354282</td><td>0.1111111</td><td>7.588910e-03</td></tr>\n",
       "\t<tr><th scope=row>27</th><td>-0.25942612</td><td>0.1111111</td><td>7.010616e-04</td></tr>\n",
       "\t<tr><th scope=row>28</th><td> 1.43782369</td><td>0.1111111</td><td>2.153476e-02</td></tr>\n",
       "\t<tr><th scope=row>29</th><td> 0.41123828</td><td>0.1111111</td><td>1.761635e-03</td></tr>\n",
       "\t<tr><th scope=row>30</th><td>-0.14733824</td><td>0.5000000</td><td>1.809046e-03</td></tr>\n",
       "\t<tr><th scope=row>31</th><td>-0.30774921</td><td>0.1111111</td><td>9.865581e-04</td></tr>\n",
       "\t<tr><th scope=row>32</th><td> 0.58415239</td><td>0.3333333</td><td>1.421808e-02</td></tr>\n",
       "\t<tr><th scope=row>33</th><td> 0.80641125</td><td>0.1111111</td><td>6.773949e-03</td></tr>\n",
       "\t<tr><th scope=row>34</th><td> 0.44101001</td><td>0.3333333</td><td>8.103743e-03</td></tr>\n",
       "\t<tr><th scope=row>35</th><td>-1.02516241</td><td>0.3333333</td><td>4.378992e-02</td></tr>\n",
       "\t<tr><th scope=row>36</th><td>-0.29463078</td><td>0.1111111</td><td>9.042427e-04</td></tr>\n",
       "\t<tr><th scope=row>37</th><td> 1.73715083</td><td>0.3333333</td><td>1.257372e-01</td></tr>\n",
       "\t<tr><th scope=row>38</th><td>-0.02254224</td><td>0.3333333</td><td>2.117303e-05</td></tr>\n",
       "\t<tr><th scope=row>39</th><td> 0.90495036</td><td>0.5000000</td><td>6.824460e-02</td></tr>\n",
       "\t<tr><th scope=row>40</th><td>-0.90495036</td><td>0.5000000</td><td>6.824460e-02</td></tr>\n",
       "\t<tr><th scope=row>41</th><td>-1.67440668</td><td>0.3333333</td><td>1.168182e-01</td></tr>\n",
       "\t<tr><th scope=row>42</th><td>-1.71460859</td><td>0.3333333</td><td>1.224951e-01</td></tr>\n",
       "\t<tr><th scope=row>43</th><td> 1.08460884</td><td>0.3333333</td><td>4.901568e-02</td></tr>\n",
       "\t<tr><th scope=row>44</th><td> 0.58979784</td><td>0.3333333</td><td>1.449423e-02</td></tr>\n",
       "</tbody>\n",
       "</table>\n"
      ],
      "text/latex": [
       "A matrix: 44 × 3 of type dbl\n",
       "\\begin{tabular}{r|lll}\n",
       "  & std.resd & hatd & cooksd\\\\\n",
       "\\hline\n",
       "\t1 &  2.38687506 & 0.2500000 & 1.582548e-01\\\\\n",
       "\t2 & -0.63044293 & 0.2500000 & 1.104051e-02\\\\\n",
       "\t3 & -1.05961500 & 0.2500000 & 3.118844e-02\\\\\n",
       "\t4 & -0.69681712 & 0.2500000 & 1.348761e-02\\\\\n",
       "\t5 &         NaN & 1.0000000 &          NaN\\\\\n",
       "\t6 &  0.14774731 & 0.3333333 & 9.095528e-04\\\\\n",
       "\t7 &  0.09671291 & 0.3333333 & 3.897245e-04\\\\\n",
       "\t8 & -0.24446022 & 0.3333333 & 2.490033e-03\\\\\n",
       "\t9 & -1.44046911 & 0.2000000 & 4.322815e-02\\\\\n",
       "\t10 & -0.14896081 & 0.2500000 & 6.163701e-04\\\\\n",
       "\t11 & -0.73497938 & 0.2000000 & 1.125406e-02\\\\\n",
       "\t12 &  1.58958211 & 0.2000000 & 5.264107e-02\\\\\n",
       "\t13 &  0.11534007 & 0.2500000 & 3.695370e-04\\\\\n",
       "\t14 &  1.64212586 & 0.2000000 & 5.617869e-02\\\\\n",
       "\t15 & -0.25460722 & 0.2500000 & 1.800690e-03\\\\\n",
       "\t16 & -0.88130546 & 0.2000000 & 1.618124e-02\\\\\n",
       "\t17 & -0.54086541 & 0.2000000 & 6.094487e-03\\\\\n",
       "\t18 & -1.61888152 & 0.2000000 & 5.459953e-02\\\\\n",
       "\t19 & -0.43724308 & 0.2000000 & 3.982948e-03\\\\\n",
       "\t20 &  0.26983185 & 0.2000000 & 1.516859e-03\\\\\n",
       "\t21 &  2.15220415 & 0.2000000 & 9.649964e-02\\\\\n",
       "\t22 &  0.28822796 & 0.2500000 & 2.307649e-03\\\\\n",
       "\t23 & -0.05810728 & 0.1111111 & 3.517142e-05\\\\\n",
       "\t24 & -0.88201701 & 0.1111111 & 8.103687e-03\\\\\n",
       "\t25 &  0.14733824 & 0.5000000 & 1.809046e-03\\\\\n",
       "\t26 & -0.85354282 & 0.1111111 & 7.588910e-03\\\\\n",
       "\t27 & -0.25942612 & 0.1111111 & 7.010616e-04\\\\\n",
       "\t28 &  1.43782369 & 0.1111111 & 2.153476e-02\\\\\n",
       "\t29 &  0.41123828 & 0.1111111 & 1.761635e-03\\\\\n",
       "\t30 & -0.14733824 & 0.5000000 & 1.809046e-03\\\\\n",
       "\t31 & -0.30774921 & 0.1111111 & 9.865581e-04\\\\\n",
       "\t32 &  0.58415239 & 0.3333333 & 1.421808e-02\\\\\n",
       "\t33 &  0.80641125 & 0.1111111 & 6.773949e-03\\\\\n",
       "\t34 &  0.44101001 & 0.3333333 & 8.103743e-03\\\\\n",
       "\t35 & -1.02516241 & 0.3333333 & 4.378992e-02\\\\\n",
       "\t36 & -0.29463078 & 0.1111111 & 9.042427e-04\\\\\n",
       "\t37 &  1.73715083 & 0.3333333 & 1.257372e-01\\\\\n",
       "\t38 & -0.02254224 & 0.3333333 & 2.117303e-05\\\\\n",
       "\t39 &  0.90495036 & 0.5000000 & 6.824460e-02\\\\\n",
       "\t40 & -0.90495036 & 0.5000000 & 6.824460e-02\\\\\n",
       "\t41 & -1.67440668 & 0.3333333 & 1.168182e-01\\\\\n",
       "\t42 & -1.71460859 & 0.3333333 & 1.224951e-01\\\\\n",
       "\t43 &  1.08460884 & 0.3333333 & 4.901568e-02\\\\\n",
       "\t44 &  0.58979784 & 0.3333333 & 1.449423e-02\\\\\n",
       "\\end{tabular}\n"
      ],
      "text/markdown": [
       "\n",
       "A matrix: 44 × 3 of type dbl\n",
       "\n",
       "| <!--/--> | std.resd | hatd | cooksd |\n",
       "|---|---|---|---|\n",
       "| 1 |  2.38687506 | 0.2500000 | 1.582548e-01 |\n",
       "| 2 | -0.63044293 | 0.2500000 | 1.104051e-02 |\n",
       "| 3 | -1.05961500 | 0.2500000 | 3.118844e-02 |\n",
       "| 4 | -0.69681712 | 0.2500000 | 1.348761e-02 |\n",
       "| 5 |         NaN | 1.0000000 |          NaN |\n",
       "| 6 |  0.14774731 | 0.3333333 | 9.095528e-04 |\n",
       "| 7 |  0.09671291 | 0.3333333 | 3.897245e-04 |\n",
       "| 8 | -0.24446022 | 0.3333333 | 2.490033e-03 |\n",
       "| 9 | -1.44046911 | 0.2000000 | 4.322815e-02 |\n",
       "| 10 | -0.14896081 | 0.2500000 | 6.163701e-04 |\n",
       "| 11 | -0.73497938 | 0.2000000 | 1.125406e-02 |\n",
       "| 12 |  1.58958211 | 0.2000000 | 5.264107e-02 |\n",
       "| 13 |  0.11534007 | 0.2500000 | 3.695370e-04 |\n",
       "| 14 |  1.64212586 | 0.2000000 | 5.617869e-02 |\n",
       "| 15 | -0.25460722 | 0.2500000 | 1.800690e-03 |\n",
       "| 16 | -0.88130546 | 0.2000000 | 1.618124e-02 |\n",
       "| 17 | -0.54086541 | 0.2000000 | 6.094487e-03 |\n",
       "| 18 | -1.61888152 | 0.2000000 | 5.459953e-02 |\n",
       "| 19 | -0.43724308 | 0.2000000 | 3.982948e-03 |\n",
       "| 20 |  0.26983185 | 0.2000000 | 1.516859e-03 |\n",
       "| 21 |  2.15220415 | 0.2000000 | 9.649964e-02 |\n",
       "| 22 |  0.28822796 | 0.2500000 | 2.307649e-03 |\n",
       "| 23 | -0.05810728 | 0.1111111 | 3.517142e-05 |\n",
       "| 24 | -0.88201701 | 0.1111111 | 8.103687e-03 |\n",
       "| 25 |  0.14733824 | 0.5000000 | 1.809046e-03 |\n",
       "| 26 | -0.85354282 | 0.1111111 | 7.588910e-03 |\n",
       "| 27 | -0.25942612 | 0.1111111 | 7.010616e-04 |\n",
       "| 28 |  1.43782369 | 0.1111111 | 2.153476e-02 |\n",
       "| 29 |  0.41123828 | 0.1111111 | 1.761635e-03 |\n",
       "| 30 | -0.14733824 | 0.5000000 | 1.809046e-03 |\n",
       "| 31 | -0.30774921 | 0.1111111 | 9.865581e-04 |\n",
       "| 32 |  0.58415239 | 0.3333333 | 1.421808e-02 |\n",
       "| 33 |  0.80641125 | 0.1111111 | 6.773949e-03 |\n",
       "| 34 |  0.44101001 | 0.3333333 | 8.103743e-03 |\n",
       "| 35 | -1.02516241 | 0.3333333 | 4.378992e-02 |\n",
       "| 36 | -0.29463078 | 0.1111111 | 9.042427e-04 |\n",
       "| 37 |  1.73715083 | 0.3333333 | 1.257372e-01 |\n",
       "| 38 | -0.02254224 | 0.3333333 | 2.117303e-05 |\n",
       "| 39 |  0.90495036 | 0.5000000 | 6.824460e-02 |\n",
       "| 40 | -0.90495036 | 0.5000000 | 6.824460e-02 |\n",
       "| 41 | -1.67440668 | 0.3333333 | 1.168182e-01 |\n",
       "| 42 | -1.71460859 | 0.3333333 | 1.224951e-01 |\n",
       "| 43 |  1.08460884 | 0.3333333 | 4.901568e-02 |\n",
       "| 44 |  0.58979784 | 0.3333333 | 1.449423e-02 |\n",
       "\n"
      ],
      "text/plain": [
       "   std.resd    hatd      cooksd      \n",
       "1   2.38687506 0.2500000 1.582548e-01\n",
       "2  -0.63044293 0.2500000 1.104051e-02\n",
       "3  -1.05961500 0.2500000 3.118844e-02\n",
       "4  -0.69681712 0.2500000 1.348761e-02\n",
       "5          NaN 1.0000000          NaN\n",
       "6   0.14774731 0.3333333 9.095528e-04\n",
       "7   0.09671291 0.3333333 3.897245e-04\n",
       "8  -0.24446022 0.3333333 2.490033e-03\n",
       "9  -1.44046911 0.2000000 4.322815e-02\n",
       "10 -0.14896081 0.2500000 6.163701e-04\n",
       "11 -0.73497938 0.2000000 1.125406e-02\n",
       "12  1.58958211 0.2000000 5.264107e-02\n",
       "13  0.11534007 0.2500000 3.695370e-04\n",
       "14  1.64212586 0.2000000 5.617869e-02\n",
       "15 -0.25460722 0.2500000 1.800690e-03\n",
       "16 -0.88130546 0.2000000 1.618124e-02\n",
       "17 -0.54086541 0.2000000 6.094487e-03\n",
       "18 -1.61888152 0.2000000 5.459953e-02\n",
       "19 -0.43724308 0.2000000 3.982948e-03\n",
       "20  0.26983185 0.2000000 1.516859e-03\n",
       "21  2.15220415 0.2000000 9.649964e-02\n",
       "22  0.28822796 0.2500000 2.307649e-03\n",
       "23 -0.05810728 0.1111111 3.517142e-05\n",
       "24 -0.88201701 0.1111111 8.103687e-03\n",
       "25  0.14733824 0.5000000 1.809046e-03\n",
       "26 -0.85354282 0.1111111 7.588910e-03\n",
       "27 -0.25942612 0.1111111 7.010616e-04\n",
       "28  1.43782369 0.1111111 2.153476e-02\n",
       "29  0.41123828 0.1111111 1.761635e-03\n",
       "30 -0.14733824 0.5000000 1.809046e-03\n",
       "31 -0.30774921 0.1111111 9.865581e-04\n",
       "32  0.58415239 0.3333333 1.421808e-02\n",
       "33  0.80641125 0.1111111 6.773949e-03\n",
       "34  0.44101001 0.3333333 8.103743e-03\n",
       "35 -1.02516241 0.3333333 4.378992e-02\n",
       "36 -0.29463078 0.1111111 9.042427e-04\n",
       "37  1.73715083 0.3333333 1.257372e-01\n",
       "38 -0.02254224 0.3333333 2.117303e-05\n",
       "39  0.90495036 0.5000000 6.824460e-02\n",
       "40 -0.90495036 0.5000000 6.824460e-02\n",
       "41 -1.67440668 0.3333333 1.168182e-01\n",
       "42 -1.71460859 0.3333333 1.224951e-01\n",
       "43  1.08460884 0.3333333 4.901568e-02\n",
       "44  0.58979784 0.3333333 1.449423e-02"
      ]
     },
     "metadata": {},
     "output_type": "display_data"
    },
    {
     "data": {
      "image/png": "[encoded data removed]",
      "text/plain": [
       "Plot with title \"Normal Q-Q Plot\""
      ]
     },
     "metadata": {
      "image/png": {
       "height": 420,
       "width": 420
      },
      "text/plain": {
       "height": 420,
       "width": 420
      }
     },
     "output_type": "display_data"
    },
    {
     "data": {
      "image/png": "[encoded data removed]",
      "text/plain": [
       "plot without title"
      ]
     },
     "metadata": {
      "image/png": {
       "height": 420,
       "width": 420
      },
      "text/plain": {
       "height": 420,
       "width": 420
      }
     },
     "output_type": "display_data"
    },
    {
     "data": {
      "image/png": "[encoded data removed]",
      "text/plain": [
       "plot without title"
      ]
     },
     "metadata": {
      "image/png": {
       "height": 420,
       "width": 420
      },
      "text/plain": {
       "height": 420,
       "width": 420
      }
     },
     "output_type": "display_data"
    }
   ],
   "source": [
    "std.resd <- rstandard(companyb)\n",
    "hatd <- hatvalues(companyb)\n",
    "cooksd <- cooks.distance(companyb)\n",
    "plot(fitted(companyb),std.resd,xlab=\"Fitted values\",ylab=\"Standardized residuals\")\n",
    "qqnorm(std.resd, ylab=\"Standardized residuals\")\n",
    "cbind(std.resd,hatd,cooksd)\n",
    "boxplot(split(std.resd,quarter))\n",
    "boxplot(split(std.resd,location))"
   ]
  },
  {
   "cell_type": "code",
   "execution_count": 201,
   "metadata": {},
   "outputs": [
    {
     "name": "stderr",
     "output_type": "stream",
     "text": [
      "Warning message in split.default(std.resd, list(companies2$quarter, companies2$location)):\n",
      "\"data length is not a multiple of split variable\"\n"
     ]
    }
   ],
   "source": [
    "groupsd <- sapply(split(std.resd,list(companies2$quarter,companies2$location)),sd)\n",
    "wt<-rep(NA,dim(companies2)[1])\n",
    "wt[(companies2$quarter==\"1st Quarter\")&(companies2$location==\"Bay_Area\")] <- 1 / groupsd[\"1st Quarter.Bay_Area\"]^2\n",
    "wt[(companies2$quarter==\"1st Quarter\")&(companies2$location==\"China\")] <- 1 / groupsd[\"1st Quarter.China\"]^2\n",
    "wt[(companies2$quarter==\"1st Quarter\")&(companies2$location==\"Other\")] <- 1 / groupsd[\"1st Quarter.Other\"]^2\n",
    "wt[(companies2$quarter==\"2nd Quarter\")&(companies2$location==\"Bay_Area\")] <- 1 / groupsd[\"2nd Quarter.Bay_Area\"]^2\n",
    "wt[(companies2$quarter==\"2nd Quarter\")&(companies2$location==\"China\")] <- 1 / groupsd[\"2nd Quarter.China\"]^2\n",
    "wt[(companies2$quarter==\"2nd Quarter\")&(companies2$location==\"Other\")] <- 1 / groupsd[\"2nd Quarter.Other\"]^2\n",
    "wt[(companies2$quarter==\"3rd Quarter\")&(companies2$location==\"Bay_Area\")] <- 1 / groupsd[\"3rd Quarter.Bay_Area\"]^2\n",
    "wt[(companies2$quarter==\"3rd Quarter\")&(companies2$location==\"China\")] <- 1 / groupsd[\"3rd Quarter.China\"]^2\n",
    "wt[(companies2$quarter==\"3rd Quarter\")&(companies2$location==\"Other\")] <- 1 / groupsd[\"3rd Quarter.Other\"]^2\n",
    "wt[(companies2$quarter==\"4th Quarter\")&(companies2$location==\"Bay_Area\")] <- 1 / groupsd[\"4th Quarter.Bay_Area\"]^2\n",
    "wt[(companies2$quarter==\"4th Quarter\")&(companies2$location==\"China\")] <- 1 / groupsd[\"4th Quarter.China\"]^2\n",
    "wt[(companies2$quarter==\"4th Quarter\")&(companies2$location==\"Other\")] <- 1 / groupsd[\"4th Quarter.Other\"]^2"
   ]
  },
  {
   "cell_type": "code",
   "execution_count": 202,
   "metadata": {},
   "outputs": [],
   "source": [
    "logvalues <- log10(companies2$value)"
   ]
  },
  {
   "cell_type": "code",
   "execution_count": 212,
   "metadata": {},
   "outputs": [
    {
     "name": "stderr",
     "output_type": "stream",
     "text": [
      "Note: model has aliased coefficients\n",
      "      sums of squares computed by model comparison\n",
      "\n"
     ]
    },
    {
     "data": {
      "text/html": [
       "<table>\n",
       "<caption>A anova: 4 × 4</caption>\n",
       "<thead>\n",
       "\t<tr><th></th><th scope=col>Sum Sq</th><th scope=col>Df</th><th scope=col>F value</th><th scope=col>Pr(&gt;F)</th></tr>\n",
       "\t<tr><th></th><th scope=col>&lt;dbl&gt;</th><th scope=col>&lt;dbl&gt;</th><th scope=col>&lt;dbl&gt;</th><th scope=col>&lt;dbl&gt;</th></tr>\n",
       "</thead>\n",
       "<tbody>\n",
       "\t<tr><th scope=row>companies2$quarter</th><td> 1.70681550</td><td> 3</td><td>1.19805664</td><td>0.3273148</td></tr>\n",
       "\t<tr><th scope=row>companies2$location</th><td> 0.03425613</td><td> 2</td><td>0.03606786</td><td>0.9646166</td></tr>\n",
       "\t<tr><th scope=row>companies2$quarter:companies2$location</th><td> 0.27970652</td><td> 4</td><td>0.14724977</td><td>0.9627978</td></tr>\n",
       "\t<tr><th scope=row>Residuals</th><td>14.24653429</td><td>30</td><td>        NA</td><td>       NA</td></tr>\n",
       "</tbody>\n",
       "</table>\n"
      ],
      "text/latex": [
       "A anova: 4 × 4\n",
       "\\begin{tabular}{r|llll}\n",
       "  & Sum Sq & Df & F value & Pr(>F)\\\\\n",
       "  & <dbl> & <dbl> & <dbl> & <dbl>\\\\\n",
       "\\hline\n",
       "\tcompanies2\\$quarter &  1.70681550 &  3 & 1.19805664 & 0.3273148\\\\\n",
       "\tcompanies2\\$location &  0.03425613 &  2 & 0.03606786 & 0.9646166\\\\\n",
       "\tcompanies2\\$quarter:companies2\\$location &  0.27970652 &  4 & 0.14724977 & 0.9627978\\\\\n",
       "\tResiduals & 14.24653429 & 30 &         NA &        NA\\\\\n",
       "\\end{tabular}\n"
      ],
      "text/markdown": [
       "\n",
       "A anova: 4 × 4\n",
       "\n",
       "| <!--/--> | Sum Sq &lt;dbl&gt; | Df &lt;dbl&gt; | F value &lt;dbl&gt; | Pr(&gt;F) &lt;dbl&gt; |\n",
       "|---|---|---|---|---|\n",
       "| companies2$quarter |  1.70681550 |  3 | 1.19805664 | 0.3273148 |\n",
       "| companies2$location |  0.03425613 |  2 | 0.03606786 | 0.9646166 |\n",
       "| companies2$quarter:companies2$location |  0.27970652 |  4 | 0.14724977 | 0.9627978 |\n",
       "| Residuals | 14.24653429 | 30 |         NA |        NA |\n",
       "\n"
      ],
      "text/plain": [
       "                                       Sum Sq      Df F value    Pr(>F)   \n",
       "companies2$quarter                      1.70681550  3 1.19805664 0.3273148\n",
       "companies2$location                     0.03425613  2 0.03606786 0.9646166\n",
       "companies2$quarter:companies2$location  0.27970652  4 0.14724977 0.9627978\n",
       "Residuals                              14.24653429 30         NA        NA"
      ]
     },
     "metadata": {},
     "output_type": "display_data"
    },
    {
     "data": {
      "text/plain": [
       "\n",
       "Call:\n",
       "lm(formula = logvalues ~ companies2$quarter + companies2$location + \n",
       "    companies2$quarter * companies2$location, weights = wt)\n",
       "\n",
       "Weighted Residuals:\n",
       "     Min       1Q   Median       3Q      Max \n",
       "-2.15816 -0.19433 -0.07154  0.16922  2.18653 \n",
       "\n",
       "Coefficients: (2 not defined because of singularities)\n",
       "                                         Estimate Std. Error t value Pr(>|t|)\n",
       "(Intercept)                               8.33734    0.27883  29.901   <2e-16\n",
       "companies2$quarter1                       0.34422    0.19832   1.736   0.0929\n",
       "companies2$quarter2                       0.05985    0.31497   0.190   0.8506\n",
       "companies2$quarter3                      -0.03139    0.28798  -0.109   0.9139\n",
       "companies2$location1                      0.12208    0.29060   0.420   0.6774\n",
       "companies2$location2                      0.01094    0.28194   0.039   0.9693\n",
       "companies2$quarter1:companies2$location1 -0.22273    0.34595  -0.644   0.5246\n",
       "companies2$quarter2:companies2$location1  0.05755    0.32543   0.177   0.8608\n",
       "companies2$quarter3:companies2$location1 -0.11276    0.43792  -0.257   0.7986\n",
       "companies2$quarter1:companies2$location2       NA         NA      NA       NA\n",
       "companies2$quarter2:companies2$location2 -0.10441    0.35681  -0.293   0.7718\n",
       "companies2$quarter3:companies2$location2       NA         NA      NA       NA\n",
       "                                            \n",
       "(Intercept)                              ***\n",
       "companies2$quarter1                      .  \n",
       "companies2$quarter2                         \n",
       "companies2$quarter3                         \n",
       "companies2$location1                        \n",
       "companies2$location2                        \n",
       "companies2$quarter1:companies2$location1    \n",
       "companies2$quarter2:companies2$location1    \n",
       "companies2$quarter3:companies2$location1    \n",
       "companies2$quarter1:companies2$location2    \n",
       "companies2$quarter2:companies2$location2    \n",
       "companies2$quarter3:companies2$location2    \n",
       "---\n",
       "Signif. codes:  0 '***' 0.001 '**' 0.01 '*' 0.05 '.' 0.1 ' ' 1\n",
       "\n",
       "Residual standard error: 0.6891 on 30 degrees of freedom\n",
       "  (5 observations deleted due to missingness)\n",
       "Multiple R-squared:  0.1644,\tAdjusted R-squared:  -0.08631 \n",
       "F-statistic: 0.6557 on 9 and 30 DF,  p-value: 0.741\n"
      ]
     },
     "metadata": {},
     "output_type": "display_data"
    }
   ],
   "source": [
    "companye <- aov(logvalues ~ companies2$quarter + companies2$location + companies2$quarter*companies2$location, weight=wt)\n",
    "Anova(companye)\n",
    "summary(lm(logvalues ~ companies2$quarter + companies2$location + companies2$quarter*companies2$location, weight=wt))"
   ]
  },
  {
   "cell_type": "code",
   "execution_count": 213,
   "metadata": {},
   "outputs": [
    {
     "data": {
      "text/html": [
       "<table>\n",
       "<caption>A anova: 2 × 6</caption>\n",
       "<thead>\n",
       "\t<tr><th></th><th scope=col>Df</th><th scope=col>Sum of Sq</th><th scope=col>RSS</th><th scope=col>AIC</th><th scope=col>F value</th><th scope=col>Pr(&gt;F)</th></tr>\n",
       "\t<tr><th></th><th scope=col>&lt;dbl&gt;</th><th scope=col>&lt;dbl&gt;</th><th scope=col>&lt;dbl&gt;</th><th scope=col>&lt;dbl&gt;</th><th scope=col>&lt;dbl&gt;</th><th scope=col>&lt;dbl&gt;</th></tr>\n",
       "</thead>\n",
       "<tbody>\n",
       "\t<tr><th scope=row>&lt;none&gt;</th><td>NA</td><td>       NA</td><td>14.24653</td><td>-21.29463</td><td>       NA</td><td>       NA</td></tr>\n",
       "\t<tr><th scope=row>companies2$quarter:companies2$location</th><td> 4</td><td>0.2797065</td><td>14.52624</td><td>-28.51691</td><td>0.1472498</td><td>0.9627978</td></tr>\n",
       "</tbody>\n",
       "</table>\n"
      ],
      "text/latex": [
       "A anova: 2 × 6\n",
       "\\begin{tabular}{r|llllll}\n",
       "  & Df & Sum of Sq & RSS & AIC & F value & Pr(>F)\\\\\n",
       "  & <dbl> & <dbl> & <dbl> & <dbl> & <dbl> & <dbl>\\\\\n",
       "\\hline\n",
       "\t<none> & NA &        NA & 14.24653 & -21.29463 &        NA &        NA\\\\\n",
       "\tcompanies2\\$quarter:companies2\\$location &  4 & 0.2797065 & 14.52624 & -28.51691 & 0.1472498 & 0.9627978\\\\\n",
       "\\end{tabular}\n"
      ],
      "text/markdown": [
       "\n",
       "A anova: 2 × 6\n",
       "\n",
       "| <!--/--> | Df &lt;dbl&gt; | Sum of Sq &lt;dbl&gt; | RSS &lt;dbl&gt; | AIC &lt;dbl&gt; | F value &lt;dbl&gt; | Pr(&gt;F) &lt;dbl&gt; |\n",
       "|---|---|---|---|---|---|---|\n",
       "| &lt;none&gt; | NA |        NA | 14.24653 | -21.29463 |        NA |        NA |\n",
       "| companies2$quarter:companies2$location |  4 | 0.2797065 | 14.52624 | -28.51691 | 0.1472498 | 0.9627978 |\n",
       "\n"
      ],
      "text/plain": [
       "                                       Df Sum of Sq RSS      AIC      \n",
       "<none>                                 NA        NA 14.24653 -21.29463\n",
       "companies2$quarter:companies2$location  4 0.2797065 14.52624 -28.51691\n",
       "                                       F value   Pr(>F)   \n",
       "<none>                                        NA        NA\n",
       "companies2$quarter:companies2$location 0.1472498 0.9627978"
      ]
     },
     "metadata": {},
     "output_type": "display_data"
    }
   ],
   "source": [
    "drop1(companye, test=\"F\")"
   ]
  },
  {
   "cell_type": "code",
   "execution_count": 189,
   "metadata": {},
   "outputs": [
    {
     "data": {
      "image/png": "[encoded data removed]",
      "text/plain": [
       "plot without title"
      ]
     },
     "metadata": {
      "image/png": {
       "height": 420,
       "width": 420
      },
      "text/plain": {
       "height": 420,
       "width": 420
      }
     },
     "output_type": "display_data"
    },
    {
     "data": {
      "text/html": [
       "<table>\n",
       "<caption>A matrix: 40 × 3 of type dbl</caption>\n",
       "<thead>\n",
       "\t<tr><th></th><th scope=col>std.resd</th><th scope=col>hatd</th><th scope=col>cooksd</th></tr>\n",
       "</thead>\n",
       "<tbody>\n",
       "\t<tr><th scope=row>1</th><td> 2.54023855</td><td>0.2500000</td><td>2.150937e-01</td></tr>\n",
       "\t<tr><th scope=row>2</th><td>-0.67095068</td><td>0.2500000</td><td>1.500583e-02</td></tr>\n",
       "\t<tr><th scope=row>3</th><td>-1.12769827</td><td>0.2500000</td><td>4.239011e-02</td></tr>\n",
       "\t<tr><th scope=row>4</th><td>-0.74158960</td><td>0.2500000</td><td>1.833184e-02</td></tr>\n",
       "\t<tr><th scope=row>6</th><td> 0.18629032</td><td>0.3333333</td><td>1.735204e-03</td></tr>\n",
       "\t<tr><th scope=row>7</th><td> 0.12194252</td><td>0.3333333</td><td>7.434989e-04</td></tr>\n",
       "\t<tr><th scope=row>8</th><td>-0.30823285</td><td>0.3333333</td><td>4.750374e-03</td></tr>\n",
       "\t<tr><th scope=row>9</th><td>-1.30747722</td><td>0.2000000</td><td>4.273742e-02</td></tr>\n",
       "\t<tr><th scope=row>10</th><td>-0.19958727</td><td>0.2500000</td><td>1.327836e-03</td></tr>\n",
       "\t<tr><th scope=row>11</th><td>-0.66712212</td><td>0.2000000</td><td>1.112630e-02</td></tr>\n",
       "\t<tr><th scope=row>12</th><td> 2.00176192</td><td>0.2000000</td><td>1.001763e-01</td></tr>\n",
       "\t<tr><th scope=row>13</th><td> 0.15454004</td><td>0.2500000</td><td>7.960875e-04</td></tr>\n",
       "\t<tr><th scope=row>14</th><td> 1.49051593</td><td>0.2000000</td><td>5.554094e-02</td></tr>\n",
       "\t<tr><th scope=row>15</th><td>-0.34113912</td><td>0.2500000</td><td>3.879197e-03</td></tr>\n",
       "\t<tr><th scope=row>16</th><td>-1.10982862</td><td>0.2000000</td><td>3.079299e-02</td></tr>\n",
       "\t<tr><th scope=row>17</th><td>-0.68111221</td><td>0.2000000</td><td>1.159785e-02</td></tr>\n",
       "\t<tr><th scope=row>18</th><td>-1.46941763</td><td>0.2000000</td><td>5.397970e-02</td></tr>\n",
       "\t<tr><th scope=row>19</th><td>-0.55062053</td><td>0.2000000</td><td>7.579574e-03</td></tr>\n",
       "\t<tr><th scope=row>20</th><td> 0.33979944</td><td>0.2000000</td><td>2.886592e-03</td></tr>\n",
       "\t<tr><th scope=row>21</th><td> 1.95350104</td><td>0.2000000</td><td>9.540416e-02</td></tr>\n",
       "\t<tr><th scope=row>22</th><td> 0.38618634</td><td>0.2500000</td><td>4.971330e-03</td></tr>\n",
       "\t<tr><th scope=row>23</th><td>-0.07095492</td><td>0.1111111</td><td>6.293251e-05</td></tr>\n",
       "\t<tr><th scope=row>24</th><td>-1.07703280</td><td>0.1111111</td><td>1.450000e-02</td></tr>\n",
       "\t<tr><th scope=row>25</th><td> 0.09311235</td><td>0.5000000</td><td>8.669909e-04</td></tr>\n",
       "\t<tr><th scope=row>26</th><td>-1.04226290</td><td>0.1111111</td><td>1.357890e-02</td></tr>\n",
       "\t<tr><th scope=row>27</th><td>-0.31678578</td><td>0.1111111</td><td>1.254415e-03</td></tr>\n",
       "\t<tr><th scope=row>28</th><td> 1.75572949</td><td>0.1111111</td><td>3.853233e-02</td></tr>\n",
       "\t<tr><th scope=row>29</th><td> 0.50216391</td><td>0.1111111</td><td>3.152107e-03</td></tr>\n",
       "\t<tr><th scope=row>30</th><td>-0.09311235</td><td>0.5000000</td><td>8.669909e-04</td></tr>\n",
       "\t<tr><th scope=row>31</th><td>-0.37579320</td><td>0.1111111</td><td>1.765257e-03</td></tr>\n",
       "\t<tr><th scope=row>32</th><td> 0.64354278</td><td>0.3333333</td><td>2.070737e-02</td></tr>\n",
       "\t<tr><th scope=row>33</th><td> 0.98471045</td><td>0.1111111</td><td>1.212068e-02</td></tr>\n",
       "\t<tr><th scope=row>34</th><td> 0.48584721</td><td>0.3333333</td><td>1.180238e-02</td></tr>\n",
       "\t<tr><th scope=row>35</th><td>-1.12939000</td><td>0.3333333</td><td>6.377609e-02</td></tr>\n",
       "\t<tr><th scope=row>36</th><td>-0.35977426</td><td>0.1111111</td><td>1.617969e-03</td></tr>\n",
       "\t<tr><th scope=row>37</th><td> 1.32694797</td><td>0.3333333</td><td>8.803955e-02</td></tr>\n",
       "\t<tr><th scope=row>38</th><td>-0.01721922</td><td>0.3333333</td><td>1.482508e-05</td></tr>\n",
       "\t<tr><th scope=row>39</th><td> 0.40944804</td><td>0.5000000</td><td>1.676477e-02</td></tr>\n",
       "\t<tr><th scope=row>40</th><td>-0.40944804</td><td>0.5000000</td><td>1.676477e-02</td></tr>\n",
       "\t<tr><th scope=row>42</th><td>-1.30972875</td><td>0.3333333</td><td>8.576947e-02</td></tr>\n",
       "</tbody>\n",
       "</table>\n"
      ],
      "text/latex": [
       "A matrix: 40 × 3 of type dbl\n",
       "\\begin{tabular}{r|lll}\n",
       "  & std.resd & hatd & cooksd\\\\\n",
       "\\hline\n",
       "\t1 &  2.54023855 & 0.2500000 & 2.150937e-01\\\\\n",
       "\t2 & -0.67095068 & 0.2500000 & 1.500583e-02\\\\\n",
       "\t3 & -1.12769827 & 0.2500000 & 4.239011e-02\\\\\n",
       "\t4 & -0.74158960 & 0.2500000 & 1.833184e-02\\\\\n",
       "\t6 &  0.18629032 & 0.3333333 & 1.735204e-03\\\\\n",
       "\t7 &  0.12194252 & 0.3333333 & 7.434989e-04\\\\\n",
       "\t8 & -0.30823285 & 0.3333333 & 4.750374e-03\\\\\n",
       "\t9 & -1.30747722 & 0.2000000 & 4.273742e-02\\\\\n",
       "\t10 & -0.19958727 & 0.2500000 & 1.327836e-03\\\\\n",
       "\t11 & -0.66712212 & 0.2000000 & 1.112630e-02\\\\\n",
       "\t12 &  2.00176192 & 0.2000000 & 1.001763e-01\\\\\n",
       "\t13 &  0.15454004 & 0.2500000 & 7.960875e-04\\\\\n",
       "\t14 &  1.49051593 & 0.2000000 & 5.554094e-02\\\\\n",
       "\t15 & -0.34113912 & 0.2500000 & 3.879197e-03\\\\\n",
       "\t16 & -1.10982862 & 0.2000000 & 3.079299e-02\\\\\n",
       "\t17 & -0.68111221 & 0.2000000 & 1.159785e-02\\\\\n",
       "\t18 & -1.46941763 & 0.2000000 & 5.397970e-02\\\\\n",
       "\t19 & -0.55062053 & 0.2000000 & 7.579574e-03\\\\\n",
       "\t20 &  0.33979944 & 0.2000000 & 2.886592e-03\\\\\n",
       "\t21 &  1.95350104 & 0.2000000 & 9.540416e-02\\\\\n",
       "\t22 &  0.38618634 & 0.2500000 & 4.971330e-03\\\\\n",
       "\t23 & -0.07095492 & 0.1111111 & 6.293251e-05\\\\\n",
       "\t24 & -1.07703280 & 0.1111111 & 1.450000e-02\\\\\n",
       "\t25 &  0.09311235 & 0.5000000 & 8.669909e-04\\\\\n",
       "\t26 & -1.04226290 & 0.1111111 & 1.357890e-02\\\\\n",
       "\t27 & -0.31678578 & 0.1111111 & 1.254415e-03\\\\\n",
       "\t28 &  1.75572949 & 0.1111111 & 3.853233e-02\\\\\n",
       "\t29 &  0.50216391 & 0.1111111 & 3.152107e-03\\\\\n",
       "\t30 & -0.09311235 & 0.5000000 & 8.669909e-04\\\\\n",
       "\t31 & -0.37579320 & 0.1111111 & 1.765257e-03\\\\\n",
       "\t32 &  0.64354278 & 0.3333333 & 2.070737e-02\\\\\n",
       "\t33 &  0.98471045 & 0.1111111 & 1.212068e-02\\\\\n",
       "\t34 &  0.48584721 & 0.3333333 & 1.180238e-02\\\\\n",
       "\t35 & -1.12939000 & 0.3333333 & 6.377609e-02\\\\\n",
       "\t36 & -0.35977426 & 0.1111111 & 1.617969e-03\\\\\n",
       "\t37 &  1.32694797 & 0.3333333 & 8.803955e-02\\\\\n",
       "\t38 & -0.01721922 & 0.3333333 & 1.482508e-05\\\\\n",
       "\t39 &  0.40944804 & 0.5000000 & 1.676477e-02\\\\\n",
       "\t40 & -0.40944804 & 0.5000000 & 1.676477e-02\\\\\n",
       "\t42 & -1.30972875 & 0.3333333 & 8.576947e-02\\\\\n",
       "\\end{tabular}\n"
      ],
      "text/markdown": [
       "\n",
       "A matrix: 40 × 3 of type dbl\n",
       "\n",
       "| <!--/--> | std.resd | hatd | cooksd |\n",
       "|---|---|---|---|\n",
       "| 1 |  2.54023855 | 0.2500000 | 2.150937e-01 |\n",
       "| 2 | -0.67095068 | 0.2500000 | 1.500583e-02 |\n",
       "| 3 | -1.12769827 | 0.2500000 | 4.239011e-02 |\n",
       "| 4 | -0.74158960 | 0.2500000 | 1.833184e-02 |\n",
       "| 6 |  0.18629032 | 0.3333333 | 1.735204e-03 |\n",
       "| 7 |  0.12194252 | 0.3333333 | 7.434989e-04 |\n",
       "| 8 | -0.30823285 | 0.3333333 | 4.750374e-03 |\n",
       "| 9 | -1.30747722 | 0.2000000 | 4.273742e-02 |\n",
       "| 10 | -0.19958727 | 0.2500000 | 1.327836e-03 |\n",
       "| 11 | -0.66712212 | 0.2000000 | 1.112630e-02 |\n",
       "| 12 |  2.00176192 | 0.2000000 | 1.001763e-01 |\n",
       "| 13 |  0.15454004 | 0.2500000 | 7.960875e-04 |\n",
       "| 14 |  1.49051593 | 0.2000000 | 5.554094e-02 |\n",
       "| 15 | -0.34113912 | 0.2500000 | 3.879197e-03 |\n",
       "| 16 | -1.10982862 | 0.2000000 | 3.079299e-02 |\n",
       "| 17 | -0.68111221 | 0.2000000 | 1.159785e-02 |\n",
       "| 18 | -1.46941763 | 0.2000000 | 5.397970e-02 |\n",
       "| 19 | -0.55062053 | 0.2000000 | 7.579574e-03 |\n",
       "| 20 |  0.33979944 | 0.2000000 | 2.886592e-03 |\n",
       "| 21 |  1.95350104 | 0.2000000 | 9.540416e-02 |\n",
       "| 22 |  0.38618634 | 0.2500000 | 4.971330e-03 |\n",
       "| 23 | -0.07095492 | 0.1111111 | 6.293251e-05 |\n",
       "| 24 | -1.07703280 | 0.1111111 | 1.450000e-02 |\n",
       "| 25 |  0.09311235 | 0.5000000 | 8.669909e-04 |\n",
       "| 26 | -1.04226290 | 0.1111111 | 1.357890e-02 |\n",
       "| 27 | -0.31678578 | 0.1111111 | 1.254415e-03 |\n",
       "| 28 |  1.75572949 | 0.1111111 | 3.853233e-02 |\n",
       "| 29 |  0.50216391 | 0.1111111 | 3.152107e-03 |\n",
       "| 30 | -0.09311235 | 0.5000000 | 8.669909e-04 |\n",
       "| 31 | -0.37579320 | 0.1111111 | 1.765257e-03 |\n",
       "| 32 |  0.64354278 | 0.3333333 | 2.070737e-02 |\n",
       "| 33 |  0.98471045 | 0.1111111 | 1.212068e-02 |\n",
       "| 34 |  0.48584721 | 0.3333333 | 1.180238e-02 |\n",
       "| 35 | -1.12939000 | 0.3333333 | 6.377609e-02 |\n",
       "| 36 | -0.35977426 | 0.1111111 | 1.617969e-03 |\n",
       "| 37 |  1.32694797 | 0.3333333 | 8.803955e-02 |\n",
       "| 38 | -0.01721922 | 0.3333333 | 1.482508e-05 |\n",
       "| 39 |  0.40944804 | 0.5000000 | 1.676477e-02 |\n",
       "| 40 | -0.40944804 | 0.5000000 | 1.676477e-02 |\n",
       "| 42 | -1.30972875 | 0.3333333 | 8.576947e-02 |\n",
       "\n"
      ],
      "text/plain": [
       "   std.resd    hatd      cooksd      \n",
       "1   2.54023855 0.2500000 2.150937e-01\n",
       "2  -0.67095068 0.2500000 1.500583e-02\n",
       "3  -1.12769827 0.2500000 4.239011e-02\n",
       "4  -0.74158960 0.2500000 1.833184e-02\n",
       "6   0.18629032 0.3333333 1.735204e-03\n",
       "7   0.12194252 0.3333333 7.434989e-04\n",
       "8  -0.30823285 0.3333333 4.750374e-03\n",
       "9  -1.30747722 0.2000000 4.273742e-02\n",
       "10 -0.19958727 0.2500000 1.327836e-03\n",
       "11 -0.66712212 0.2000000 1.112630e-02\n",
       "12  2.00176192 0.2000000 1.001763e-01\n",
       "13  0.15454004 0.2500000 7.960875e-04\n",
       "14  1.49051593 0.2000000 5.554094e-02\n",
       "15 -0.34113912 0.2500000 3.879197e-03\n",
       "16 -1.10982862 0.2000000 3.079299e-02\n",
       "17 -0.68111221 0.2000000 1.159785e-02\n",
       "18 -1.46941763 0.2000000 5.397970e-02\n",
       "19 -0.55062053 0.2000000 7.579574e-03\n",
       "20  0.33979944 0.2000000 2.886592e-03\n",
       "21  1.95350104 0.2000000 9.540416e-02\n",
       "22  0.38618634 0.2500000 4.971330e-03\n",
       "23 -0.07095492 0.1111111 6.293251e-05\n",
       "24 -1.07703280 0.1111111 1.450000e-02\n",
       "25  0.09311235 0.5000000 8.669909e-04\n",
       "26 -1.04226290 0.1111111 1.357890e-02\n",
       "27 -0.31678578 0.1111111 1.254415e-03\n",
       "28  1.75572949 0.1111111 3.853233e-02\n",
       "29  0.50216391 0.1111111 3.152107e-03\n",
       "30 -0.09311235 0.5000000 8.669909e-04\n",
       "31 -0.37579320 0.1111111 1.765257e-03\n",
       "32  0.64354278 0.3333333 2.070737e-02\n",
       "33  0.98471045 0.1111111 1.212068e-02\n",
       "34  0.48584721 0.3333333 1.180238e-02\n",
       "35 -1.12939000 0.3333333 6.377609e-02\n",
       "36 -0.35977426 0.1111111 1.617969e-03\n",
       "37  1.32694797 0.3333333 8.803955e-02\n",
       "38 -0.01721922 0.3333333 1.482508e-05\n",
       "39  0.40944804 0.5000000 1.676477e-02\n",
       "40 -0.40944804 0.5000000 1.676477e-02\n",
       "42 -1.30972875 0.3333333 8.576947e-02"
      ]
     },
     "metadata": {},
     "output_type": "display_data"
    },
    {
     "name": "stderr",
     "output_type": "stream",
     "text": [
      "Warning message in split.default(abs(std.resd), quarter):\n",
      "\"data length is not a multiple of split variable\"\n"
     ]
    },
    {
     "data": {
      "image/png": "[encoded data removed]",
      "text/plain": [
       "Plot with title \"Normal Q-Q Plot\""
      ]
     },
     "metadata": {
      "image/png": {
       "height": 420,
       "width": 420
      },
      "text/plain": {
       "height": 420,
       "width": 420
      }
     },
     "output_type": "display_data"
    },
    {
     "name": "stderr",
     "output_type": "stream",
     "text": [
      "Warning message in split.default(abs(std.resd), location):\n",
      "\"data length is not a multiple of split variable\"\n"
     ]
    },
    {
     "data": {
      "image/png": "[encoded data removed]",
      "text/plain": [
       "plot without title"
      ]
     },
     "metadata": {
      "image/png": {
       "height": 420,
       "width": 420
      },
      "text/plain": {
       "height": 420,
       "width": 420
      }
     },
     "output_type": "display_data"
    },
    {
     "data": {
      "image/png": "[encoded data removed]",
      "text/plain": [
       "plot without title"
      ]
     },
     "metadata": {
      "image/png": {
       "height": 420,
       "width": 420
      },
      "text/plain": {
       "height": 420,
       "width": 420
      }
     },
     "output_type": "display_data"
    }
   ],
   "source": [
    "std.resd <- rstandard(companye)\n",
    "hatd <- hatvalues(companye)\n",
    "cooksd <- cooks.distance(companye)\n",
    "plot(fitted(companye),std.resd,xlab=\"Fitted values\",ylab=\"Standardized residuals\")\n",
    "qqnorm(std.resd, ylab=\"Standardized residuals\")\n",
    "cbind(std.resd,hatd,cooksd)\n",
    "boxplot(split(abs(std.resd),quarter))\n",
    "boxplot(split(abs(std.resd),location))"
   ]
  },
  {
   "cell_type": "code",
   "execution_count": 190,
   "metadata": {},
   "outputs": [
    {
     "data": {
      "image/png": "[encoded data removed]",
      "text/plain": [
       "Plot with title \"\""
      ]
     },
     "metadata": {
      "image/png": {
       "height": 420,
       "width": 420
      },
      "text/plain": {
       "height": 420,
       "width": 420
      }
     },
     "output_type": "display_data"
    },
    {
     "data": {
      "image/png": "[encoded data removed]",
      "text/plain": [
       "Plot with title \"\""
      ]
     },
     "metadata": {
      "image/png": {
       "height": 420,
       "width": 420
      },
      "text/plain": {
       "height": 420,
       "width": 420
      }
     },
     "output_type": "display_data"
    },
    {
     "data": {
      "image/png": "[encoded data removed]",
      "text/plain": [
       "Plot with title \"\""
      ]
     },
     "metadata": {
      "image/png": {
       "height": 420,
       "width": 420
      },
      "text/plain": {
       "height": 420,
       "width": 420
      }
     },
     "output_type": "display_data"
    },
    {
     "data": {
      "image/png": "[encoded data removed]",
      "text/plain": [
       "Plot with title \"\""
      ]
     },
     "metadata": {
      "image/png": {
       "height": 420,
       "width": 420
      },
      "text/plain": {
       "height": 420,
       "width": 420
      }
     },
     "output_type": "display_data"
    }
   ],
   "source": [
    "plot(companye)"
   ]
  },
  {
   "cell_type": "code",
   "execution_count": 173,
   "metadata": {},
   "outputs": [
    {
     "ename": "ERROR",
     "evalue": "Error in model.frame.default(formula = abs(std.resd) ~ quarter + location + : variable lengths differ (found for 'quarter')\n",
     "output_type": "error",
     "traceback": [
      "Error in model.frame.default(formula = abs(std.resd) ~ quarter + location + : variable lengths differ (found for 'quarter')\nTraceback:\n",
      "1. aov(abs(std.resd) ~ quarter + location + quarter * location)",
      "2. eval(lmcall, parent.frame())",
      "3. eval(lmcall, parent.frame())",
      "4. stats::lm(formula = abs(std.resd) ~ quarter + location + quarter * \n .     location, singular.ok = TRUE)",
      "5. eval(mf, parent.frame())",
      "6. eval(mf, parent.frame())",
      "7. stats::model.frame(formula = abs(std.resd) ~ quarter + location + \n .     quarter * location, drop.unused.levels = TRUE)",
      "8. model.frame.default(formula = abs(std.resd) ~ quarter + location + \n .     quarter * location, drop.unused.levels = TRUE)"
     ]
    }
   ],
   "source": [
    "levened <- aov(abs(std.resd) ~ quarter + location + quarter*location)\n",
    "Anova(levened)"
   ]
  },
  {
   "cell_type": "code",
   "execution_count": null,
   "metadata": {},
   "outputs": [],
   "source": []
  }
 ],
 "metadata": {
  "kernelspec": {
   "display_name": "R",
   "language": "R",
   "name": "ir"
  },
  "language_info": {
   "codemirror_mode": "r",
   "file_extension": ".r",
   "mimetype": "text/x-r-source",
   "name": "R",
   "pygments_lexer": "r",
   "version": "3.6.2"
  }
 },
 "nbformat": 4,
 "nbformat_minor": 2
}
